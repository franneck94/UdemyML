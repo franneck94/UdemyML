{
 "cells": [
  {
   "cell_type": "code",
   "execution_count": 1,
   "metadata": {},
   "outputs": [],
   "source": [
    "import numpy as np\n",
    "\n",
    "\n",
    "np.random.seed(42)"
   ]
  },
  {
   "cell_type": "code",
   "execution_count": 2,
   "metadata": {},
   "outputs": [],
   "source": [
    "from typing import List\n",
    "from typing import Tuple\n",
    "\n",
    "from sklearn.datasets import fetch_california_housing\n",
    "from sklearn.linear_model import LinearRegression\n",
    "from sklearn.model_selection import train_test_split"
   ]
  },
  {
   "cell_type": "code",
   "execution_count": 3,
   "metadata": {},
   "outputs": [],
   "source": [
    "dataset = fetch_california_housing()"
   ]
  },
  {
   "cell_type": "code",
   "execution_count": 4,
   "metadata": {},
   "outputs": [
    {
     "name": "stdout",
     "output_type": "stream",
     "text": [
      "Num features:  ['MedInc', 'HouseAge', 'AveRooms', 'AveBedrms', 'Population', 'AveOccup', 'Latitude', 'Longitude']\n"
     ]
    }
   ],
   "source": [
    "print(\"Num features: \", dataset.feature_names)"
   ]
  },
  {
   "cell_type": "code",
   "execution_count": 5,
   "metadata": {},
   "outputs": [],
   "source": [
    "x = dataset[\"data\"]\n",
    "y = dataset[\"target\"]"
   ]
  },
  {
   "cell_type": "code",
   "execution_count": 6,
   "metadata": {},
   "outputs": [
    {
     "name": "stdout",
     "output_type": "stream",
     "text": [
      "(20640, 8)\n",
      "(20640,)\n"
     ]
    }
   ],
   "source": [
    "print(x.shape)\n",
    "print(y.shape)"
   ]
  },
  {
   "attachments": {},
   "cell_type": "markdown",
   "metadata": {},
   "source": [
    "### Exercise 1\n",
    "\n",
    "Test the model performance for a subset of the given dataset where you only use one feature.\n"
   ]
  },
  {
   "cell_type": "code",
   "execution_count": 7,
   "metadata": {},
   "outputs": [
    {
     "name": "stdout",
     "output_type": "stream",
     "text": [
      "Featue: 0\tR2: 0.472932\n",
      "Featue: 1\tR2: 0.004318\n",
      "Featue: 2\tR2: 0.011952\n",
      "Featue: 3\tR2: -0.000451\n",
      "Featue: 4\tR2: 0.001144\n",
      "Featue: 5\tR2: 0.000134\n",
      "Featue: 6\tR2: 0.021466\n",
      "Featue: 7\tR2: 0.002054\n"
     ]
    }
   ],
   "source": [
    "scores: List[Tuple[int, float]] = []\n",
    "\n",
    "for feature_idx in range(len(dataset.feature_names)):\n",
    "    x_sliced = x[:, [feature_idx]]\n",
    "    x_train, x_test, y_train, y_test = train_test_split(\n",
    "        x_sliced, y, test_size=0.3\n",
    "    )\n",
    "\n",
    "    regr = LinearRegression()\n",
    "    regr.fit(x_train, y_train)\n",
    "    r2 = regr.score(x_test, y_test)\n",
    "    scores.append((feature_idx, r2))\n",
    "\n",
    "    print(f\"Featue: {feature_idx}\\tR2: {r2:.6f}\")"
   ]
  },
  {
   "attachments": {},
   "cell_type": "markdown",
   "metadata": {},
   "source": [
    "### Exercise 2\n",
    "\n",
    "Print the standard deviation, and variance of each feature.\n",
    "Do these values correlate to the performance differences from exercise 1?\n"
   ]
  },
  {
   "cell_type": "code",
   "execution_count": 8,
   "metadata": {},
   "outputs": [],
   "source": [
    "sorted_scores = sorted(scores, key=lambda x: x[1], reverse=True)"
   ]
  },
  {
   "cell_type": "code",
   "execution_count": 9,
   "metadata": {},
   "outputs": [
    {
     "name": "stdout",
     "output_type": "stream",
     "text": [
      "Feature: 0\tScore: 0.4729\tStd: 1.8998\tVar: 3.6091\n",
      "Feature: 6\tScore: 0.0215\tStd: 2.1359\tVar: 4.5621\n",
      "Feature: 2\tScore: 0.0120\tStd: 2.4741\tVar: 6.1212\n",
      "Feature: 1\tScore: 0.0043\tStd: 12.5853\tVar: 158.3886\n",
      "Feature: 7\tScore: 0.0021\tStd: 2.0035\tVar: 4.0139\n",
      "Feature: 4\tScore: 0.0011\tStd: 1132.4347\tVar: 1282408.3220\n",
      "Feature: 5\tScore: 0.0001\tStd: 10.3858\tVar: 107.8648\n",
      "Feature: 3\tScore: -0.0005\tStd: 0.4739\tVar: 0.2246\n"
     ]
    }
   ],
   "source": [
    "for feature_idx, score in sorted_scores:\n",
    "    x_sliced = x[:, [feature_idx]]\n",
    "    std = np.std(x_sliced)\n",
    "    var = np.var(x_sliced)\n",
    "\n",
    "    print(\n",
    "        f\"Feature: {feature_idx}\\tScore: {score:.4f}\\t\"\n",
    "        f\"Std: {std:.4f}\\tVar: {var:.4f}\"\n",
    "    )"
   ]
  }
 ],
 "metadata": {
  "kernelspec": {
   "display_name": "Python 3.9.7 ('base')",
   "language": "python",
   "name": "python3"
  },
  "language_info": {
   "codemirror_mode": {
    "name": "ipython",
    "version": 3
   },
   "file_extension": ".py",
   "mimetype": "text/x-python",
   "name": "python",
   "nbconvert_exporter": "python",
   "pygments_lexer": "ipython3",
   "version": "3.11.5"
  },
  "vscode": {
   "interpreter": {
    "hash": "26eab8343ce5ed02de4098c10e314ebb45ce0ac5e34fea85423d6f141bc9ca67"
   }
  }
 },
 "nbformat": 4,
 "nbformat_minor": 2
}
