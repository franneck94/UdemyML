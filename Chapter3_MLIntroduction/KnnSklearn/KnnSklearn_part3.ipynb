{
 "cells": [
  {
   "cell_type": "code",
   "execution_count": 44,
   "metadata": {},
   "outputs": [],
   "source": [
    "import numpy as np\n",
    "np.random.seed(42)\n",
    "from sklearn import datasets"
   ]
  },
  {
   "cell_type": "markdown",
   "metadata": {},
   "source": [
    "### Dataset preparation"
   ]
  },
  {
   "cell_type": "code",
   "execution_count": 45,
   "metadata": {},
   "outputs": [],
   "source": [
    "iris = datasets.load_iris()\n",
    "\n",
    "x = iris.data\n",
    "y = iris.target\n",
    "\n",
    "class_names = iris.target_names\n",
    "discription = iris.DESCR"
   ]
  },
  {
   "cell_type": "code",
   "execution_count": 46,
   "metadata": {},
   "outputs": [
    {
     "name": "stdout",
     "output_type": "stream",
     "text": [
      "x shape:\n",
      "(150, 4)\n",
      "y shape:\n",
      "(150,)\n"
     ]
    }
   ],
   "source": [
    "print(f\"x shape:\\n{x.shape}\")\n",
    "print(f\"y shape:\\n{y.shape}\")"
   ]
  },
  {
   "cell_type": "markdown",
   "metadata": {},
   "source": [
    "### Dataset Split"
   ]
  },
  {
   "cell_type": "code",
   "execution_count": 47,
   "metadata": {},
   "outputs": [
    {
     "name": "stdout",
     "output_type": "stream",
     "text": [
      "num_samples: 150\n",
      "num_features: 4\n",
      "num_classes: 3\n"
     ]
    }
   ],
   "source": [
    "num_samples = x.shape[0]\n",
    "num_features = x.shape[1]\n",
    "num_classes = len(class_names) # y.shape = (150,)\n",
    "\n",
    "print(f\"num_samples: {num_samples}\")\n",
    "print(f\"num_features: {num_features}\")\n",
    "print(f\"num_classes: {num_classes}\")"
   ]
  },
  {
   "cell_type": "code",
   "execution_count": 48,
   "metadata": {},
   "outputs": [],
   "source": [
    "test_size = num_samples // 3\n",
    "train_size = num_samples - test_size\n",
    "\n",
    "random_idxs = np.random.permutation(num_samples)\n",
    "\n",
    "x_train = x[random_idxs[:train_size]]\n",
    "y_train = y[random_idxs[:train_size]]\n",
    "\n",
    "x_test = x[random_idxs[train_size:]]\n",
    "y_test = y[random_idxs[train_size:]]"
   ]
  },
  {
   "cell_type": "code",
   "execution_count": 49,
   "metadata": {},
   "outputs": [
    {
     "name": "stdout",
     "output_type": "stream",
     "text": [
      "x_train.shape: (100, 4)\n",
      "y_train.shape: (100,)\n",
      "x_test.shape: (50, 4)\n",
      "y_test.shape: (50,)\n"
     ]
    }
   ],
   "source": [
    "print(f\"x_train.shape: {x_train.shape}\")\n",
    "print(f\"y_train.shape: {y_train.shape}\")\n",
    "\n",
    "print(f\"x_test.shape: {x_test.shape}\")\n",
    "print(f\"y_test.shape: {y_test.shape}\")"
   ]
  },
  {
   "attachments": {},
   "cell_type": "markdown",
   "metadata": {},
   "source": [
    "### KNN Model"
   ]
  },
  {
   "cell_type": "code",
   "execution_count": 50,
   "metadata": {},
   "outputs": [],
   "source": [
    "from sklearn.neighbors import KNeighborsClassifier"
   ]
  },
  {
   "cell_type": "code",
   "execution_count": 51,
   "metadata": {},
   "outputs": [
    {
     "name": "stdout",
     "output_type": "stream",
     "text": [
      "acc: 0.96\n",
      "y_pred: [0 0 0 2 2]\n"
     ]
    }
   ],
   "source": [
    "clf = KNeighborsClassifier(n_neighbors=3)\n",
    "clf.fit(x_train, y_train)\n",
    "\n",
    "accuracy = clf.score(x_test, y_test)\n",
    "print(f\"acc: {accuracy}\")\n",
    "\n",
    "y_pred = clf.predict(x_test[:5])\n",
    "print(f\"y_pred: {y_pred}\")"
   ]
  },
  {
   "attachments": {},
   "cell_type": "markdown",
   "metadata": {},
   "source": [
    "### Hyper Parameters"
   ]
  },
  {
   "cell_type": "code",
   "execution_count": 52,
   "metadata": {},
   "outputs": [],
   "source": [
    "n_neighbors = [n for n in range(1, 11)]  # [1, 2, 3, ..., 10]\n",
    "weight_modes = ['uniform', 'distance']"
   ]
  },
  {
   "cell_type": "code",
   "execution_count": 53,
   "metadata": {},
   "outputs": [
    {
     "name": "stdout",
     "output_type": "stream",
     "text": [
      "N: 1, W: uniform, Acc: 0.96\n",
      "N: 1, W: distance, Acc: 0.96\n",
      "N: 2, W: uniform, Acc: 0.96\n",
      "N: 2, W: distance, Acc: 0.96\n",
      "N: 3, W: uniform, Acc: 0.96\n",
      "N: 3, W: distance, Acc: 0.96\n",
      "N: 4, W: uniform, Acc: 0.96\n",
      "N: 4, W: distance, Acc: 0.96\n",
      "N: 5, W: uniform, Acc: 0.96\n",
      "N: 5, W: distance, Acc: 0.96\n",
      "N: 6, W: uniform, Acc: 0.96\n",
      "N: 6, W: distance, Acc: 0.96\n",
      "N: 7, W: uniform, Acc: 0.96\n",
      "N: 7, W: distance, Acc: 0.96\n",
      "N: 8, W: uniform, Acc: 0.98\n",
      "N: 8, W: distance, Acc: 0.96\n",
      "N: 9, W: uniform, Acc: 0.96\n",
      "N: 9, W: distance, Acc: 0.96\n",
      "N: 10, W: uniform, Acc: 0.96\n",
      "N: 10, W: distance, Acc: 0.96\n"
     ]
    }
   ],
   "source": [
    "for n in n_neighbors:\n",
    "    for w in weight_modes:\n",
    "        clf = KNeighborsClassifier(n_neighbors=n, weights=w)\n",
    "        clf.fit(x_train, y_train)\n",
    "        accuracy = clf.score(x_test, y_test)\n",
    "        print(f\"N: {n}, W: {w}, Acc: {accuracy}\")"
   ]
  },
  {
   "attachments": {},
   "cell_type": "markdown",
   "metadata": {},
   "source": [
    "### Best KNN Model"
   ]
  },
  {
   "cell_type": "code",
   "execution_count": 54,
   "metadata": {},
   "outputs": [
    {
     "name": "stdout",
     "output_type": "stream",
     "text": [
      "acc: 0.98\n",
      "y_pred: [0 0 0 1 2]\n",
      "y_pred_proba:\n",
      "[[1.  0.  0. ]\n",
      " [1.  0.  0. ]\n",
      " [1.  0.  0. ]\n",
      " [0.  0.5 0.5]\n",
      " [0.  0.  1. ]]\n"
     ]
    }
   ],
   "source": [
    "clf = KNeighborsClassifier(n_neighbors=8, weights=\"uniform\")\n",
    "clf.fit(x_train, y_train)\n",
    "\n",
    "accuracy = clf.score(x_test, y_test)\n",
    "print(f\"acc: {accuracy}\")\n",
    "\n",
    "y_pred = clf.predict(x_test[:5])\n",
    "print(f\"y_pred: {y_pred}\")\n",
    "\n",
    "y_pred_proba = clf.predict_proba(x_test[:5])\n",
    "print(f\"y_pred_proba:\\n{y_pred_proba}\")"
   ]
  }
 ],
 "metadata": {
  "kernelspec": {
   "display_name": "base",
   "language": "python",
   "name": "python3"
  },
  "language_info": {
   "codemirror_mode": {
    "name": "ipython",
    "version": 3
   },
   "file_extension": ".py",
   "mimetype": "text/x-python",
   "name": "python",
   "nbconvert_exporter": "python",
   "pygments_lexer": "ipython3",
   "version": "3.9.7"
  },
  "vscode": {
   "interpreter": {
    "hash": "26eab8343ce5ed02de4098c10e314ebb45ce0ac5e34fea85423d6f141bc9ca67"
   }
  }
 },
 "nbformat": 4,
 "nbformat_minor": 4
}
