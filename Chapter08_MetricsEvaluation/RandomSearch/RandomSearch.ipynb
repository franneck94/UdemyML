{
 "cells": [
  {
   "cell_type": "markdown",
   "metadata": {},
   "source": [
    "#### Data preparation\n"
   ]
  },
  {
   "cell_type": "code",
   "execution_count": 10,
   "metadata": {},
   "outputs": [],
   "source": [
    "import numpy as np\n",
    "\n",
    "\n",
    "np.random.seed(42)"
   ]
  },
  {
   "cell_type": "code",
   "execution_count": 11,
   "metadata": {},
   "outputs": [],
   "source": [
    "from sklearn.datasets import load_breast_cancer\n",
    "from sklearn.model_selection import train_test_split\n",
    "from sklearn.neighbors import KNeighborsClassifier"
   ]
  },
  {
   "cell_type": "code",
   "execution_count": 12,
   "metadata": {},
   "outputs": [
    {
     "name": "stdout",
     "output_type": "stream",
     "text": [
      "x_train shape: (455, 30) x_test.shape: (114, 30)\n"
     ]
    }
   ],
   "source": [
    "dataset = load_breast_cancer()\n",
    "x = dataset.data\n",
    "y = dataset.target\n",
    "\n",
    "x_train, x_test, y_train, y_test = train_test_split(x, y, test_size=0.2)\n",
    "print(f\"x_train shape: {x_train.shape} x_test.shape: {x_test.shape}\")"
   ]
  },
  {
   "cell_type": "markdown",
   "metadata": {},
   "source": [
    "#### Random Search\n"
   ]
  },
  {
   "cell_type": "code",
   "execution_count": 13,
   "metadata": {},
   "outputs": [],
   "source": [
    "from scipy.stats import randint as sp_randint\n",
    "from sklearn.model_selection import RandomizedSearchCV"
   ]
  },
  {
   "cell_type": "code",
   "execution_count": 14,
   "metadata": {},
   "outputs": [
    {
     "data": {
      "text/plain": [
       "RandomizedSearchCV(cv=3, estimator=KNeighborsClassifier(),\n",
       "                   param_distributions={'n_neighbors': <scipy.stats._distn_infrastructure.rv_frozen object at 0x000002C3248B9CD0>,\n",
       "                                        'weights': ['uniform', 'distance']})"
      ]
     },
     "execution_count": 14,
     "metadata": {},
     "output_type": "execute_result"
    }
   ],
   "source": [
    "param_dist = {\n",
    "    \"n_neighbors\": sp_randint(1, 15),\n",
    "    \"weights\": [\"uniform\", \"distance\"],\n",
    "}\n",
    "n_iter_search = 10\n",
    "\n",
    "clf = KNeighborsClassifier()\n",
    "rand_cv = RandomizedSearchCV(\n",
    "    clf, param_distributions=param_dist, n_iter=n_iter_search, cv=3\n",
    ")\n",
    "rand_cv.fit(x_train, y_train)"
   ]
  },
  {
   "cell_type": "code",
   "execution_count": 15,
   "metadata": {},
   "outputs": [
    {
     "name": "stdout",
     "output_type": "stream",
     "text": [
      "GridSearch Keys:\n",
      "\tmean_fit_time\n",
      "\tstd_fit_time\n",
      "\tmean_score_time\n",
      "\tstd_score_time\n",
      "\tparam_n_neighbors\n",
      "\tparam_weights\n",
      "\tparams\n",
      "\tsplit0_test_score\n",
      "\tsplit1_test_score\n",
      "\tsplit2_test_score\n",
      "\tmean_test_score\n",
      "\tstd_test_score\n",
      "\trank_test_score\n"
     ]
    }
   ],
   "source": [
    "print(\"GridSearch Keys:\")\n",
    "for key in rand_cv.cv_results_.keys():\n",
    "    print(f\"\\t{key}\")"
   ]
  },
  {
   "cell_type": "code",
   "execution_count": 16,
   "metadata": {},
   "outputs": [
    {
     "name": "stdout",
     "output_type": "stream",
     "text": [
      "GridSearch Params:\n",
      "{'n_neighbors': 9, 'weights': 'uniform'}\n",
      "{'n_neighbors': 12, 'weights': 'distance'}\n",
      "{'n_neighbors': 4, 'weights': 'uniform'}\n",
      "{'n_neighbors': 10, 'weights': 'uniform'}\n",
      "{'n_neighbors': 5, 'weights': 'uniform'}\n",
      "{'n_neighbors': 3, 'weights': 'distance'}\n",
      "{'n_neighbors': 9, 'weights': 'distance'}\n",
      "{'n_neighbors': 11, 'weights': 'uniform'}\n",
      "{'n_neighbors': 4, 'weights': 'uniform'}\n",
      "{'n_neighbors': 7, 'weights': 'distance'}\n"
     ]
    }
   ],
   "source": [
    "print(\"GridSearch Params:\")\n",
    "for param in rand_cv.cv_results_[\"params\"]:\n",
    "    print(param)"
   ]
  },
  {
   "cell_type": "code",
   "execution_count": 17,
   "metadata": {},
   "outputs": [
    {
     "name": "stdout",
     "output_type": "stream",
     "text": [
      "Best parameters set found on development set: {'n_neighbors': 5, 'weights': 'uniform'}\n",
      "\n",
      "0.921 (+/-0.048) for {'n_neighbors': 9, 'weights': 'uniform'}\n",
      "0.919 (+/-0.056) for {'n_neighbors': 12, 'weights': 'distance'}\n",
      "0.916 (+/-0.006) for {'n_neighbors': 4, 'weights': 'uniform'}\n",
      "0.921 (+/-0.054) for {'n_neighbors': 10, 'weights': 'uniform'}\n",
      "0.927 (+/-0.033) for {'n_neighbors': 5, 'weights': 'uniform'}\n",
      "0.919 (+/-0.044) for {'n_neighbors': 3, 'weights': 'distance'}\n",
      "0.921 (+/-0.048) for {'n_neighbors': 9, 'weights': 'distance'}\n",
      "0.919 (+/-0.056) for {'n_neighbors': 11, 'weights': 'uniform'}\n",
      "0.916 (+/-0.006) for {'n_neighbors': 4, 'weights': 'uniform'}\n",
      "0.921 (+/-0.044) for {'n_neighbors': 7, 'weights': 'distance'}\n"
     ]
    }
   ],
   "source": [
    "print(f\"Best parameters set found on development set: {rand_cv.best_params_}\\n\")\n",
    "\n",
    "means = rand_cv.cv_results_[\"mean_test_score\"]\n",
    "stds = rand_cv.cv_results_[\"std_test_score\"]\n",
    "\n",
    "for mean, std, params in zip(means, stds, rand_cv.cv_results_[\"params\"]):\n",
    "    print(f\"{mean:.3f} (+/-{2*std:.3f}) for {params}\")"
   ]
  },
  {
   "cell_type": "markdown",
   "metadata": {},
   "source": [
    "#### Best Found model\n"
   ]
  },
  {
   "cell_type": "code",
   "execution_count": 19,
   "metadata": {},
   "outputs": [
    {
     "name": "stdout",
     "output_type": "stream",
     "text": [
      "Accuracy: 0.956140350877193\n"
     ]
    }
   ],
   "source": [
    "clf = KNeighborsClassifier(n_neighbors=5, weights=\"uniform\")\n",
    "clf.fit(x_train, y_train)\n",
    "score = clf.score(x_test, y_test)\n",
    "print(f\"Accuracy: {score}\")"
   ]
  }
 ],
 "metadata": {
  "kernelspec": {
   "display_name": "Python 3.9.7 ('base')",
   "language": "python",
   "name": "python3"
  },
  "language_info": {
   "codemirror_mode": {
    "name": "ipython",
    "version": 3
   },
   "file_extension": ".py",
   "mimetype": "text/x-python",
   "name": "python",
   "nbconvert_exporter": "python",
   "pygments_lexer": "ipython3",
   "version": "3.9.7"
  },
  "vscode": {
   "interpreter": {
    "hash": "26eab8343ce5ed02de4098c10e314ebb45ce0ac5e34fea85423d6f141bc9ca67"
   }
  }
 },
 "nbformat": 4,
 "nbformat_minor": 2
}
