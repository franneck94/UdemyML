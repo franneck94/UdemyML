{
 "cells": [
  {
   "cell_type": "markdown",
   "metadata": {},
   "source": [
    "#### Data preparation\n"
   ]
  },
  {
   "cell_type": "code",
   "execution_count": 29,
   "metadata": {},
   "outputs": [],
   "source": [
    "import numpy as np\n",
    "\n",
    "\n",
    "np.random.seed(42)"
   ]
  },
  {
   "cell_type": "code",
   "execution_count": 30,
   "metadata": {},
   "outputs": [],
   "source": [
    "from sklearn.datasets import load_breast_cancer\n",
    "from sklearn.model_selection import train_test_split\n",
    "from sklearn.neighbors import KNeighborsClassifier"
   ]
  },
  {
   "cell_type": "code",
   "execution_count": 31,
   "metadata": {},
   "outputs": [
    {
     "name": "stdout",
     "output_type": "stream",
     "text": [
      "x_train shape: (455, 30) x_test.shape: (114, 30)\n"
     ]
    }
   ],
   "source": [
    "dataset = load_breast_cancer()\n",
    "x = dataset.data\n",
    "y = dataset.target\n",
    "\n",
    "x_train, x_test, y_train, y_test = train_test_split(x, y, test_size=0.2)\n",
    "print(f\"x_train shape: {x_train.shape} x_test.shape: {x_test.shape}\")"
   ]
  },
  {
   "cell_type": "markdown",
   "metadata": {},
   "source": [
    "#### Grid Search\n"
   ]
  },
  {
   "cell_type": "code",
   "execution_count": 32,
   "metadata": {},
   "outputs": [],
   "source": [
    "from sklearn.model_selection import GridSearchCV"
   ]
  },
  {
   "cell_type": "code",
   "execution_count": 33,
   "metadata": {},
   "outputs": [
    {
     "data": {
      "text/plain": [
       "GridSearchCV(cv=3, estimator=KNeighborsClassifier(),\n",
       "             param_grid={'n_neighbors': [3, 5, 7, 9],\n",
       "                         'weights': ['uniform', 'distance']})"
      ]
     },
     "execution_count": 33,
     "metadata": {},
     "output_type": "execute_result"
    }
   ],
   "source": [
    "# Params for KNN: n_neighbors and weights\n",
    "parameters = {\"n_neighbors\": [3, 5, 7, 9], \"weights\": [\"uniform\", \"distance\"]}\n",
    "\n",
    "clf = KNeighborsClassifier()\n",
    "grid_cv = GridSearchCV(clf, parameters, cv=3)\n",
    "grid_cv.fit(x_train, y_train)"
   ]
  },
  {
   "cell_type": "code",
   "execution_count": 34,
   "metadata": {
    "scrolled": true
   },
   "outputs": [
    {
     "name": "stdout",
     "output_type": "stream",
     "text": [
      "GridSearch Keys:\n",
      "\tmean_fit_time\n",
      "\tstd_fit_time\n",
      "\tmean_score_time\n",
      "\tstd_score_time\n",
      "\tparam_n_neighbors\n",
      "\tparam_weights\n",
      "\tparams\n",
      "\tsplit0_test_score\n",
      "\tsplit1_test_score\n",
      "\tsplit2_test_score\n",
      "\tmean_test_score\n",
      "\tstd_test_score\n",
      "\trank_test_score\n"
     ]
    }
   ],
   "source": [
    "print(\"GridSearch Keys:\")\n",
    "for key in grid_cv.cv_results_.keys():\n",
    "    print(f\"\\t{key}\")"
   ]
  },
  {
   "cell_type": "code",
   "execution_count": 35,
   "metadata": {},
   "outputs": [
    {
     "name": "stdout",
     "output_type": "stream",
     "text": [
      "GridSearch Params:\n",
      "{'n_neighbors': 3, 'weights': 'uniform'}\n",
      "{'n_neighbors': 3, 'weights': 'distance'}\n",
      "{'n_neighbors': 5, 'weights': 'uniform'}\n",
      "{'n_neighbors': 5, 'weights': 'distance'}\n",
      "{'n_neighbors': 7, 'weights': 'uniform'}\n",
      "{'n_neighbors': 7, 'weights': 'distance'}\n",
      "{'n_neighbors': 9, 'weights': 'uniform'}\n",
      "{'n_neighbors': 9, 'weights': 'distance'}\n"
     ]
    }
   ],
   "source": [
    "print(\"GridSearch Params:\")\n",
    "for param in grid_cv.cv_results_[\"params\"]:\n",
    "    print(param)"
   ]
  },
  {
   "cell_type": "code",
   "execution_count": 36,
   "metadata": {
    "scrolled": true
   },
   "outputs": [
    {
     "name": "stdout",
     "output_type": "stream",
     "text": [
      "Best parameters set found on development set: {'n_neighbors': 5, 'weights': 'uniform'}\n",
      "\n",
      "0.914 (+/-0.048) for {'n_neighbors': 3, 'weights': 'uniform'}\n",
      "0.919 (+/-0.044) for {'n_neighbors': 3, 'weights': 'distance'}\n",
      "0.927 (+/-0.033) for {'n_neighbors': 5, 'weights': 'uniform'}\n",
      "0.921 (+/-0.050) for {'n_neighbors': 5, 'weights': 'distance'}\n",
      "0.923 (+/-0.038) for {'n_neighbors': 7, 'weights': 'uniform'}\n",
      "0.921 (+/-0.044) for {'n_neighbors': 7, 'weights': 'distance'}\n",
      "0.921 (+/-0.048) for {'n_neighbors': 9, 'weights': 'uniform'}\n",
      "0.921 (+/-0.048) for {'n_neighbors': 9, 'weights': 'distance'}\n"
     ]
    }
   ],
   "source": [
    "print(f\"Best parameters set found on development set: {grid_cv.best_params_}\\n\")\n",
    "\n",
    "means = grid_cv.cv_results_[\"mean_test_score\"]\n",
    "stds = grid_cv.cv_results_[\"std_test_score\"]\n",
    "\n",
    "for mean, std, params in zip(means, stds, grid_cv.cv_results_[\"params\"]):\n",
    "    print(f\"{mean:.3f} (+/-{2*std:.3f}) for {params}\")"
   ]
  },
  {
   "cell_type": "markdown",
   "metadata": {},
   "source": [
    "#### Best Found model\n"
   ]
  },
  {
   "cell_type": "code",
   "execution_count": 37,
   "metadata": {},
   "outputs": [
    {
     "name": "stdout",
     "output_type": "stream",
     "text": [
      "Accuracy: 0.956140350877193\n"
     ]
    }
   ],
   "source": [
    "clf = KNeighborsClassifier(n_neighbors=5, weights=\"uniform\")\n",
    "clf.fit(x_train, y_train)\n",
    "score = clf.score(x_test, y_test)\n",
    "print(f\"Accuracy: {score}\")"
   ]
  }
 ],
 "metadata": {
  "kernelspec": {
   "display_name": "Python 3.9.7 ('base')",
   "language": "python",
   "name": "python3"
  },
  "language_info": {
   "codemirror_mode": {
    "name": "ipython",
    "version": 3
   },
   "file_extension": ".py",
   "mimetype": "text/x-python",
   "name": "python",
   "nbconvert_exporter": "python",
   "pygments_lexer": "ipython3",
   "version": "3.9.7"
  },
  "vscode": {
   "interpreter": {
    "hash": "26eab8343ce5ed02de4098c10e314ebb45ce0ac5e34fea85423d6f141bc9ca67"
   }
  }
 },
 "nbformat": 4,
 "nbformat_minor": 2
}
