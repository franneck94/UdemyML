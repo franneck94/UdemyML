{
 "cells": [
  {
   "cell_type": "markdown",
   "metadata": {},
   "source": [
    "#### Imports"
   ]
  },
  {
   "cell_type": "code",
   "execution_count": 18,
   "metadata": {},
   "outputs": [],
   "source": [
    "import numpy as np\n",
    "\n",
    "\n",
    "np.random.seed(42)"
   ]
  },
  {
   "cell_type": "code",
   "execution_count": 19,
   "metadata": {},
   "outputs": [],
   "source": [
    "import matplotlib.pyplot as plt\n",
    "from sklearn.datasets import load_digits"
   ]
  },
  {
   "cell_type": "markdown",
   "metadata": {},
   "source": [
    "#### Dataset"
   ]
  },
  {
   "cell_type": "code",
   "execution_count": 20,
   "metadata": {},
   "outputs": [],
   "source": [
    "dataset = load_digits()"
   ]
  },
  {
   "cell_type": "code",
   "execution_count": 21,
   "metadata": {},
   "outputs": [
    {
     "name": "stdout",
     "output_type": "stream",
     "text": [
      "x-shape: (1797, 64)\n"
     ]
    }
   ],
   "source": [
    "x = dataset.data\n",
    "y = dataset.target\n",
    "\n",
    "print(f\"x-shape: {x.shape}\")"
   ]
  },
  {
   "cell_type": "code",
   "execution_count": 22,
   "metadata": {},
   "outputs": [],
   "source": [
    "from sklearn.decomposition import PCA"
   ]
  },
  {
   "cell_type": "markdown",
   "metadata": {},
   "source": [
    "#### Programmieraufgabe"
   ]
  },
  {
   "cell_type": "markdown",
   "metadata": {},
   "source": [
    "Aufgabe 1:\n",
    "\n",
    "Find die Anzahl an Dimensionen, um 90% der Varianz \"zu erklären\""
   ]
  },
  {
   "cell_type": "code",
   "execution_count": 23,
   "metadata": {
    "scrolled": true
   },
   "outputs": [
    {
     "name": "stdout",
     "output_type": "stream",
     "text": [
      "Explained Variance Ratio:\n",
      "[0.14890594 0.13618771 0.11794594 0.08409979 0.05782415 0.0491691\n",
      " 0.04315987 0.03661373 0.03353248 0.03078806 0.02372341 0.02272697\n",
      " 0.01821863 0.01773855 0.01467101 0.01409716 0.01318589 0.01248138\n",
      " 0.01017718 0.00905617 0.00889538]\n"
     ]
    }
   ],
   "source": [
    "pca = PCA(n_components=0.90, copy=True)\n",
    "pca.fit(x)\n",
    "x_pca = pca.transform(x)\n",
    "\n",
    "print(f\"Explained Variance Ratio:\\n{pca.explained_variance_ratio_}\")"
   ]
  },
  {
   "cell_type": "markdown",
   "metadata": {},
   "source": [
    "# Aufgabe 2\n",
    "\n",
    "Wende das gefundene Setup auf die Daten an"
   ]
  },
  {
   "cell_type": "code",
   "execution_count": 24,
   "metadata": {},
   "outputs": [],
   "source": [
    "x_pca = pca.transform(x)"
   ]
  },
  {
   "cell_type": "markdown",
   "metadata": {},
   "source": [
    "# Aufgabe 3\n",
    "\n",
    "Split das Dataset in ein Train and Testset"
   ]
  },
  {
   "cell_type": "code",
   "execution_count": 25,
   "metadata": {
    "scrolled": true
   },
   "outputs": [],
   "source": [
    "from sklearn.model_selection import train_test_split\n",
    "\n",
    "\n",
    "x_train, x_test, y_train, y_test = train_test_split(x_pca, y, test_size=0.30)"
   ]
  },
  {
   "cell_type": "markdown",
   "metadata": {},
   "source": [
    "# Aufgabe 4\n",
    "\n",
    "Wende den KNN-Classifier auf den transformierten Daten an.  \n",
    "Du kannst dabei auch mit einer For-Schleife die optimale Anzahl an Nachbarn bestimmen."
   ]
  },
  {
   "cell_type": "code",
   "execution_count": 26,
   "metadata": {
    "scrolled": true
   },
   "outputs": [
    {
     "name": "stdout",
     "output_type": "stream",
     "text": [
      "Accuracy: 0.987037037037037 with: 1 neighbors\n",
      "Accuracy: 0.9888888888888889 with: 3 neighbors\n",
      "Accuracy: 0.9907407407407407 with: 5 neighbors\n",
      "Accuracy: 0.9925925925925926 with: 7 neighbors\n"
     ]
    }
   ],
   "source": [
    "from sklearn.neighbors import KNeighborsClassifier\n",
    "\n",
    "\n",
    "best_score = 0.0\n",
    "for i in range(1, 11):\n",
    "    n_neighbors = i\n",
    "    neigh = KNeighborsClassifier(n_neighbors=n_neighbors)\n",
    "    neigh.fit(x_train, y_train)\n",
    "    score = neigh.score(x_test, y_test)\n",
    "\n",
    "    if score > best_score:\n",
    "        best_score = score\n",
    "        print(f\"Accuracy: {score} with: {n_neighbors} neighbors\")"
   ]
  },
  {
   "cell_type": "markdown",
   "metadata": {},
   "source": [
    "# Aufgabe 5\n",
    "\n",
    "Wende den KNN-Classifier auf den Standardisierten (aber nicht PCA transofrmierten) Daten an.  \n",
    "Teste auch hier wieder, welche Anzahl an Nachbarn optimal ist.  \n",
    "Was für Performance-Unterschiede sind zu beobachten?"
   ]
  },
  {
   "cell_type": "code",
   "execution_count": 27,
   "metadata": {
    "scrolled": true
   },
   "outputs": [
    {
     "name": "stdout",
     "output_type": "stream",
     "text": [
      "Accuracy: 0.9925925925925926 with: 1 neighbors\n"
     ]
    }
   ],
   "source": [
    "x_train, x_test, y_train, y_test = train_test_split(x, y, test_size=0.30)\n",
    "\n",
    "best_score = 0.0\n",
    "for i in range(1, 11):\n",
    "    n_neighbors = i\n",
    "    neigh = KNeighborsClassifier(n_neighbors=n_neighbors)\n",
    "    neigh.fit(x_train, y_train)\n",
    "    score = neigh.score(x_test, y_test)\n",
    "\n",
    "    if score > best_score:\n",
    "        best_score = score\n",
    "        print(f\"Accuracy: {score} with: {n_neighbors} neighbors\")"
   ]
  }
 ],
 "metadata": {
  "kernelspec": {
   "display_name": "base",
   "language": "python",
   "name": "python3"
  },
  "language_info": {
   "codemirror_mode": {
    "name": "ipython",
    "version": 3
   },
   "file_extension": ".py",
   "mimetype": "text/x-python",
   "name": "python",
   "nbconvert_exporter": "python",
   "pygments_lexer": "ipython3",
   "version": "3.9.7"
  },
  "vscode": {
   "interpreter": {
    "hash": "26eab8343ce5ed02de4098c10e314ebb45ce0ac5e34fea85423d6f141bc9ca67"
   }
  }
 },
 "nbformat": 4,
 "nbformat_minor": 2
}
