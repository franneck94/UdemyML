{
 "cells": [
  {
   "cell_type": "code",
   "execution_count": 36,
   "metadata": {},
   "outputs": [],
   "source": [
    "import numpy as np\n",
    "np.random.seed(42)\n",
    "from sklearn import datasets"
   ]
  },
  {
   "cell_type": "markdown",
   "metadata": {},
   "source": [
    "### Dataset preparation"
   ]
  },
  {
   "cell_type": "code",
   "execution_count": 37,
   "metadata": {},
   "outputs": [],
   "source": [
    "iris = datasets.load_iris()\n",
    "\n",
    "x = iris.data[:, [0, 1]]\n",
    "x = iris.data[:, [0, 2]]\n",
    "x = iris.data[:, [0, 3]]\n",
    "x = iris.data[:, [1, 2]]\n",
    "x = iris.data[:, [1, 3]]\n",
    "\n",
    "y = iris.target\n",
    "\n",
    "class_names = iris.target_names\n",
    "discription = iris.DESCR"
   ]
  },
  {
   "cell_type": "markdown",
   "metadata": {},
   "source": [
    "### Dataset Split"
   ]
  },
  {
   "cell_type": "code",
   "execution_count": 38,
   "metadata": {
    "scrolled": true
   },
   "outputs": [
    {
     "name": "stdout",
     "output_type": "stream",
     "text": [
      "num_samples: 150\n",
      "num_features: 2\n"
     ]
    }
   ],
   "source": [
    "num_samples = x.shape[0]\n",
    "num_features = x.shape[1]\n",
    "\n",
    "print(f\"num_samples: {num_samples}\")\n",
    "print(f\"num_features: {num_features}\")"
   ]
  },
  {
   "cell_type": "code",
   "execution_count": 39,
   "metadata": {},
   "outputs": [],
   "source": [
    "test_size = num_samples // 3\n",
    "random_idxs = np.random.permutation(num_samples)\n",
    "\n",
    "x_train = x[random_idxs[:-test_size]]\n",
    "y_train = y[random_idxs[:-test_size]]\n",
    "\n",
    "x_test = x[random_idxs[-test_size:]]\n",
    "y_test = y[random_idxs[-test_size:]]"
   ]
  },
  {
   "cell_type": "code",
   "execution_count": 40,
   "metadata": {
    "scrolled": true
   },
   "outputs": [
    {
     "name": "stdout",
     "output_type": "stream",
     "text": [
      "x_train shape:\n",
      "(100, 2)\n",
      "y_train shape:\n",
      "(100,)\n",
      "x_test shape:\n",
      "(50, 2)\n",
      "y_test shape:\n",
      "(50,)\n"
     ]
    }
   ],
   "source": [
    "print(f\"x_train shape:\\n{x_train.shape}\")\n",
    "print(f\"y_train shape:\\n{y_train.shape}\")\n",
    "\n",
    "print(f\"x_test shape:\\n{x_test.shape}\")\n",
    "print(f\"y_test shape:\\n{y_test.shape}\")"
   ]
  },
  {
   "cell_type": "markdown",
   "metadata": {},
   "source": [
    "### KNN Model"
   ]
  },
  {
   "cell_type": "code",
   "execution_count": 41,
   "metadata": {},
   "outputs": [
    {
     "name": "stdout",
     "output_type": "stream",
     "text": [
      "accuracy: 98.0%\n",
      "y_pred:\n",
      "[0 0 0 1 2 0 2 2 0 1 1 2 1 2 0 2 1 2 1 1 1 0 1 1 0 1 2 2 0 1 2 1 0 2 0 1 2\n",
      " 2 1 2 1 1 2 2 0 1 2 0 1 2]\n"
     ]
    }
   ],
   "source": [
    "from sklearn.neighbors import KNeighborsClassifier\n",
    "\n",
    "clf = KNeighborsClassifier(n_neighbors=3)\n",
    "clf.fit(x_train, y_train)\n",
    "\n",
    "accuracy = clf.score(x_test, y_test)\n",
    "print(f\"accuracy: {accuracy*100.0:.4}%\")\n",
    "\n",
    "y_pred = clf.predict(x_test)\n",
    "print(f\"y_pred:\\n{y_pred}\")"
   ]
  },
  {
   "cell_type": "markdown",
   "metadata": {},
   "source": [
    "### Try different hyperparameters"
   ]
  },
  {
   "cell_type": "code",
   "execution_count": 42,
   "metadata": {
    "scrolled": true
   },
   "outputs": [
    {
     "name": "stdout",
     "output_type": "stream",
     "text": [
      "Neighbors: 1  Weight: uniform  Score: 0.94\n",
      "Neighbors: 2  Weight: uniform  Score: 0.98\n"
     ]
    }
   ],
   "source": [
    "n_neighbors = [n_neighbor for n_neighbor in range(1, 11)] # [1, 2, ..., 10]\n",
    "weight_modes = ['uniform', 'distance']\n",
    "\n",
    "best_acc = 0.0\n",
    "\n",
    "# 10 x 2 = 20 Models\n",
    "for n_neighbor in n_neighbors:\n",
    "    for weight_mode in weight_modes:\n",
    "        clf = KNeighborsClassifier(\n",
    "            n_neighbors=n_neighbor,\n",
    "            weights=weight_mode\n",
    "        )\n",
    "        clf.fit(x_train, y_train)\n",
    "        accuracy = clf.score(x_test, y_test)\n",
    "        if accuracy > best_acc:\n",
    "            best_acc = accuracy\n",
    "            print(\n",
    "                f\"Neighbors: {n_neighbor}  \"\n",
    "                f\"Weight: {weight_mode}  \"\n",
    "                f\"Score: {accuracy:.4}\"\n",
    "            )"
   ]
  },
  {
   "attachments": {},
   "cell_type": "markdown",
   "metadata": {},
   "source": [
    "### Performances"
   ]
  },
  {
   "attachments": {},
   "cell_type": "markdown",
   "metadata": {},
   "source": [
    "- 0, 1: Neighbors: 8  Weight: uniform  Score: 0.74\n",
    "- 0, 2: Neighbors: 5  Weight: uniform  Score: 0.96\n",
    "- 0, 3: Neighbors: 4  Weight: uniform  Score: 0.96\n",
    "- 1, 2: Neighbors: 10  Weight: uniform  Score: 0.96\n",
    "- 1, 3: Neighbors: 2  Weight: uniform  Score: 0.98"
   ]
  }
 ],
 "metadata": {
  "kernelspec": {
   "display_name": "Python 3.9.7 ('base')",
   "language": "python",
   "name": "python3"
  },
  "language_info": {
   "codemirror_mode": {
    "name": "ipython",
    "version": 3
   },
   "file_extension": ".py",
   "mimetype": "text/x-python",
   "name": "python",
   "nbconvert_exporter": "python",
   "pygments_lexer": "ipython3",
   "version": "3.9.7"
  },
  "vscode": {
   "interpreter": {
    "hash": "26eab8343ce5ed02de4098c10e314ebb45ce0ac5e34fea85423d6f141bc9ca67"
   }
  }
 },
 "nbformat": 4,
 "nbformat_minor": 4
}
