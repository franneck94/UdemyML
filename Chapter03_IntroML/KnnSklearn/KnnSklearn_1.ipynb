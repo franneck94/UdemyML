{
 "cells": [
  {
   "cell_type": "code",
   "execution_count": 14,
   "metadata": {},
   "outputs": [],
   "source": [
    "import numpy as np\n",
    "\n",
    "\n",
    "np.random.seed(42)\n",
    "from sklearn import datasets"
   ]
  },
  {
   "cell_type": "markdown",
   "metadata": {},
   "source": [
    "### Dataset preparation"
   ]
  },
  {
   "cell_type": "code",
   "execution_count": 15,
   "metadata": {},
   "outputs": [],
   "source": [
    "iris = datasets.load_iris()\n",
    "\n",
    "x = iris.data\n",
    "y = iris.target\n",
    "\n",
    "class_names = iris.target_names\n",
    "discription = iris.DESCR"
   ]
  },
  {
   "cell_type": "code",
   "execution_count": 16,
   "metadata": {},
   "outputs": [
    {
     "name": "stdout",
     "output_type": "stream",
     "text": [
      "x shape:\n",
      "(150, 4)\n",
      "y shape:\n",
      "(150,)\n"
     ]
    }
   ],
   "source": [
    "print(f\"x shape:\\n{x.shape}\")\n",
    "print(f\"y shape:\\n{y.shape}\")"
   ]
  },
  {
   "cell_type": "markdown",
   "metadata": {},
   "source": [
    "### Dataset Split"
   ]
  },
  {
   "cell_type": "code",
   "execution_count": 17,
   "metadata": {},
   "outputs": [
    {
     "name": "stdout",
     "output_type": "stream",
     "text": [
      "num_samples: 150\n",
      "num_features: 4\n",
      "num_classes: 3\n"
     ]
    }
   ],
   "source": [
    "num_samples = x.shape[0]\n",
    "num_features = x.shape[1]\n",
    "num_classes = len(class_names)  # y.shape = (150,)\n",
    "\n",
    "print(f\"num_samples: {num_samples}\")\n",
    "print(f\"num_features: {num_features}\")\n",
    "print(f\"num_classes: {num_classes}\")"
   ]
  },
  {
   "cell_type": "code",
   "execution_count": 18,
   "metadata": {},
   "outputs": [],
   "source": [
    "test_size = num_samples // 3\n",
    "train_size = num_samples - test_size\n",
    "\n",
    "random_idxs = np.random.permutation(num_samples)\n",
    "\n",
    "x_train = x[random_idxs[:train_size]]\n",
    "y_train = y[random_idxs[:train_size]]\n",
    "\n",
    "x_test = x[random_idxs[train_size:]]\n",
    "y_test = y[random_idxs[train_size:]]"
   ]
  },
  {
   "cell_type": "code",
   "execution_count": 19,
   "metadata": {},
   "outputs": [
    {
     "name": "stdout",
     "output_type": "stream",
     "text": [
      "x_train.shape: (100, 4)\n",
      "y_train.shape: (100,)\n",
      "x_test.shape: (50, 4)\n",
      "y_test.shape: (50,)\n"
     ]
    }
   ],
   "source": [
    "print(f\"x_train.shape: {x_train.shape}\")\n",
    "print(f\"y_train.shape: {y_train.shape}\")\n",
    "\n",
    "print(f\"x_test.shape: {x_test.shape}\")\n",
    "print(f\"y_test.shape: {y_test.shape}\")"
   ]
  }
 ],
 "metadata": {
  "kernelspec": {
   "display_name": "base",
   "language": "python",
   "name": "python3"
  },
  "language_info": {
   "codemirror_mode": {
    "name": "ipython",
    "version": 3
   },
   "file_extension": ".py",
   "mimetype": "text/x-python",
   "name": "python",
   "nbconvert_exporter": "python",
   "pygments_lexer": "ipython3",
   "version": "3.9.7"
  },
  "vscode": {
   "interpreter": {
    "hash": "26eab8343ce5ed02de4098c10e314ebb45ce0ac5e34fea85423d6f141bc9ca67"
   }
  }
 },
 "nbformat": 4,
 "nbformat_minor": 4
}
