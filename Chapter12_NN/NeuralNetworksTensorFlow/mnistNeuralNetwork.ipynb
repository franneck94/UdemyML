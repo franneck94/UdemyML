{
 "cells": [
  {
   "cell_type": "code",
   "execution_count": 15,
   "metadata": {},
   "outputs": [],
   "source": [
    "import numpy as np\n",
    "from keras.layers import Activation\n",
    "from keras.layers import Dense\n",
    "from keras.models import Sequential\n",
    "from keras.optimizers import SGD\n",
    "from keras.utils import to_categorical\n",
    "from sklearn.datasets import load_digits\n",
    "from sklearn.model_selection import train_test_split\n"
   ]
  },
  {
   "cell_type": "code",
   "execution_count": 16,
   "metadata": {},
   "outputs": [],
   "source": [
    "dataset = load_digits()\n",
    "\n",
    "x: np.ndarray = dataset.data\n",
    "y: np.ndarray = dataset.target\n",
    "\n",
    "y = to_categorical(\n",
    "    y,\n",
    "    num_classes=10,\n",
    ")\n",
    "\n",
    "x_train, x_test, y_train, y_test = train_test_split(\n",
    "    x,\n",
    "    y,\n",
    "    test_size=0.30,\n",
    ")\n"
   ]
  },
  {
   "cell_type": "code",
   "execution_count": 17,
   "metadata": {},
   "outputs": [
    {
     "name": "stdout",
     "output_type": "stream",
     "text": [
      "x_train shape: (1257, 64)\n",
      "y_train shape: (1257, 10)\n"
     ]
    }
   ],
   "source": [
    "print(f\"x_train shape: {x_train.shape}\")\n",
    "print(f\"y_train shape: {y_train.shape}\")\n"
   ]
  },
  {
   "cell_type": "code",
   "execution_count": 18,
   "metadata": {},
   "outputs": [],
   "source": [
    "model = Sequential()\n",
    "\n",
    "model.add(Dense(units=512, input_dim=x.shape[1]))\n",
    "model.add(Activation(\"relu\"))\n",
    "model.add(Dense(units=258))\n",
    "model.add(Activation(\"relu\"))\n",
    "model.add(Dense(units=y.shape[1]))\n",
    "model.add(Activation(\"softmax\"))\n"
   ]
  },
  {
   "cell_type": "code",
   "execution_count": 19,
   "metadata": {},
   "outputs": [
    {
     "name": "stdout",
     "output_type": "stream",
     "text": [
      "Model: \"sequential_2\"\n",
      "_________________________________________________________________\n",
      " Layer (type)                Output Shape              Param #   \n",
      "=================================================================\n",
      " dense_6 (Dense)             (None, 512)               33280     \n",
      "                                                                 \n",
      " activation_6 (Activation)   (None, 512)               0         \n",
      "                                                                 \n",
      " dense_7 (Dense)             (None, 258)               132354    \n",
      "                                                                 \n",
      " activation_7 (Activation)   (None, 258)               0         \n",
      "                                                                 \n",
      " dense_8 (Dense)             (None, 10)                2590      \n",
      "                                                                 \n",
      " activation_8 (Activation)   (None, 10)                0         \n",
      "                                                                 \n",
      "=================================================================\n",
      "Total params: 168224 (657.12 KB)\n",
      "Trainable params: 168224 (657.12 KB)\n",
      "Non-trainable params: 0 (0.00 Byte)\n",
      "_________________________________________________________________\n"
     ]
    }
   ],
   "source": [
    "model.summary()\n"
   ]
  },
  {
   "cell_type": "code",
   "execution_count": 20,
   "metadata": {},
   "outputs": [],
   "source": [
    "model.compile(\n",
    "    loss=\"categorical_crossentropy\",\n",
    "    optimizer=SGD(),\n",
    "    metrics=[\"accuracy\"],\n",
    ")\n"
   ]
  },
  {
   "cell_type": "code",
   "execution_count": 21,
   "metadata": {},
   "outputs": [
    {
     "name": "stdout",
     "output_type": "stream",
     "text": [
      "Epoch 1/30\n"
     ]
    },
    {
     "name": "stdout",
     "output_type": "stream",
     "text": [
      "40/40 [==============================] - 1s 5ms/step - loss: 1.4658 - accuracy: 0.7271 - val_loss: 0.2907 - val_accuracy: 0.9241\n",
      "Epoch 2/30\n",
      "40/40 [==============================] - 0s 3ms/step - loss: 0.2377 - accuracy: 0.9316 - val_loss: 0.1839 - val_accuracy: 0.9574\n",
      "Epoch 3/30\n",
      "40/40 [==============================] - 0s 2ms/step - loss: 0.1380 - accuracy: 0.9714 - val_loss: 0.1439 - val_accuracy: 0.9611\n",
      "Epoch 4/30\n",
      "40/40 [==============================] - 0s 2ms/step - loss: 0.1040 - accuracy: 0.9809 - val_loss: 0.1297 - val_accuracy: 0.9667\n",
      "Epoch 5/30\n",
      "40/40 [==============================] - 0s 2ms/step - loss: 0.0792 - accuracy: 0.9849 - val_loss: 0.1211 - val_accuracy: 0.9685\n",
      "Epoch 6/30\n",
      "40/40 [==============================] - 0s 2ms/step - loss: 0.0612 - accuracy: 0.9920 - val_loss: 0.1031 - val_accuracy: 0.9759\n",
      "Epoch 7/30\n",
      "40/40 [==============================] - 0s 3ms/step - loss: 0.0546 - accuracy: 0.9928 - val_loss: 0.6850 - val_accuracy: 0.8185\n",
      "Epoch 8/30\n",
      "40/40 [==============================] - 0s 2ms/step - loss: 0.0623 - accuracy: 0.9873 - val_loss: 0.0922 - val_accuracy: 0.9759\n",
      "Epoch 9/30\n",
      "40/40 [==============================] - 0s 2ms/step - loss: 0.0407 - accuracy: 0.9976 - val_loss: 0.0935 - val_accuracy: 0.9704\n",
      "Epoch 10/30\n",
      "40/40 [==============================] - 0s 2ms/step - loss: 0.0347 - accuracy: 0.9976 - val_loss: 0.0926 - val_accuracy: 0.9759\n",
      "Epoch 11/30\n",
      "40/40 [==============================] - 0s 2ms/step - loss: 0.0307 - accuracy: 0.9976 - val_loss: 0.0863 - val_accuracy: 0.9778\n",
      "Epoch 12/30\n",
      "40/40 [==============================] - 0s 2ms/step - loss: 0.0284 - accuracy: 0.9984 - val_loss: 0.0810 - val_accuracy: 0.9778\n",
      "Epoch 13/30\n",
      "40/40 [==============================] - 0s 2ms/step - loss: 0.0258 - accuracy: 0.9984 - val_loss: 0.0781 - val_accuracy: 0.9778\n",
      "Epoch 14/30\n",
      "40/40 [==============================] - 0s 3ms/step - loss: 0.0223 - accuracy: 0.9984 - val_loss: 0.0836 - val_accuracy: 0.9815\n",
      "Epoch 15/30\n",
      "40/40 [==============================] - 0s 2ms/step - loss: 0.0226 - accuracy: 0.9976 - val_loss: 0.0752 - val_accuracy: 0.9796\n",
      "Epoch 16/30\n",
      "40/40 [==============================] - 0s 2ms/step - loss: 0.0203 - accuracy: 0.9984 - val_loss: 0.0776 - val_accuracy: 0.9796\n",
      "Epoch 17/30\n",
      "40/40 [==============================] - 0s 2ms/step - loss: 0.0186 - accuracy: 0.9992 - val_loss: 0.0720 - val_accuracy: 0.9815\n",
      "Epoch 18/30\n",
      "40/40 [==============================] - 0s 2ms/step - loss: 0.0170 - accuracy: 0.9992 - val_loss: 0.0797 - val_accuracy: 0.9722\n",
      "Epoch 19/30\n",
      "40/40 [==============================] - 0s 3ms/step - loss: 0.0164 - accuracy: 0.9992 - val_loss: 0.0716 - val_accuracy: 0.9833\n",
      "Epoch 20/30\n",
      "40/40 [==============================] - 0s 2ms/step - loss: 0.0147 - accuracy: 0.9992 - val_loss: 0.0691 - val_accuracy: 0.9815\n",
      "Epoch 21/30\n",
      "40/40 [==============================] - 0s 2ms/step - loss: 0.0139 - accuracy: 0.9992 - val_loss: 0.0693 - val_accuracy: 0.9778\n",
      "Epoch 22/30\n",
      "40/40 [==============================] - 0s 2ms/step - loss: 0.0134 - accuracy: 1.0000 - val_loss: 0.0668 - val_accuracy: 0.9833\n",
      "Epoch 23/30\n",
      "40/40 [==============================] - 0s 3ms/step - loss: 0.0123 - accuracy: 1.0000 - val_loss: 0.0642 - val_accuracy: 0.9833\n",
      "Epoch 24/30\n",
      "40/40 [==============================] - 0s 2ms/step - loss: 0.0118 - accuracy: 1.0000 - val_loss: 0.0653 - val_accuracy: 0.9852\n",
      "Epoch 25/30\n",
      "40/40 [==============================] - 0s 2ms/step - loss: 0.0112 - accuracy: 1.0000 - val_loss: 0.0642 - val_accuracy: 0.9833\n",
      "Epoch 26/30\n",
      "40/40 [==============================] - 0s 2ms/step - loss: 0.0109 - accuracy: 1.0000 - val_loss: 0.0641 - val_accuracy: 0.9870\n",
      "Epoch 27/30\n",
      "40/40 [==============================] - 0s 2ms/step - loss: 0.0103 - accuracy: 1.0000 - val_loss: 0.0632 - val_accuracy: 0.9852\n",
      "Epoch 28/30\n",
      "40/40 [==============================] - 0s 2ms/step - loss: 0.0100 - accuracy: 1.0000 - val_loss: 0.0635 - val_accuracy: 0.9833\n",
      "Epoch 29/30\n",
      "40/40 [==============================] - 0s 2ms/step - loss: 0.0095 - accuracy: 1.0000 - val_loss: 0.0623 - val_accuracy: 0.9852\n",
      "Epoch 30/30\n",
      "40/40 [==============================] - 0s 2ms/step - loss: 0.0091 - accuracy: 1.0000 - val_loss: 0.0638 - val_accuracy: 0.9870\n"
     ]
    },
    {
     "data": {
      "text/plain": [
       "<keras.src.callbacks.History at 0x219ff726850>"
      ]
     },
     "execution_count": 21,
     "metadata": {},
     "output_type": "execute_result"
    }
   ],
   "source": [
    "model.fit(\n",
    "    x=x_train,\n",
    "    y=y_train,\n",
    "    epochs=30,\n",
    "    validation_data=(x_test, y_test),\n",
    ")\n"
   ]
  }
 ],
 "metadata": {
  "kernelspec": {
   "display_name": "Python 3",
   "language": "python",
   "name": "python3"
  },
  "language_info": {
   "codemirror_mode": {
    "name": "ipython",
    "version": 3
   },
   "file_extension": ".py",
   "mimetype": "text/x-python",
   "name": "python",
   "nbconvert_exporter": "python",
   "pygments_lexer": "ipython3",
   "version": "3.11.5"
  }
 },
 "nbformat": 4,
 "nbformat_minor": 2
}
