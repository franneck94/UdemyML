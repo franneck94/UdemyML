{
 "cells": [
  {
   "cell_type": "code",
   "execution_count": 8,
   "metadata": {},
   "outputs": [],
   "source": [
    "from keras.layers import Activation\n",
    "from keras.layers import Dense\n",
    "from keras.models import Sequential\n",
    "from keras.optimizers import SGD\n",
    "from keras.utils import to_categorical\n",
    "from sklearn.datasets import load_digits\n",
    "from sklearn.model_selection import train_test_split"
   ]
  },
  {
   "cell_type": "code",
   "execution_count": 9,
   "metadata": {},
   "outputs": [],
   "source": [
    "dataset = load_digits()\n",
    "\n",
    "x = dataset.data\n",
    "y = dataset.target\n",
    "\n",
    "y = to_categorical(\n",
    "    y,\n",
    "    num_classes=10,\n",
    ")\n",
    "\n",
    "x_train, x_test, y_train, y_test = train_test_split(\n",
    "    x,\n",
    "    y,\n",
    "    test_size=0.30,\n",
    ")"
   ]
  },
  {
   "cell_type": "code",
   "execution_count": 10,
   "metadata": {},
   "outputs": [
    {
     "name": "stdout",
     "output_type": "stream",
     "text": [
      "x_train shape: (1257, 64)\n",
      "y_train shape: (1257, 10)\n"
     ]
    }
   ],
   "source": [
    "print(f\"x_train shape: {x_train.shape}\")\n",
    "print(f\"y_train shape: {y_train.shape}\")"
   ]
  },
  {
   "cell_type": "code",
   "execution_count": 11,
   "metadata": {},
   "outputs": [],
   "source": [
    "model = Sequential()\n",
    "\n",
    "model.add(\n",
    "    Dense(units=512, input_dim=x.shape[1]),\n",
    ")\n",
    "model.add(Activation(\"relu\"))\n",
    "model.add(Dense(units=258))\n",
    "model.add(Activation(\"relu\"))\n",
    "model.add(Dense(units=y.shape[1]))\n",
    "model.add(Activation(\"softmax\"))"
   ]
  },
  {
   "cell_type": "code",
   "execution_count": 12,
   "metadata": {},
   "outputs": [
    {
     "name": "stdout",
     "output_type": "stream",
     "text": [
      "Model: \"sequential_1\"\n",
      "_________________________________________________________________\n",
      " Layer (type)                Output Shape              Param #   \n",
      "=================================================================\n",
      " dense_3 (Dense)             (None, 512)               33280     \n",
      "                                                                 \n",
      " activation_3 (Activation)   (None, 512)               0         \n",
      "                                                                 \n",
      " dense_4 (Dense)             (None, 258)               132354    \n",
      "                                                                 \n",
      " activation_4 (Activation)   (None, 258)               0         \n",
      "                                                                 \n",
      " dense_5 (Dense)             (None, 10)                2590      \n",
      "                                                                 \n",
      " activation_5 (Activation)   (None, 10)                0         \n",
      "                                                                 \n",
      "=================================================================\n",
      "Total params: 168224 (657.12 KB)\n",
      "Trainable params: 168224 (657.12 KB)\n",
      "Non-trainable params: 0 (0.00 Byte)\n",
      "_________________________________________________________________\n"
     ]
    }
   ],
   "source": [
    "model.summary()"
   ]
  },
  {
   "cell_type": "code",
   "execution_count": 13,
   "metadata": {},
   "outputs": [],
   "source": [
    "model.compile(\n",
    "    loss=\"categorical_crossentropy\",\n",
    "    optimizer=SGD(),\n",
    "    metrics=[\"accuracy\"],\n",
    ")"
   ]
  },
  {
   "cell_type": "code",
   "execution_count": 14,
   "metadata": {},
   "outputs": [
    {
     "name": "stdout",
     "output_type": "stream",
     "text": [
      "Epoch 1/30\n"
     ]
    },
    {
     "name": "stdout",
     "output_type": "stream",
     "text": [
      "40/40 [==============================] - 1s 6ms/step - loss: 1.1415 - accuracy: 0.7566 - val_loss: 0.2605 - val_accuracy: 0.9222\n",
      "Epoch 2/30\n",
      "40/40 [==============================] - 0s 3ms/step - loss: 0.1802 - accuracy: 0.9578 - val_loss: 0.2394 - val_accuracy: 0.9222\n",
      "Epoch 3/30\n",
      "40/40 [==============================] - 0s 3ms/step - loss: 0.1141 - accuracy: 0.9769 - val_loss: 0.1847 - val_accuracy: 0.9444\n",
      "Epoch 4/30\n",
      "40/40 [==============================] - 0s 2ms/step - loss: 0.0858 - accuracy: 0.9841 - val_loss: 0.1433 - val_accuracy: 0.9556\n",
      "Epoch 5/30\n",
      "40/40 [==============================] - 0s 2ms/step - loss: 0.0672 - accuracy: 0.9873 - val_loss: 0.1274 - val_accuracy: 0.9630\n",
      "Epoch 6/30\n",
      "40/40 [==============================] - 0s 2ms/step - loss: 0.0492 - accuracy: 0.9912 - val_loss: 0.1148 - val_accuracy: 0.9704\n",
      "Epoch 7/30\n",
      "40/40 [==============================] - 0s 2ms/step - loss: 0.0446 - accuracy: 0.9944 - val_loss: 0.1083 - val_accuracy: 0.9704\n",
      "Epoch 8/30\n",
      "40/40 [==============================] - 0s 2ms/step - loss: 0.0382 - accuracy: 0.9952 - val_loss: 0.1201 - val_accuracy: 0.9685\n",
      "Epoch 9/30\n",
      "40/40 [==============================] - 0s 2ms/step - loss: 0.0317 - accuracy: 0.9984 - val_loss: 0.1036 - val_accuracy: 0.9648\n",
      "Epoch 10/30\n",
      "40/40 [==============================] - 0s 2ms/step - loss: 0.0264 - accuracy: 1.0000 - val_loss: 0.1036 - val_accuracy: 0.9722\n",
      "Epoch 11/30\n",
      "40/40 [==============================] - 0s 2ms/step - loss: 0.0244 - accuracy: 0.9984 - val_loss: 0.1164 - val_accuracy: 0.9611\n",
      "Epoch 12/30\n",
      "40/40 [==============================] - 0s 2ms/step - loss: 0.0222 - accuracy: 0.9992 - val_loss: 0.0946 - val_accuracy: 0.9704\n",
      "Epoch 13/30\n",
      "40/40 [==============================] - 0s 2ms/step - loss: 0.0200 - accuracy: 0.9992 - val_loss: 0.1017 - val_accuracy: 0.9685\n",
      "Epoch 14/30\n",
      "40/40 [==============================] - 0s 2ms/step - loss: 0.0173 - accuracy: 1.0000 - val_loss: 0.0942 - val_accuracy: 0.9685\n",
      "Epoch 15/30\n",
      "40/40 [==============================] - 0s 2ms/step - loss: 0.0159 - accuracy: 1.0000 - val_loss: 0.0891 - val_accuracy: 0.9722\n",
      "Epoch 16/30\n",
      "40/40 [==============================] - 0s 2ms/step - loss: 0.0157 - accuracy: 1.0000 - val_loss: 0.0977 - val_accuracy: 0.9722\n",
      "Epoch 17/30\n",
      "40/40 [==============================] - 0s 2ms/step - loss: 0.0142 - accuracy: 1.0000 - val_loss: 0.0938 - val_accuracy: 0.9704\n",
      "Epoch 18/30\n",
      "40/40 [==============================] - 0s 2ms/step - loss: 0.0136 - accuracy: 1.0000 - val_loss: 0.0925 - val_accuracy: 0.9722\n",
      "Epoch 19/30\n",
      "40/40 [==============================] - 0s 2ms/step - loss: 0.0124 - accuracy: 1.0000 - val_loss: 0.0890 - val_accuracy: 0.9704\n",
      "Epoch 20/30\n",
      "40/40 [==============================] - 0s 2ms/step - loss: 0.0116 - accuracy: 1.0000 - val_loss: 0.0926 - val_accuracy: 0.9741\n",
      "Epoch 21/30\n",
      "40/40 [==============================] - 0s 2ms/step - loss: 0.0109 - accuracy: 1.0000 - val_loss: 0.0868 - val_accuracy: 0.9704\n",
      "Epoch 22/30\n",
      "40/40 [==============================] - 0s 2ms/step - loss: 0.0105 - accuracy: 1.0000 - val_loss: 0.0962 - val_accuracy: 0.9741\n",
      "Epoch 23/30\n",
      "40/40 [==============================] - 0s 2ms/step - loss: 0.0100 - accuracy: 1.0000 - val_loss: 0.0914 - val_accuracy: 0.9741\n",
      "Epoch 24/30\n",
      "40/40 [==============================] - 0s 2ms/step - loss: 0.0095 - accuracy: 1.0000 - val_loss: 0.0886 - val_accuracy: 0.9704\n",
      "Epoch 25/30\n",
      "40/40 [==============================] - 0s 2ms/step - loss: 0.0091 - accuracy: 1.0000 - val_loss: 0.0851 - val_accuracy: 0.9722\n",
      "Epoch 26/30\n",
      "40/40 [==============================] - 0s 2ms/step - loss: 0.0087 - accuracy: 1.0000 - val_loss: 0.0895 - val_accuracy: 0.9704\n",
      "Epoch 27/30\n",
      "40/40 [==============================] - 0s 2ms/step - loss: 0.0083 - accuracy: 1.0000 - val_loss: 0.0896 - val_accuracy: 0.9722\n",
      "Epoch 28/30\n",
      "40/40 [==============================] - 0s 2ms/step - loss: 0.0078 - accuracy: 1.0000 - val_loss: 0.0845 - val_accuracy: 0.9704\n",
      "Epoch 29/30\n",
      "40/40 [==============================] - 0s 2ms/step - loss: 0.0078 - accuracy: 1.0000 - val_loss: 0.0878 - val_accuracy: 0.9722\n",
      "Epoch 30/30\n",
      "40/40 [==============================] - 0s 2ms/step - loss: 0.0074 - accuracy: 1.0000 - val_loss: 0.0918 - val_accuracy: 0.9722\n"
     ]
    },
    {
     "data": {
      "text/plain": [
       "<keras.src.callbacks.History at 0x219ff6e6b10>"
      ]
     },
     "execution_count": 14,
     "metadata": {},
     "output_type": "execute_result"
    }
   ],
   "source": [
    "model.fit(\n",
    "    x=x_train,\n",
    "    y=y_train,\n",
    "    epochs=30,\n",
    "    validation_data=(x_test, y_test),\n",
    ")"
   ]
  }
 ],
 "metadata": {
  "kernelspec": {
   "display_name": "Python 3",
   "language": "python",
   "name": "python3"
  },
  "language_info": {
   "codemirror_mode": {
    "name": "ipython",
    "version": 3
   },
   "file_extension": ".py",
   "mimetype": "text/x-python",
   "name": "python",
   "nbconvert_exporter": "python",
   "pygments_lexer": "ipython3",
   "version": "3.11.5"
  }
 },
 "nbformat": 4,
 "nbformat_minor": 2
}
