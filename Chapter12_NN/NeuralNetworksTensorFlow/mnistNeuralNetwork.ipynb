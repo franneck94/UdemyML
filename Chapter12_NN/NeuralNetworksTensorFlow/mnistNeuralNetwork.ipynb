{
 "cells": [
  {
   "cell_type": "code",
   "execution_count": 1,
   "metadata": {},
   "outputs": [],
   "source": [
    "import numpy as np\n",
    "np.random.seed(42)\n",
    "import tensorflow as tf\n",
    "tf.random.set_seed(42)"
   ]
  },
  {
   "cell_type": "code",
   "execution_count": 2,
   "metadata": {},
   "outputs": [],
   "source": [
    "from tensorflow.keras.models import Sequential\n",
    "from tensorflow.keras.layers import Activation\n",
    "from tensorflow.keras.layers import Dense\n",
    "from tensorflow.keras.optimizers import SGD\n",
    "from tensorflow.keras.utils import to_categorical\n",
    "from sklearn.datasets import load_digits\n",
    "from sklearn.model_selection import train_test_split"
   ]
  },
  {
   "cell_type": "code",
   "execution_count": 3,
   "metadata": {},
   "outputs": [],
   "source": [
    "dataset = load_digits()\n",
    "\n",
    "x = dataset.data\n",
    "y = dataset.target\n",
    "y = to_categorical(y, num_classes=10)\n",
    "\n",
    "x_train, x_test, y_train, y_test = train_test_split(x, y)"
   ]
  },
  {
   "cell_type": "code",
   "execution_count": 4,
   "metadata": {},
   "outputs": [],
   "source": [
    "model = Sequential()\n",
    "model.add(Dense(512, input_dim=x.shape[1]))\n",
    "model.add(Activation(\"relu\"))\n",
    "model.add(Dense(512))\n",
    "model.add(Activation(\"relu\"))\n",
    "model.add(Dense(y.shape[1]))\n",
    "model.add(Activation(\"softmax\"))"
   ]
  },
  {
   "cell_type": "code",
   "execution_count": 5,
   "metadata": {},
   "outputs": [
    {
     "name": "stdout",
     "output_type": "stream",
     "text": [
      "Model: \"sequential\"\n",
      "_________________________________________________________________\n",
      "Layer (type)                 Output Shape              Param #   \n",
      "=================================================================\n",
      "dense (Dense)                (None, 512)               33280     \n",
      "_________________________________________________________________\n",
      "activation (Activation)      (None, 512)               0         \n",
      "_________________________________________________________________\n",
      "dense_1 (Dense)              (None, 512)               262656    \n",
      "_________________________________________________________________\n",
      "activation_1 (Activation)    (None, 512)               0         \n",
      "_________________________________________________________________\n",
      "dense_2 (Dense)              (None, 10)                5130      \n",
      "_________________________________________________________________\n",
      "activation_2 (Activation)    (None, 10)                0         \n",
      "=================================================================\n",
      "Total params: 301,066\n",
      "Trainable params: 301,066\n",
      "Non-trainable params: 0\n",
      "_________________________________________________________________\n"
     ]
    }
   ],
   "source": [
    "model.summary()"
   ]
  },
  {
   "cell_type": "code",
   "execution_count": 6,
   "metadata": {
    "scrolled": true
   },
   "outputs": [
    {
     "name": "stdout",
     "output_type": "stream",
     "text": [
      "Epoch 1/30\n",
      "43/43 [==============================] - 0s 5ms/step - loss: 1.9616 - accuracy: 0.3430 - val_loss: 1.2803 - val_accuracy: 0.6111\n",
      "Epoch 2/30\n",
      "43/43 [==============================] - 0s 1ms/step - loss: 1.0256 - accuracy: 0.7246 - val_loss: 0.8521 - val_accuracy: 0.7800\n",
      "Epoch 3/30\n",
      "43/43 [==============================] - 0s 1ms/step - loss: 0.7104 - accuracy: 0.8441 - val_loss: 0.6265 - val_accuracy: 0.8644\n",
      "Epoch 4/30\n",
      "43/43 [==============================] - 0s 1ms/step - loss: 0.5605 - accuracy: 0.8864 - val_loss: 0.5318 - val_accuracy: 0.8867\n",
      "Epoch 5/30\n",
      "43/43 [==============================] - 0s 1ms/step - loss: 0.4654 - accuracy: 0.9109 - val_loss: 0.4495 - val_accuracy: 0.8911\n",
      "Epoch 6/30\n",
      "43/43 [==============================] - 0s 1ms/step - loss: 0.4047 - accuracy: 0.9243 - val_loss: 0.4029 - val_accuracy: 0.9044\n",
      "Epoch 7/30\n",
      "43/43 [==============================] - 0s 1ms/step - loss: 0.3622 - accuracy: 0.9258 - val_loss: 0.3507 - val_accuracy: 0.9267\n",
      "Epoch 8/30\n",
      "43/43 [==============================] - 0s 2ms/step - loss: 0.3273 - accuracy: 0.9324 - val_loss: 0.3249 - val_accuracy: 0.9333\n",
      "Epoch 9/30\n",
      "43/43 [==============================] - 0s 2ms/step - loss: 0.3006 - accuracy: 0.9421 - val_loss: 0.3039 - val_accuracy: 0.9311\n",
      "Epoch 10/30\n",
      "43/43 [==============================] - 0s 1ms/step - loss: 0.2800 - accuracy: 0.9458 - val_loss: 0.2794 - val_accuracy: 0.9400\n",
      "Epoch 11/30\n",
      "43/43 [==============================] - 0s 2ms/step - loss: 0.2610 - accuracy: 0.9510 - val_loss: 0.2753 - val_accuracy: 0.9356\n",
      "Epoch 12/30\n",
      "43/43 [==============================] - 0s 1ms/step - loss: 0.2471 - accuracy: 0.9525 - val_loss: 0.2505 - val_accuracy: 0.9400\n",
      "Epoch 13/30\n",
      "43/43 [==============================] - 0s 1ms/step - loss: 0.2323 - accuracy: 0.9569 - val_loss: 0.2457 - val_accuracy: 0.9400\n",
      "Epoch 14/30\n",
      "43/43 [==============================] - 0s 1ms/step - loss: 0.2207 - accuracy: 0.9577 - val_loss: 0.2274 - val_accuracy: 0.9444\n",
      "Epoch 15/30\n",
      "43/43 [==============================] - 0s 1ms/step - loss: 0.2099 - accuracy: 0.9607 - val_loss: 0.2202 - val_accuracy: 0.9444\n",
      "Epoch 16/30\n",
      "43/43 [==============================] - 0s 1ms/step - loss: 0.2015 - accuracy: 0.9607 - val_loss: 0.2117 - val_accuracy: 0.9467\n",
      "Epoch 17/30\n",
      "43/43 [==============================] - 0s 1ms/step - loss: 0.1932 - accuracy: 0.9629 - val_loss: 0.2058 - val_accuracy: 0.9578\n",
      "Epoch 18/30\n",
      "43/43 [==============================] - 0s 1ms/step - loss: 0.1858 - accuracy: 0.9681 - val_loss: 0.1980 - val_accuracy: 0.9489\n",
      "Epoch 19/30\n",
      "43/43 [==============================] - 0s 1ms/step - loss: 0.1786 - accuracy: 0.9681 - val_loss: 0.1934 - val_accuracy: 0.9489\n",
      "Epoch 20/30\n",
      "43/43 [==============================] - 0s 1ms/step - loss: 0.1740 - accuracy: 0.9673 - val_loss: 0.1841 - val_accuracy: 0.9578\n",
      "Epoch 21/30\n",
      "43/43 [==============================] - 0s 1ms/step - loss: 0.1667 - accuracy: 0.9696 - val_loss: 0.1849 - val_accuracy: 0.9600\n",
      "Epoch 22/30\n",
      "43/43 [==============================] - 0s 1ms/step - loss: 0.1629 - accuracy: 0.9718 - val_loss: 0.1774 - val_accuracy: 0.9622\n",
      "Epoch 23/30\n",
      "43/43 [==============================] - 0s 1ms/step - loss: 0.1568 - accuracy: 0.9703 - val_loss: 0.1716 - val_accuracy: 0.9622\n",
      "Epoch 24/30\n",
      "43/43 [==============================] - 0s 1ms/step - loss: 0.1518 - accuracy: 0.9733 - val_loss: 0.1688 - val_accuracy: 0.9600\n",
      "Epoch 25/30\n",
      "43/43 [==============================] - 0s 2ms/step - loss: 0.1471 - accuracy: 0.9755 - val_loss: 0.1643 - val_accuracy: 0.9556\n",
      "Epoch 26/30\n",
      "43/43 [==============================] - 0s 1ms/step - loss: 0.1435 - accuracy: 0.9748 - val_loss: 0.1607 - val_accuracy: 0.9644\n",
      "Epoch 27/30\n",
      "43/43 [==============================] - 0s 2ms/step - loss: 0.1393 - accuracy: 0.9755 - val_loss: 0.1571 - val_accuracy: 0.9644\n",
      "Epoch 28/30\n",
      "43/43 [==============================] - 0s 1ms/step - loss: 0.1368 - accuracy: 0.9762 - val_loss: 0.1547 - val_accuracy: 0.9622\n",
      "Epoch 29/30\n",
      "43/43 [==============================] - 0s 1ms/step - loss: 0.1330 - accuracy: 0.9777 - val_loss: 0.1511 - val_accuracy: 0.9667\n",
      "Epoch 30/30\n",
      "43/43 [==============================] - 0s 1ms/step - loss: 0.1294 - accuracy: 0.9755 - val_loss: 0.1480 - val_accuracy: 0.9667\n"
     ]
    },
    {
     "data": {
      "text/plain": [
       "<tensorflow.python.keras.callbacks.History at 0x2a0768f99a0>"
      ]
     },
     "execution_count": 6,
     "metadata": {},
     "output_type": "execute_result"
    }
   ],
   "source": [
    "model.compile(\n",
    "    loss=\"categorical_crossentropy\",\n",
    "    optimizer=SGD(lr=0.0005),\n",
    "    metrics=[\"accuracy\"]\n",
    ")\n",
    "model.fit(\n",
    "    x=x_train,\n",
    "    y=y_train,\n",
    "    epochs=30,\n",
    "    validation_data=(x_test, y_test)\n",
    ")"
   ]
  }
 ],
 "metadata": {
  "kernelspec": {
   "display_name": "Python 3",
   "language": "python",
   "name": "python3"
  },
  "language_info": {
   "codemirror_mode": {
    "name": "ipython",
    "version": 3
   },
   "file_extension": ".py",
   "mimetype": "text/x-python",
   "name": "python",
   "nbconvert_exporter": "python",
   "pygments_lexer": "ipython3",
   "version": "3.8.8"
  }
 },
 "nbformat": 4,
 "nbformat_minor": 2
}
