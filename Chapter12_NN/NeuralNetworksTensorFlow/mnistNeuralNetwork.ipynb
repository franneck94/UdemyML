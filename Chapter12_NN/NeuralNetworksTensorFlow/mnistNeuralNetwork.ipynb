{
 "cells": [
  {
   "cell_type": "code",
   "execution_count": 45,
   "metadata": {},
   "outputs": [],
   "source": [
    "import numpy as np\n",
    "np.random.seed(42)\n",
    "import tensorflow as tf\n",
    "tf.random.set_seed(42)"
   ]
  },
  {
   "cell_type": "code",
   "execution_count": 46,
   "metadata": {},
   "outputs": [],
   "source": [
    "from sklearn.datasets import load_digits\n",
    "from sklearn.model_selection import train_test_split\n",
    "\n",
    "from tensorflow.keras.models import Sequential\n",
    "from tensorflow.keras.layers import Activation\n",
    "from tensorflow.keras.layers import Dense\n",
    "from tensorflow.keras.optimizers import SGD\n",
    "from tensorflow.keras.utils import to_categorical"
   ]
  },
  {
   "cell_type": "code",
   "execution_count": 47,
   "metadata": {},
   "outputs": [],
   "source": [
    "dataset = load_digits()\n",
    "\n",
    "x = dataset.data\n",
    "y = dataset.target\n",
    "\n",
    "y = to_categorical(y, num_classes=10)\n",
    "\n",
    "x_train, x_test, y_train, y_test = train_test_split(x, y, test_size=0.30)"
   ]
  },
  {
   "cell_type": "code",
   "execution_count": 48,
   "metadata": {},
   "outputs": [
    {
     "name": "stdout",
     "output_type": "stream",
     "text": [
      "x_train shape: (1257, 64)\n",
      "y_train shape: (1257, 10)\n"
     ]
    }
   ],
   "source": [
    "print(f\"x_train shape: {x_train.shape}\")\n",
    "print(f\"y_train shape: {y_train.shape}\")"
   ]
  },
  {
   "cell_type": "code",
   "execution_count": 49,
   "metadata": {},
   "outputs": [],
   "source": [
    "model = Sequential()\n",
    "\n",
    "model.add(Dense(units=512, input_dim=x.shape[1]))\n",
    "model.add(Activation(\"relu\"))\n",
    "model.add(Dense(units=258))\n",
    "model.add(Activation(\"relu\"))\n",
    "model.add(Dense(units=y.shape[1]))\n",
    "model.add(Activation(\"softmax\"))"
   ]
  },
  {
   "cell_type": "code",
   "execution_count": 50,
   "metadata": {},
   "outputs": [
    {
     "name": "stdout",
     "output_type": "stream",
     "text": [
      "Model: \"sequential_6\"\n",
      "_________________________________________________________________\n",
      "Layer (type)                 Output Shape              Param #   \n",
      "=================================================================\n",
      "dense_14 (Dense)             (None, 512)               33280     \n",
      "_________________________________________________________________\n",
      "activation_8 (Activation)    (None, 512)               0         \n",
      "_________________________________________________________________\n",
      "dense_15 (Dense)             (None, 258)               132354    \n",
      "_________________________________________________________________\n",
      "activation_9 (Activation)    (None, 258)               0         \n",
      "_________________________________________________________________\n",
      "dense_16 (Dense)             (None, 10)                2590      \n",
      "_________________________________________________________________\n",
      "activation_10 (Activation)   (None, 10)                0         \n",
      "=================================================================\n",
      "Total params: 168,224\n",
      "Trainable params: 168,224\n",
      "Non-trainable params: 0\n",
      "_________________________________________________________________\n"
     ]
    }
   ],
   "source": [
    "model.summary()"
   ]
  },
  {
   "cell_type": "code",
   "execution_count": 51,
   "metadata": {},
   "outputs": [],
   "source": [
    "model.compile(\n",
    "    loss=\"categorical_crossentropy\",\n",
    "    optimizer=SGD(),\n",
    "    metrics=[\"accuracy\"]\n",
    ")"
   ]
  },
  {
   "cell_type": "code",
   "execution_count": 52,
   "metadata": {},
   "outputs": [
    {
     "name": "stdout",
     "output_type": "stream",
     "text": [
      "Epoch 1/30\n",
      "40/40 [==============================] - 0s 3ms/step - loss: 1.0389 - accuracy: 0.7621 - val_loss: 0.2412 - val_accuracy: 0.9352\n",
      "Epoch 2/30\n",
      "40/40 [==============================] - 0s 1000us/step - loss: 0.2022 - accuracy: 0.9507 - val_loss: 0.1923 - val_accuracy: 0.9407\n",
      "Epoch 3/30\n",
      "40/40 [==============================] - 0s 975us/step - loss: 0.1305 - accuracy: 0.9690 - val_loss: 0.1671 - val_accuracy: 0.9500\n",
      "Epoch 4/30\n",
      "40/40 [==============================] - 0s 1ms/step - loss: 0.0990 - accuracy: 0.9737 - val_loss: 0.1463 - val_accuracy: 0.9593\n",
      "Epoch 5/30\n",
      "40/40 [==============================] - 0s 1ms/step - loss: 0.0733 - accuracy: 0.9857 - val_loss: 0.1162 - val_accuracy: 0.9648\n",
      "Epoch 6/30\n",
      "40/40 [==============================] - 0s 1ms/step - loss: 0.0568 - accuracy: 0.9928 - val_loss: 0.1589 - val_accuracy: 0.9444\n",
      "Epoch 7/30\n",
      "40/40 [==============================] - 0s 1ms/step - loss: 0.0497 - accuracy: 0.9928 - val_loss: 0.0979 - val_accuracy: 0.9759\n",
      "Epoch 8/30\n",
      "40/40 [==============================] - 0s 1ms/step - loss: 0.0426 - accuracy: 0.9952 - val_loss: 0.0894 - val_accuracy: 0.9759\n",
      "Epoch 9/30\n",
      "40/40 [==============================] - 0s 1ms/step - loss: 0.0357 - accuracy: 0.9968 - val_loss: 0.0867 - val_accuracy: 0.9759\n",
      "Epoch 10/30\n",
      "40/40 [==============================] - 0s 1ms/step - loss: 0.0315 - accuracy: 0.9968 - val_loss: 0.1311 - val_accuracy: 0.9611\n",
      "Epoch 11/30\n",
      "40/40 [==============================] - 0s 1ms/step - loss: 0.0296 - accuracy: 0.9968 - val_loss: 0.0924 - val_accuracy: 0.9722\n",
      "Epoch 12/30\n",
      "40/40 [==============================] - 0s 1ms/step - loss: 0.0250 - accuracy: 0.9992 - val_loss: 0.0805 - val_accuracy: 0.9815\n",
      "Epoch 13/30\n",
      "40/40 [==============================] - 0s 1ms/step - loss: 0.0220 - accuracy: 1.0000 - val_loss: 0.1364 - val_accuracy: 0.9593\n",
      "Epoch 14/30\n",
      "40/40 [==============================] - 0s 1ms/step - loss: 0.0223 - accuracy: 0.9992 - val_loss: 0.0762 - val_accuracy: 0.9796\n",
      "Epoch 15/30\n",
      "40/40 [==============================] - 0s 1ms/step - loss: 0.0187 - accuracy: 0.9992 - val_loss: 0.0809 - val_accuracy: 0.9778\n",
      "Epoch 16/30\n",
      "40/40 [==============================] - 0s 1ms/step - loss: 0.0172 - accuracy: 1.0000 - val_loss: 0.0785 - val_accuracy: 0.9833\n",
      "Epoch 17/30\n",
      "40/40 [==============================] - 0s 1ms/step - loss: 0.0161 - accuracy: 1.0000 - val_loss: 0.0858 - val_accuracy: 0.9852\n",
      "Epoch 18/30\n",
      "40/40 [==============================] - 0s 1ms/step - loss: 0.0158 - accuracy: 1.0000 - val_loss: 0.0725 - val_accuracy: 0.9833\n",
      "Epoch 19/30\n",
      "40/40 [==============================] - 0s 1000us/step - loss: 0.0140 - accuracy: 1.0000 - val_loss: 0.0755 - val_accuracy: 0.9815\n",
      "Epoch 20/30\n",
      "40/40 [==============================] - 0s 1ms/step - loss: 0.0130 - accuracy: 1.0000 - val_loss: 0.0835 - val_accuracy: 0.9759\n",
      "Epoch 21/30\n",
      "40/40 [==============================] - 0s 1ms/step - loss: 0.0143 - accuracy: 0.9992 - val_loss: 0.0744 - val_accuracy: 0.9815\n",
      "Epoch 22/30\n",
      "40/40 [==============================] - 0s 1ms/step - loss: 0.0118 - accuracy: 1.0000 - val_loss: 0.0708 - val_accuracy: 0.9815\n",
      "Epoch 23/30\n",
      "40/40 [==============================] - 0s 1ms/step - loss: 0.0109 - accuracy: 1.0000 - val_loss: 0.0712 - val_accuracy: 0.9833\n",
      "Epoch 24/30\n",
      "40/40 [==============================] - 0s 1ms/step - loss: 0.0107 - accuracy: 1.0000 - val_loss: 0.0758 - val_accuracy: 0.9852\n",
      "Epoch 25/30\n",
      "40/40 [==============================] - 0s 1ms/step - loss: 0.0099 - accuracy: 1.0000 - val_loss: 0.0710 - val_accuracy: 0.9815\n",
      "Epoch 26/30\n",
      "40/40 [==============================] - 0s 1ms/step - loss: 0.0098 - accuracy: 1.0000 - val_loss: 0.0698 - val_accuracy: 0.9852\n",
      "Epoch 27/30\n",
      "40/40 [==============================] - 0s 1ms/step - loss: 0.0092 - accuracy: 1.0000 - val_loss: 0.0701 - val_accuracy: 0.9833\n",
      "Epoch 28/30\n",
      "40/40 [==============================] - 0s 1ms/step - loss: 0.0087 - accuracy: 1.0000 - val_loss: 0.0703 - val_accuracy: 0.9833\n",
      "Epoch 29/30\n",
      "40/40 [==============================] - 0s 1ms/step - loss: 0.0085 - accuracy: 1.0000 - val_loss: 0.0690 - val_accuracy: 0.9815\n",
      "Epoch 30/30\n",
      "40/40 [==============================] - 0s 1ms/step - loss: 0.0080 - accuracy: 1.0000 - val_loss: 0.0713 - val_accuracy: 0.9852\n"
     ]
    },
    {
     "data": {
      "text/plain": [
       "<tensorflow.python.keras.callbacks.History at 0x23dce0da4f0>"
      ]
     },
     "execution_count": 52,
     "metadata": {},
     "output_type": "execute_result"
    }
   ],
   "source": [
    "model.fit(\n",
    "    x=x_train,\n",
    "    y=y_train,\n",
    "    epochs=30,\n",
    "    validation_data=(x_test, y_test)\n",
    ")"
   ]
  }
 ],
 "metadata": {
  "kernelspec": {
   "display_name": "Python 3",
   "language": "python",
   "name": "python3"
  },
  "language_info": {
   "codemirror_mode": {
    "name": "ipython",
    "version": 3
   },
   "file_extension": ".py",
   "mimetype": "text/x-python",
   "name": "python",
   "nbconvert_exporter": "python",
   "pygments_lexer": "ipython3",
   "version": "3.8.8"
  }
 },
 "nbformat": 4,
 "nbformat_minor": 2
}
