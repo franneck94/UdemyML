{
 "cells": [
  {
   "cell_type": "code",
   "execution_count": 5,
   "metadata": {},
   "outputs": [],
   "source": [
    "import numpy as np\n",
    "np.random.seed(0)"
   ]
  },
  {
   "cell_type": "code",
   "execution_count": 6,
   "metadata": {},
   "outputs": [],
   "source": [
    "def get_dataset():\n",
    "    \"\"\"OR dataset.\"\"\"\n",
    "    x = np.array([[0, 0], [1, 0], [0, 1], [1, 1]], dtype=np.float32)\n",
    "    y = np.array([0, 1, 1, 1], dtype=np.float32)\n",
    "    return x, y"
   ]
  },
  {
   "cell_type": "markdown",
   "metadata": {},
   "source": [
    "# Formeln für das Perzeptron: \n",
    "\n",
    "## Aktivierungsfunktion:\n",
    "\n",
    "$\n",
    "\\phi(s) = \\begin{cases} 1, wenn \\ s > 0\\\\ 0, sonst \\end{cases}\n",
    "$\n",
    "\n",
    "## Delta-Regel (Gewichte Update):\n",
    "\n",
    "$\n",
    "\\Delta w_i = (y_i - \\hat{y_i}) * x_i\n",
    "$\n",
    "\n",
    "$\n",
    "w_i = w_i + \\lambda * \\Delta_{w_i}\n",
    "$"
   ]
  },
  {
   "cell_type": "code",
   "execution_count": 7,
   "metadata": {},
   "outputs": [],
   "source": [
    "class Perceptron():\n",
    "    def __init__(self, learning_rate: float = 0.001, max_iter: int = 1) -> None:\n",
    "        self.max_iter = max_iter\n",
    "        self.learning_rate = learning_rate\n",
    "        self.w: np.ndarray = None\n",
    "\n",
    "    def _activation(self, signal: np.ndarray) -> np.ndarray:\n",
    "        return (signal > 0.0).astype(np.float32)\n",
    "\n",
    "    def _forward(self, x: np.ndarray):\n",
    "        return self._activation(np.dot(x, self.w))\n",
    "\n",
    "    def _update_weights(\n",
    "        self, x: np.ndarray, y: np.ndarray, y_pred: np.ndarray\n",
    "    ) -> np.ndarray:\n",
    "        loss = (y - y_pred)\n",
    "        gradient =  np.dot(loss, x)\n",
    "        self.w = self.w + self.learning_rate * gradient\n",
    "\n",
    "    def fit(self, x: np.ndarray, y: np.ndarray) -> None:\n",
    "        _, dim = x.shape\n",
    "        self.w = np.random.normal(loc=0.0, scale=0.01, size=(dim,))\n",
    "\n",
    "        for _ in range(self.max_iter):\n",
    "            y_pred = self._forward(x)\n",
    "            self._update_weights(x, y, y_pred)\n",
    "\n",
    "    def predict(self, x: np.ndarray) -> np.ndarray:\n",
    "        return self._forward(x)\n",
    "\n",
    "    def score(self, x: np.ndarray, y: np.ndarray) -> np.ndarray:\n",
    "        y_pred = self.predict(x)\n",
    "        return np.mean(y == y_pred)"
   ]
  },
  {
   "cell_type": "code",
   "execution_count": 8,
   "metadata": {},
   "outputs": [
    {
     "name": "stdout",
     "output_type": "stream",
     "text": [
      "Acc: 1.0\n"
     ]
    }
   ],
   "source": [
    "x, y = get_dataset()\n",
    "\n",
    "clf = Perceptron(max_iter=10, learning_rate=0.5)\n",
    "clf.fit(x, y)\n",
    "score = clf.score(x, y)\n",
    "\n",
    "print(f\"Acc: {score}\")"
   ]
  }
 ],
 "metadata": {
  "kernelspec": {
   "display_name": "Python 3",
   "language": "python",
   "name": "python3"
  },
  "language_info": {
   "codemirror_mode": {
    "name": "ipython",
    "version": 3
   },
   "file_extension": ".py",
   "mimetype": "text/x-python",
   "name": "python",
   "nbconvert_exporter": "python",
   "pygments_lexer": "ipython3",
   "version": "3.8.8"
  }
 },
 "nbformat": 4,
 "nbformat_minor": 2
}
