{
 "cells": [
  {
   "cell_type": "code",
   "execution_count": 16,
   "metadata": {},
   "outputs": [],
   "source": [
    "import numpy as np\n",
    "np.random.seed(42)"
   ]
  },
  {
   "cell_type": "code",
   "execution_count": 17,
   "metadata": {},
   "outputs": [],
   "source": [
    "def get_dataset():\n",
    "    \"\"\"OR dataset.\"\"\"\n",
    "    x = np.array([[0, 0], [1, 0], [0, 1], [1, 1]], dtype=np.float32)\n",
    "    y = np.array([0, 1, 1, 1], dtype=np.float32)\n",
    "    return x, y"
   ]
  },
  {
   "cell_type": "markdown",
   "metadata": {},
   "source": [
    "# Formeln für das Perzeptron: \n",
    "\n",
    "## Aktivierungsfunktion:\n",
    "\n",
    "$\n",
    "\\phi(s) = \\begin{cases} 1, wenn \\ s > 0\\\\ 0, sonst \\end{cases}\n",
    "$\n",
    "\n",
    "## Delta-Regel (Gewichte Update):\n",
    "\n",
    "$\n",
    "\\Delta w_i = (y_i - \\hat{y_i}) * x_i\n",
    "$\n",
    "\n",
    "$\n",
    "w_i = w_i + \\lambda * \\Delta_{w_i}\n",
    "$"
   ]
  },
  {
   "cell_type": "code",
   "execution_count": 18,
   "metadata": {},
   "outputs": [],
   "source": [
    "class Perceptron():\n",
    "    def __init__(self, epochs: int, learning_rate: float) -> None:\n",
    "        self.epochs = epochs\n",
    "        self.learning_rate = learning_rate\n",
    "        self.w: np.ndarray = None\n",
    "        \n",
    "    def fit(self, x: np.ndarray, y: np.ndarray) -> None:\n",
    "        N, dim = x.shape\n",
    "        self.w = np.random.uniform(-1, 1, (dim, 1))\n",
    "        for _ in range(self.epochs):\n",
    "            choice = np.random.choice(N)\n",
    "            x_i = x[choice]\n",
    "            y_i = y[choice]\n",
    "            y_hat = self.predict(x_i)\n",
    "            if y_hat != y_i:\n",
    "                self._update_weights(x_i, y_i, y_hat)\n",
    "    \n",
    "    def _activation(self, signal: np.ndarray) -> np.ndarray:\n",
    "        return (signal > 0)\n",
    "    \n",
    "    def _update_weights(\n",
    "        self, x: np.ndarray, y: np.ndarray, y_hat: np.ndarray\n",
    "    ) -> np.ndarray:\n",
    "        for i in range(self.w.shape[0]):\n",
    "            delta_w_i = self.learning_rate * (y - y_hat) * x[i]\n",
    "            self.w[i] = self.w[i] + delta_w_i\n",
    "    \n",
    "    def score(self, x: np.ndarray, y: np.ndarray) -> np.ndarray:\n",
    "        y_pred = self.predict(x)\n",
    "        return np.mean(y == y_pred)\n",
    "    \n",
    "    def predict(self, x: np.ndarray) -> np.ndarray:\n",
    "        return self._activation(np.dot(x, self.w))"
   ]
  },
  {
   "cell_type": "code",
   "execution_count": 19,
   "metadata": {},
   "outputs": [
    {
     "name": "stdout",
     "output_type": "stream",
     "text": [
      "Acc: 0.625\n",
      "W:\n",
      "[[0.24908024]\n",
      " [0.90142861]]\n"
     ]
    }
   ],
   "source": [
    "x, y = get_dataset()\n",
    "\n",
    "p = Perceptron(epochs=10, learning_rate=0.5)\n",
    "p.fit(x, y)\n",
    "acc = p.score(x, y)\n",
    "\n",
    "print(f\"Acc: {acc}\")\n",
    "print(f\"W:\\n{p.w}\")"
   ]
  }
 ],
 "metadata": {
  "kernelspec": {
   "display_name": "Python 3",
   "language": "python",
   "name": "python3"
  },
  "language_info": {
   "codemirror_mode": {
    "name": "ipython",
    "version": 3
   },
   "file_extension": ".py",
   "mimetype": "text/x-python",
   "name": "python",
   "nbconvert_exporter": "python",
   "pygments_lexer": "ipython3",
   "version": "3.8.8"
  }
 },
 "nbformat": 4,
 "nbformat_minor": 2
}
