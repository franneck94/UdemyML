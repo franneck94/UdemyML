{
 "cells": [
  {
   "cell_type": "code",
   "execution_count": 25,
   "metadata": {},
   "outputs": [],
   "source": [
    "import numpy as np\n",
    "np.random.seed(42)"
   ]
  },
  {
   "cell_type": "code",
   "execution_count": 26,
   "metadata": {},
   "outputs": [],
   "source": [
    "from typing import List\n",
    "from typing import Tuple\n",
    "\n",
    "import pandas as pd\n",
    "from sklearn.datasets import load_boston\n",
    "from sklearn.model_selection import train_test_split\n",
    "from sklearn.linear_model import LinearRegression"
   ]
  },
  {
   "cell_type": "code",
   "execution_count": 27,
   "metadata": {},
   "outputs": [],
   "source": [
    "dataset = load_boston()\n",
    "df = pd.DataFrame(dataset.data, columns=dataset.feature_names)"
   ]
  },
  {
   "cell_type": "code",
   "execution_count": 28,
   "metadata": {},
   "outputs": [
    {
     "name": "stdout",
     "output_type": "stream",
     "text": [
      "['CRIM', 'ZN', 'INDUS', 'CHAS', 'NOX', 'RM', 'AGE', 'DIS', 'RAD', 'TAX', 'PTRATIO', 'B', 'LSTAT']\n",
      "Num features:  13\n"
     ]
    }
   ],
   "source": [
    "all_features = df.columns.values.tolist()\n",
    "num_features_total = len(all_features)\n",
    "print(all_features)\n",
    "print(\"Num features: \", num_features_total)"
   ]
  },
  {
   "cell_type": "code",
   "execution_count": 29,
   "metadata": {},
   "outputs": [],
   "source": [
    "x = dataset['data']\n",
    "y = dataset['target']"
   ]
  },
  {
   "cell_type": "code",
   "execution_count": 30,
   "metadata": {},
   "outputs": [
    {
     "name": "stdout",
     "output_type": "stream",
     "text": [
      "(506, 13)\n",
      "(506,)\n"
     ]
    }
   ],
   "source": [
    "print(x.shape)\n",
    "print(y.shape)"
   ]
  },
  {
   "cell_type": "markdown",
   "metadata": {},
   "source": [
    "# Exercise 1\n",
    "\n",
    "\n",
    "<font size=\"5\">\n",
    "Test the model performance for a subset of the given dataset where you only use one feature (hence not all 13 features ;)\n",
    "</font> "
   ]
  },
  {
   "cell_type": "code",
   "execution_count": 31,
   "metadata": {},
   "outputs": [
    {
     "name": "stdout",
     "output_type": "stream",
     "text": [
      "Features: 00\tR2: 0.138140\n",
      "Features: 01\tR2: 0.156386\n",
      "Features: 02\tR2: 0.115023\n",
      "Features: 03\tR2: 0.015996\n",
      "Features: 04\tR2: 0.214377\n",
      "Features: 05\tR2: 0.479388\n",
      "Features: 06\tR2: 0.247553\n",
      "Features: 07\tR2: 0.000000\n",
      "Features: 08\tR2: 0.081760\n",
      "Features: 09\tR2: 0.294857\n",
      "Features: 10\tR2: 0.241133\n",
      "Features: 11\tR2: 0.112641\n",
      "Features: 12\tR2: 0.538005\n"
     ]
    }
   ],
   "source": [
    "scores: List[Tuple[int, float]] = []\n",
    "\n",
    "for feature_idx in range(num_features_total):\n",
    "        x_sliced = x[:, [feature_idx]]\n",
    "        x_train, x_test, y_train, y_test = train_test_split(x_sliced, y, test_size=0.3)\n",
    "\n",
    "        regr = LinearRegression()\n",
    "        regr.fit(x_train, y_train)\n",
    "        r2_score = np.clip(regr.score(x_test, y_test), 0.0, 1.0)\n",
    "        scores.append((feature_idx, r2_score))\n",
    "\n",
    "        print(f\"Features: {feature_idx:02}\\tR2: {r2_score:04.6F}\")"
   ]
  },
  {
   "cell_type": "markdown",
   "metadata": {},
   "source": [
    "# Exercise 2\n",
    "\n",
    "<font size=\"5\">\n",
    "Plot the standard deviation, and variance of each feature.\n",
    "Do these values correlate to the performance differences from exercise 1?\n",
    "</font> "
   ]
  },
  {
   "cell_type": "code",
   "execution_count": 32,
   "metadata": {},
   "outputs": [
    {
     "name": "stdout",
     "output_type": "stream",
     "text": [
      "Features: 12\tScore: 0.538005\tStd: 7.134002\tVar: 50.893979\n",
      "Features: 05\tScore: 0.479388\tStd: 0.701923\tVar: 0.492695\n",
      "Features: 09\tScore: 0.294857\tStd: 168.370495\tVar: 28348.623600\n",
      "Features: 06\tScore: 0.247553\tStd: 28.121033\tVar: 790.792473\n",
      "Features: 10\tScore: 0.241133\tStd: 2.162805\tVar: 4.677726\n",
      "Features: 04\tScore: 0.214377\tStd: 0.115763\tVar: 0.013401\n",
      "Features: 01\tScore: 0.156386\tStd: 23.299396\tVar: 542.861840\n",
      "Features: 00\tScore: 0.138140\tStd: 8.593041\tVar: 73.840360\n",
      "Features: 02\tScore: 0.115023\tStd: 6.853571\tVar: 46.971430\n",
      "Features: 11\tScore: 0.112641\tStd: 91.204607\tVar: 8318.280421\n",
      "Features: 08\tScore: 0.081760\tStd: 8.698651\tVar: 75.666531\n",
      "Features: 03\tScore: 0.015996\tStd: 0.253743\tVar: 0.064385\n",
      "Features: 07\tScore: 0.000000\tStd: 2.103628\tVar: 4.425252\n"
     ]
    }
   ],
   "source": [
    "sorted_scores = sorted(scores, key= lambda x: x[1], reverse=True)\n",
    "\n",
    "for feature_idx, score in sorted_scores:\n",
    "        x_sliced = x[:, [feature_idx]]\n",
    "        std = np.std(x_sliced)\n",
    "        var = np.var(x_sliced)\n",
    "\n",
    "        print(\n",
    "            f\"Features: {feature_idx:02}\\tScore: {score:04.6F}\\tStd: {std:04.6F}\\tVar: {var:04.6F}\"\n",
    "        )"
   ]
  }
 ],
 "metadata": {
  "kernelspec": {
   "display_name": "Python 3",
   "language": "python",
   "name": "python3"
  },
  "language_info": {
   "codemirror_mode": {
    "name": "ipython",
    "version": 3
   },
   "file_extension": ".py",
   "mimetype": "text/x-python",
   "name": "python",
   "nbconvert_exporter": "python",
   "pygments_lexer": "ipython3",
   "version": "3.8.8"
  }
 },
 "nbformat": 4,
 "nbformat_minor": 2
}
