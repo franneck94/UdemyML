{
 "cells": [
  {
   "cell_type": "code",
   "execution_count": 3,
   "metadata": {},
   "outputs": [],
   "source": [
    "import numpy as np\n",
    "np.random.seed(42)"
   ]
  },
  {
   "cell_type": "code",
   "execution_count": 4,
   "metadata": {},
   "outputs": [],
   "source": [
    "from typing import List\n",
    "from typing import Tuple\n",
    "\n",
    "import pandas as pd\n",
    "from sklearn.datasets import fetch_california_housing\n",
    "from sklearn.model_selection import train_test_split\n",
    "from sklearn.linear_model import LinearRegression"
   ]
  },
  {
   "cell_type": "code",
   "execution_count": 5,
   "metadata": {},
   "outputs": [],
   "source": [
    "dataset = fetch_california_housing()\n",
    "df = pd.DataFrame(dataset.data, columns=dataset.feature_names)"
   ]
  },
  {
   "cell_type": "code",
   "execution_count": 6,
   "metadata": {},
   "outputs": [
    {
     "name": "stdout",
     "output_type": "stream",
     "text": [
      "['MedInc', 'HouseAge', 'AveRooms', 'AveBedrms', 'Population', 'AveOccup', 'Latitude', 'Longitude']\n",
      "Num features:  8\n"
     ]
    }
   ],
   "source": [
    "all_features = df.columns.values.tolist()\n",
    "num_features_total = len(all_features)\n",
    "print(all_features)\n",
    "print(\"Num features: \", num_features_total)"
   ]
  },
  {
   "cell_type": "code",
   "execution_count": 7,
   "metadata": {},
   "outputs": [],
   "source": [
    "x = dataset['data']\n",
    "y = dataset['target']"
   ]
  },
  {
   "cell_type": "code",
   "execution_count": 8,
   "metadata": {},
   "outputs": [
    {
     "name": "stdout",
     "output_type": "stream",
     "text": [
      "(20640, 8)\n",
      "(20640,)\n"
     ]
    }
   ],
   "source": [
    "print(x.shape)\n",
    "print(y.shape)"
   ]
  },
  {
   "cell_type": "markdown",
   "metadata": {},
   "source": [
    "# Exercise 1\n",
    "\n",
    "\n",
    "<font size=\"5\">\n",
    "Test the model performance for a subset of the given dataset where you only use one feature (hence not all 13 features ;)\n",
    "</font> "
   ]
  },
  {
   "cell_type": "code",
   "execution_count": 9,
   "metadata": {},
   "outputs": [
    {
     "name": "stdout",
     "output_type": "stream",
     "text": [
      "Featue: 0\tR2: 0.472932\n",
      "Featue: 1\tR2: 0.004318\n",
      "Featue: 2\tR2: 0.011952\n",
      "Featue: 3\tR2: -0.000451\n",
      "Featue: 4\tR2: 0.001144\n",
      "Featue: 5\tR2: 0.000134\n",
      "Featue: 6\tR2: 0.021466\n",
      "Featue: 7\tR2: 0.002054\n"
     ]
    }
   ],
   "source": [
    "scores: List[Tuple[int, float]] = []\n",
    "\n",
    "for feature_idx in range(num_features_total):\n",
    "    x_sliced = x[:, [feature_idx]]\n",
    "    x_train, x_test, y_train, y_test = train_test_split(x_sliced, y, test_size=0.3)\n",
    "\n",
    "    regr = LinearRegression()\n",
    "    regr.fit(x_train, y_train)\n",
    "    r2 = regr.score(x_test, y_test)\n",
    "    scores.append((feature_idx, r2))\n",
    "\n",
    "    print(f\"Featue: {feature_idx}\\tR2: {r2:.6f}\")"
   ]
  },
  {
   "cell_type": "markdown",
   "metadata": {},
   "source": [
    "# Exercise 2\n",
    "\n",
    "Print the standard deviation, and variance of each feature.\n",
    "Do these values correlate to the performance differences from exercise 1?"
   ]
  },
  {
   "cell_type": "code",
   "execution_count": 10,
   "metadata": {},
   "outputs": [
    {
     "name": "stdout",
     "output_type": "stream",
     "text": [
      "[(0, 0.47293192589970245), (6, 0.02146629897029695), (2, 0.011952011806260487), (1, 0.004318093856663929), (7, 0.0020544040181483814), (4, 0.0011443973754906578), (5, 0.00013437314004793866), (3, -0.0004512604290400901)]\n"
     ]
    }
   ],
   "source": [
    "sorted_scores = sorted(scores, key=lambda x: x[1], reverse=True)\n",
    "\n",
    "print(sorted_scores)"
   ]
  },
  {
   "cell_type": "code",
   "execution_count": 11,
   "metadata": {},
   "outputs": [
    {
     "name": "stdout",
     "output_type": "stream",
     "text": [
      "Feature: 0\tScore: 0.472932\tStd: 1.8998\tVar: 3.6091\n",
      "Feature: 6\tScore: 0.021466\tStd: 2.1359\tVar: 4.5621\n",
      "Feature: 2\tScore: 0.011952\tStd: 2.4741\tVar: 6.1212\n",
      "Feature: 1\tScore: 0.004318\tStd: 12.5853\tVar: 158.3886\n",
      "Feature: 7\tScore: 0.002054\tStd: 2.0035\tVar: 4.0139\n",
      "Feature: 4\tScore: 0.001144\tStd: 1132.4347\tVar: 1282408.3220\n",
      "Feature: 5\tScore: 0.000134\tStd: 10.3858\tVar: 107.8648\n",
      "Feature: 3\tScore: -0.000451\tStd: 0.4739\tVar: 0.2246\n"
     ]
    }
   ],
   "source": [
    "for feature_idx, score in sorted_scores:\n",
    "    x_sliced = x[:, [feature_idx]]\n",
    "    std = np.std(x_sliced)\n",
    "    var = np.var(x_sliced)\n",
    "\n",
    "    print(f\"Feature: {feature_idx}\\tScore: {score:.6f}\\tStd: {std:.4f}\\tVar: {var:.4f}\")"
   ]
  }
 ],
 "metadata": {
  "kernelspec": {
   "display_name": "Python 3.9.7 ('base')",
   "language": "python",
   "name": "python3"
  },
  "language_info": {
   "codemirror_mode": {
    "name": "ipython",
    "version": 3
   },
   "file_extension": ".py",
   "mimetype": "text/x-python",
   "name": "python",
   "nbconvert_exporter": "python",
   "pygments_lexer": "ipython3",
   "version": "3.9.7"
  },
  "vscode": {
   "interpreter": {
    "hash": "26eab8343ce5ed02de4098c10e314ebb45ce0ac5e34fea85423d6f141bc9ca67"
   }
  }
 },
 "nbformat": 4,
 "nbformat_minor": 2
}
