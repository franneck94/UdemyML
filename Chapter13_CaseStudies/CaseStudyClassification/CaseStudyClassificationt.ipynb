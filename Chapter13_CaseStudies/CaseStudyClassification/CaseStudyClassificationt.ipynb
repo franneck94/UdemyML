{
 "cells": [
  {
   "cell_type": "code",
   "execution_count": 1,
   "metadata": {},
   "outputs": [],
   "source": [
    "import numpy as np\n",
    "\n",
    "\n",
    "np.random.seed(42)\n",
    "from sklearn.datasets import load_digits\n",
    "from sklearn.metrics import accuracy_score\n",
    "from sklearn.metrics import confusion_matrix\n",
    "from sklearn.model_selection import GridSearchCV\n",
    "from sklearn.model_selection import train_test_split\n",
    "from sklearn.preprocessing import StandardScaler"
   ]
  },
  {
   "cell_type": "markdown",
   "metadata": {},
   "source": [
    "#### Helper"
   ]
  },
  {
   "cell_type": "code",
   "execution_count": 18,
   "metadata": {},
   "outputs": [],
   "source": [
    "def print_grid_cv_results(grid_result: GridSearchCV) -> None:\n",
    "    print(\n",
    "        f\"Best model score: {grid_result.best_score_} \"\n",
    "        f\"Best model params: {grid_result.best_params_} \"\n",
    "    )\n",
    "    means = grid_result.cv_results_[\"mean_test_score\"]\n",
    "    stds = grid_result.cv_results_[\"std_test_score\"]\n",
    "    params = grid_result.cv_results_[\"params\"]\n",
    "\n",
    "    zipped = sorted(zip(means, stds, params), key=lambda x: x[0], reverse=True)\n",
    "\n",
    "    for mean, std, param in zipped[:10]:\n",
    "        mean = round(mean, 4)\n",
    "        std = round(std, 4)\n",
    "        print(f\"{mean} (+/- {2 * std}) with: {param}\")"
   ]
  },
  {
   "cell_type": "markdown",
   "metadata": {},
   "source": [
    "#### LOAD DATASET"
   ]
  },
  {
   "cell_type": "code",
   "execution_count": 3,
   "metadata": {},
   "outputs": [],
   "source": [
    "mnist = load_digits()\n",
    "x: np.ndarray = mnist.data\n",
    "y: np.ndarray = mnist.target\n",
    "\n",
    "x_train, x_test, y_train, y_test = train_test_split(x, y, test_size=0.3)"
   ]
  },
  {
   "cell_type": "markdown",
   "metadata": {},
   "source": [
    "#### NORMALIZE DATASET"
   ]
  },
  {
   "cell_type": "code",
   "execution_count": 4,
   "metadata": {},
   "outputs": [],
   "source": [
    "scaler = StandardScaler()\n",
    "scaler.fit(x_train)\n",
    "\n",
    "x_train: np.ndarray = scaler.transform(x_train)\n",
    "x_test: np.ndarray = scaler.transform(x_test)"
   ]
  },
  {
   "cell_type": "markdown",
   "metadata": {},
   "source": [
    "#### KNN CLASSIFICATION"
   ]
  },
  {
   "cell_type": "code",
   "execution_count": 15,
   "metadata": {},
   "outputs": [
    {
     "name": "stdout",
     "output_type": "stream",
     "text": [
      "Best model score: 0.9697692919649961 Best model params: {'n_neighbors': 2, 'weights': 'distance'} \n",
      "0.9698 (+/- 0.0022) with: {'n_neighbors': 2, 'weights': 'distance'}\n",
      "0.9682 (+/- 0.0082) with: {'n_neighbors': 4, 'weights': 'distance'}\n",
      "0.9682 (+/- 0.0022) with: {'n_neighbors': 6, 'weights': 'distance'}\n",
      "0.9682 (+/- 0.0082) with: {'n_neighbors': 8, 'weights': 'distance'}\n",
      "0.9674 (+/- 0.0126) with: {'n_neighbors': 10, 'weights': 'distance'}\n",
      "0.9626 (+/- 0.0022) with: {'n_neighbors': 6, 'weights': 'uniform'}\n",
      "0.9602 (+/- 0.0098) with: {'n_neighbors': 12, 'weights': 'distance'}\n",
      "0.9586 (+/- 0.0098) with: {'n_neighbors': 8, 'weights': 'uniform'}\n",
      "0.9578 (+/- 0.009) with: {'n_neighbors': 4, 'weights': 'uniform'}\n",
      "0.9547 (+/- 0.0156) with: {'n_neighbors': 2, 'weights': 'uniform'}\n"
     ]
    }
   ],
   "source": [
    "from sklearn.neighbors import KNeighborsClassifier\n",
    "\n",
    "\n",
    "params = {\n",
    "    \"n_neighbors\": [i for i in range(2, 22, 2)],\n",
    "    \"weights\": [\"uniform\", \"distance\"],\n",
    "}\n",
    "\n",
    "clf = KNeighborsClassifier()\n",
    "grid = GridSearchCV(clf, params, cv=3)\n",
    "grid_result = grid.fit(x_train, y_train)\n",
    "\n",
    "print_grid_cv_results(grid_result)"
   ]
  },
  {
   "cell_type": "markdown",
   "metadata": {},
   "source": [
    "#### RANDOM FOREST CLASSIFICATION"
   ]
  },
  {
   "cell_type": "code",
   "execution_count": 19,
   "metadata": {
    "scrolled": true
   },
   "outputs": [
    {
     "name": "stdout",
     "output_type": "stream",
     "text": [
      "Best model score: 0.9705648369132857 Best model params: {'max_depth': 30, 'n_estimators': 300} \n",
      "0.9706 (+/- 0.0046) with: {'max_depth': 30, 'n_estimators': 300}\n",
      "0.9706 (+/- 0.0046) with: {'max_depth': 30, 'n_estimators': 350}\n",
      "0.9706 (+/- 0.0022) with: {'max_depth': 40, 'n_estimators': 450}\n",
      "0.9706 (+/- 0.0082) with: {'max_depth': 40, 'n_estimators': 400}\n",
      "0.9698 (+/- 0.009) with: {'max_depth': 50, 'n_estimators': 250}\n",
      "0.9698 (+/- 0.006) with: {'max_depth': None, 'n_estimators': 250}\n",
      "0.969 (+/- 0.0104) with: {'max_depth': 20, 'n_estimators': 450}\n",
      "0.9682 (+/- 0.0136) with: {'max_depth': 20, 'n_estimators': 350}\n",
      "0.9682 (+/- 0.0046) with: {'max_depth': 20, 'n_estimators': 400}\n",
      "0.9682 (+/- 0.0098) with: {'max_depth': 40, 'n_estimators': 350}\n"
     ]
    }
   ],
   "source": [
    "from sklearn.ensemble import RandomForestClassifier\n",
    "\n",
    "\n",
    "params = {\n",
    "    \"n_estimators\": [50 * i for i in range(4, 10)],\n",
    "    \"max_depth\": [i for i in range(20, 51, 10)] + [None],\n",
    "}\n",
    "\n",
    "clf = RandomForestClassifier()\n",
    "\n",
    "grid = GridSearchCV(clf, params, cv=3, n_jobs=-1)\n",
    "grid_result = grid.fit(x_train, y_train)\n",
    "\n",
    "print_grid_cv_results(grid_result)"
   ]
  },
  {
   "cell_type": "markdown",
   "metadata": {},
   "source": [
    "#### GRADIENT BOOSTING CLASSIFICATION"
   ]
  },
  {
   "cell_type": "code",
   "execution_count": 20,
   "metadata": {
    "scrolled": true
   },
   "outputs": [
    {
     "name": "stdout",
     "output_type": "stream",
     "text": [
      "Best model score: 0.8838504375497216 Best model params: {'max_depth': 30, 'n_estimators': 450} \n",
      "0.8839 (+/- 0.0228) with: {'max_depth': 30, 'n_estimators': 450}\n",
      "0.8831 (+/- 0.017) with: {'max_depth': 20, 'n_estimators': 350}\n",
      "0.8823 (+/- 0.0214) with: {'max_depth': 30, 'n_estimators': 300}\n",
      "0.8823 (+/- 0.0184) with: {'max_depth': 50, 'n_estimators': 250}\n",
      "0.8815 (+/- 0.0238) with: {'max_depth': 20, 'n_estimators': 300}\n",
      "0.8815 (+/- 0.0228) with: {'max_depth': 20, 'n_estimators': 450}\n",
      "0.8815 (+/- 0.0176) with: {'max_depth': 40, 'n_estimators': 250}\n",
      "0.8815 (+/- 0.0162) with: {'max_depth': 50, 'n_estimators': 200}\n",
      "0.8815 (+/- 0.02) with: {'max_depth': None, 'n_estimators': 350}\n",
      "0.8807 (+/- 0.014) with: {'max_depth': 20, 'n_estimators': 250}\n"
     ]
    }
   ],
   "source": [
    "from sklearn.ensemble import GradientBoostingClassifier\n",
    "\n",
    "\n",
    "params = {\n",
    "    \"n_estimators\": [50 * i for i in range(4, 10)],\n",
    "    \"max_depth\": [i for i in range(20, 51, 10)] + [None],\n",
    "}\n",
    "\n",
    "clf = GradientBoostingClassifier()\n",
    "\n",
    "grid = GridSearchCV(clf, params, cv=3, n_jobs=-1)\n",
    "grid_result = grid.fit(x_train, y_train)\n",
    "\n",
    "print_grid_cv_results(grid_result)"
   ]
  },
  {
   "cell_type": "markdown",
   "metadata": {},
   "source": [
    "#### SVM CLASSIFICATION:"
   ]
  },
  {
   "cell_type": "code",
   "execution_count": null,
   "metadata": {},
   "outputs": [
    {
     "name": "stdout",
     "output_type": "stream",
     "text": [
      "Best model score: 0.9737470167064438 Best model params: {'kernel': 'rbf'} \n",
      "0.9674 (+/- 0.0148) with: {'kernel': 'linear'}\n",
      "0.9475 (+/- 0.0104) with: {'kernel': 'sigmoid'}\n",
      "0.9737 (+/- 0.0104) with: {'kernel': 'rbf'}\n",
      "0.9109 (+/- 0.0158) with: {'kernel': 'poly'}\n"
     ]
    }
   ],
   "source": [
    "from sklearn.svm import SVC\n",
    "\n",
    "\n",
    "params = {\"kernel\": [\"linear\", \"sigmoid\", \"rbf\", \"poly\"]}\n",
    "\n",
    "clf = SVC()\n",
    "\n",
    "grid = GridSearchCV(clf, params, cv=3, n_jobs=-1)\n",
    "grid_result = grid.fit(x_train, y_train)\n",
    "\n",
    "print_grid_cv_results(grid_result)"
   ]
  },
  {
   "cell_type": "markdown",
   "metadata": {},
   "source": [
    "#### BEST MODEL:"
   ]
  },
  {
   "cell_type": "code",
   "execution_count": null,
   "metadata": {},
   "outputs": [
    {
     "name": "stdout",
     "output_type": "stream",
     "text": [
      "Accuracy: 0.9796296296296296\n",
      "Confusion matrix:\n",
      "[[53  0  0  0  0  0  0  0  0  0]\n",
      " [ 0 50  0  0  0  0  0  0  0  0]\n",
      " [ 0  0 47  0  0  0  0  0  0  0]\n",
      " [ 0  0  2 51  0  1  0  0  0  0]\n",
      " [ 0  0  0  0 60  0  0  0  0  0]\n",
      " [ 0  0  0  0  0 66  0  0  0  0]\n",
      " [ 0  0  0  0  0  0 53  0  0  0]\n",
      " [ 0  0  0  0  1  0  0 53  0  1]\n",
      " [ 0  0  1  1  0  0  0  0 41  0]\n",
      " [ 0  0  0  0  0  1  1  0  2 55]]\n"
     ]
    }
   ],
   "source": [
    "from sklearn.svm import SVC\n",
    "\n",
    "\n",
    "best_params = {\"kernel\": \"rbf\"}\n",
    "best_classifier = SVC\n",
    "\n",
    "regr = best_classifier(**best_params)\n",
    "regr.fit(x_train, y_train)\n",
    "y_pred = regr.predict(x_test)\n",
    "\n",
    "cm = confusion_matrix(y_test, y_pred)\n",
    "acc = accuracy_score(y_test, y_pred)\n",
    "\n",
    "print(f\"Accuracy: {acc}\")\n",
    "print(f\"Confusion matrix:\\n{cm}\")"
   ]
  }
 ],
 "metadata": {
  "kernelspec": {
   "display_name": "base",
   "language": "python",
   "name": "python3"
  },
  "language_info": {
   "codemirror_mode": {
    "name": "ipython",
    "version": 3
   },
   "file_extension": ".py",
   "mimetype": "text/x-python",
   "name": "python",
   "nbconvert_exporter": "python",
   "pygments_lexer": "ipython3",
   "version": "3.9.7"
  },
  "vscode": {
   "interpreter": {
    "hash": "26eab8343ce5ed02de4098c10e314ebb45ce0ac5e34fea85423d6f141bc9ca67"
   }
  }
 },
 "nbformat": 4,
 "nbformat_minor": 2
}
