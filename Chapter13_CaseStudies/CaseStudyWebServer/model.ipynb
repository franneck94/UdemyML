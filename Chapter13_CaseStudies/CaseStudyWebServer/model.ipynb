{
 "cells": [
  {
   "cell_type": "code",
   "execution_count": 66,
   "metadata": {},
   "outputs": [],
   "source": [
    "import numpy as np\n",
    "import pandas as pd"
   ]
  },
  {
   "source": [
    "### Dataset"
   ],
   "cell_type": "markdown",
   "metadata": {}
  },
  {
   "cell_type": "code",
   "execution_count": 67,
   "metadata": {},
   "outputs": [
    {
     "output_type": "stream",
     "name": "stdout",
     "text": [
      "   Unnamed: 0  id groups  age  healthy_eating  active_lifestyle  salary\n0           0   0      A   36               5                 5    2297\n1           1   1      A   55               3                 5    1134\n2           2   2      A   61               8                 1    4969\n3           3   3      O   29               3                 6     902\n4           4   4      O   34               6                 2    3574\n"
     ]
    }
   ],
   "source": [
    "dataset = pd.read_csv(\"employee_data.csv\")\n",
    "\n",
    "print(dataset.head())"
   ]
  },
  {
   "cell_type": "code",
   "execution_count": 68,
   "metadata": {},
   "outputs": [
    {
     "output_type": "stream",
     "name": "stdout",
     "text": [
      "  groups  age  healthy_eating  active_lifestyle  salary\n0      A   36               5                 5    2297\n1      A   55               3                 5    1134\n2      A   61               8                 1    4969\n3      O   29               3                 6     902\n4      O   34               6                 2    3574\n"
     ]
    }
   ],
   "source": [
    "dataset = dataset.drop(\"Unnamed: 0\", 1)\n",
    "dataset = dataset.drop(\"id\", 1)\n",
    "\n",
    "print(dataset.head())"
   ]
  },
  {
   "cell_type": "code",
   "execution_count": 69,
   "metadata": {},
   "outputs": [
    {
     "output_type": "stream",
     "name": "stdout",
     "text": [
      "[['A' 36 5 5 2297]\n ['A' 55 3 5 1134]\n ['A' 61 8 1 4969]\n ...\n ['O' 49 9 7 4158]\n ['AB' 56 6 7 2414]\n ['B' 64 4 9 788]]\n"
     ]
    }
   ],
   "source": [
    "dataset = dataset.to_numpy()\n",
    "print(dataset)"
   ]
  },
  {
   "cell_type": "code",
   "execution_count": 70,
   "metadata": {},
   "outputs": [
    {
     "output_type": "stream",
     "name": "stdout",
     "text": [
      "['A' 36 5 5] 2297\n(1000, 4) (1000,)\n"
     ]
    }
   ],
   "source": [
    "x = dataset[:, :-1]\n",
    "y = dataset[:, -1]\n",
    "\n",
    "print(x[0], y[0])\n",
    "print(x.shape, y.shape)"
   ]
  },
  {
   "source": [
    "### Model"
   ],
   "cell_type": "markdown",
   "metadata": {}
  },
  {
   "cell_type": "code",
   "execution_count": 71,
   "metadata": {},
   "outputs": [],
   "source": [
    "from sklearn.compose import ColumnTransformer\n",
    "from sklearn.preprocessing import OrdinalEncoder\n",
    "from sklearn.preprocessing import StandardScaler\n",
    "from sklearn.impute import SimpleImputer\n",
    "from sklearn.model_selection import train_test_split\n",
    "from sklearn.ensemble import RandomForestRegressor\n",
    "from sklearn.pipeline import Pipeline"
   ]
  },
  {
   "cell_type": "code",
   "execution_count": 72,
   "metadata": {},
   "outputs": [],
   "source": [
    "x_train, x_test, y_train, y_test = train_test_split(x, y, test_size=0.3)"
   ]
  },
  {
   "cell_type": "code",
   "execution_count": 73,
   "metadata": {},
   "outputs": [],
   "source": [
    "regr = RandomForestRegressor(n_estimators=100)"
   ]
  },
  {
   "cell_type": "code",
   "execution_count": 74,
   "metadata": {},
   "outputs": [],
   "source": [
    "categorical_columns = [0]\n",
    "numerical_columns = [1, 2, 3]\n",
    "\n",
    "numeric_transformer = Pipeline(\n",
    "    steps=[\n",
    "        ('scaler', StandardScaler())\n",
    "    ]\n",
    ")\n",
    "categorical_transformer = Pipeline(\n",
    "    steps=[\n",
    "        ('onehot', OrdinalEncoder())\n",
    "    ]\n",
    ")\n",
    "\n",
    "preprocessor_ordinal  = ColumnTransformer(\n",
    "    transformers=[\n",
    "        ('num', numeric_transformer, numerical_columns),\n",
    "        ('cat', categorical_transformer, categorical_columns)\n",
    "    )\n",
    ")"
   ]
  },
  {
   "cell_type": "code",
   "execution_count": 75,
   "metadata": {},
   "outputs": [
    {
     "output_type": "stream",
     "name": "stdout",
     "text": [
      "[['AB' 37 8 5]\n ['A' 42 5 6]\n ['O' 30 3 5]\n ...\n ['A' 33 3 6]\n ['A' 26 7 8]\n ['O' 54 6 5]]\n[[-0.31331871  1.48039997 -0.29590067  1.        ]\n [ 0.05665952  0.00771407  0.19492982  0.        ]\n [-0.83128823 -0.97407653 -0.29590067  3.        ]\n ...\n [-0.60930129 -0.97407653  0.19492982  0.        ]\n [-1.12727081  0.98950467  1.17659081  0.        ]\n [ 0.94460728  0.49860937 -0.29590067  3.        ]]\n"
     ]
    }
   ],
   "source": [
    "preprocessor_ordinal.fit(x_train)\n",
    "x_trans = preprocessor_ordinal.transform(x_train)\n",
    "\n",
    "print(x_train)\n",
    "print(x_trans)"
   ]
  },
  {
   "cell_type": "code",
   "execution_count": 76,
   "metadata": {},
   "outputs": [],
   "source": [
    "pipe_ordinal = Pipeline(\n",
    "    steps=[\n",
    "        ('preprocessor_ordinal', preprocessor_ordinal),\n",
    "        ('regressor', regr)\n",
    "    ]\n",
    ")"
   ]
  },
  {
   "cell_type": "code",
   "execution_count": 77,
   "metadata": {},
   "outputs": [
    {
     "output_type": "stream",
     "name": "stdout",
     "text": [
      "Score: 0.997092780711884\n"
     ]
    }
   ],
   "source": [
    "pipe_ordinal.fit(x_train, y_train)\n",
    "score = pipe_ordinal.score(x_test, y_test)\n",
    "\n",
    "print(f\"Score: {score}\")"
   ]
  },
  {
   "cell_type": "code",
   "execution_count": 78,
   "metadata": {},
   "outputs": [
    {
     "output_type": "stream",
     "name": "stdout",
     "text": [
      "[4267.59]\n"
     ]
    }
   ],
   "source": [
    "import pickle\n",
    "\n",
    "pickle.dump(regr, open(\"model.pkl\", \"wb\"))\n",
    "regr = pickle.load(open(\"model.pkl\", \"rb\"))\n",
    "\n",
    "sample = np.array([0, 40, 10, 10])\n",
    "print(regr.predict([sample]))"
   ]
  }
 ],
 "metadata": {
  "kernelspec": {
   "display_name": "Python 3",
   "language": "python",
   "name": "python3"
  },
  "language_info": {
   "codemirror_mode": {
    "name": "ipython",
    "version": 3
   },
   "file_extension": ".py",
   "mimetype": "text/x-python",
   "name": "python",
   "nbconvert_exporter": "python",
   "pygments_lexer": "ipython3",
   "version": "3.8.3-final"
  }
 },
 "nbformat": 4,
 "nbformat_minor": 2
}