{
 "cells": [
  {
   "cell_type": "code",
   "execution_count": 1,
   "metadata": {},
   "outputs": [],
   "source": [
    "import os\n",
    "import numpy as np\n",
    "np.random.seed(0)\n",
    "import pandas as pd\n",
    "import matplotlib.pyplot as plt\n",
    "from sklearn import set_config\n",
    "set_config(display=\"diagram\")"
   ]
  },
  {
   "cell_type": "code",
   "execution_count": 2,
   "metadata": {},
   "outputs": [],
   "source": [
    "DATA_PATH = os.path.abspath(\n",
    "    r\"C:\\Users\\jan\\Dropbox\\_Coding\\UdemyML\\Chapter13_CaseStudies\\CaseStudyIncome\\adult.xlsx\"\n",
    ")"
   ]
  },
  {
   "cell_type": "markdown",
   "metadata": {},
   "source": [
    "### Dataset"
   ]
  },
  {
   "cell_type": "code",
   "execution_count": 3,
   "metadata": {},
   "outputs": [],
   "source": [
    "df = pd.read_excel(DATA_PATH)"
   ]
  },
  {
   "cell_type": "code",
   "execution_count": 4,
   "metadata": {},
   "outputs": [],
   "source": [
    "idx = np.where(df[\"native-country\"] == \"Holand-Netherlands\")[0]"
   ]
  },
  {
   "cell_type": "code",
   "execution_count": 5,
   "metadata": {},
   "outputs": [
    {
     "name": "stdout",
     "output_type": "stream",
     "text": [
      "x shape: (48841, 10)\n",
      "y shape: (48841,)\n"
     ]
    }
   ],
   "source": [
    "data = df.to_numpy()\n",
    "\n",
    "x = data[:, :-1]\n",
    "x = np.delete(x, idx, axis=0)\n",
    "y = data[:, -1]\n",
    "y = np.delete(y, idx, axis=0)\n",
    "\n",
    "categorical_features = [1, 2, 3, 4, 5, 6, 7, 9]\n",
    "numerical_features = [0, 8]\n",
    "\n",
    "print(f\"x shape: {x.shape}\")\n",
    "print(f\"y shape: {y.shape}\")"
   ]
  },
  {
   "cell_type": "markdown",
   "metadata": {},
   "source": [
    "### y-Data"
   ]
  },
  {
   "cell_type": "code",
   "execution_count": 6,
   "metadata": {},
   "outputs": [],
   "source": [
    "def one_hot(y):\n",
    "    return np.array([0 if val == \"<=50K\" else 1 for val in y], dtype=np.int32)"
   ]
  },
  {
   "cell_type": "code",
   "execution_count": 7,
   "metadata": {
    "tags": []
   },
   "outputs": [],
   "source": [
    "y = one_hot(y)"
   ]
  },
  {
   "cell_type": "markdown",
   "metadata": {},
   "source": [
    "### Helper"
   ]
  },
  {
   "cell_type": "code",
   "execution_count": 8,
   "metadata": {},
   "outputs": [],
   "source": [
    "def print_grid_cv_results(grid_result):\n",
    "    print(\n",
    "        f\"Best model score: {grid_result.best_score_} \"\n",
    "        f\"Best model params: {grid_result.best_params_} \"\n",
    "    )\n",
    "    means = grid_result.cv_results_[\"mean_test_score\"]\n",
    "    stds = grid_result.cv_results_[\"std_test_score\"]\n",
    "    params = grid_result.cv_results_[\"params\"]\n",
    "\n",
    "    for mean, std, param in zip(means, stds, params):\n",
    "        mean = round(mean, 4)\n",
    "        std = round(std, 4)\n",
    "        print(f\"{mean} (+/- {2 * std}) with: {param}\")"
   ]
  },
  {
   "cell_type": "markdown",
   "metadata": {},
   "source": [
    "### Sklearn Imports"
   ]
  },
  {
   "cell_type": "code",
   "execution_count": 9,
   "metadata": {},
   "outputs": [],
   "source": [
    "from sklearn.compose import ColumnTransformer\n",
    "from sklearn.preprocessing import OrdinalEncoder\n",
    "from sklearn.preprocessing import OneHotEncoder\n",
    "from sklearn.preprocessing import StandardScaler\n",
    "from sklearn.model_selection import train_test_split\n",
    "from sklearn.ensemble import RandomForestClassifier\n",
    "from sklearn.pipeline import Pipeline\n",
    "from sklearn.model_selection import GridSearchCV"
   ]
  },
  {
   "cell_type": "code",
   "execution_count": 10,
   "metadata": {},
   "outputs": [],
   "source": [
    "x_train, x_test, y_train, y_test = train_test_split(x, y, test_size=0.3)"
   ]
  },
  {
   "cell_type": "markdown",
   "metadata": {},
   "source": [
    "### Classifier and Params"
   ]
  },
  {
   "cell_type": "code",
   "execution_count": 11,
   "metadata": {},
   "outputs": [],
   "source": [
    "params = {\n",
    "    \"classifier__n_estimators\": [50, 100, 200],\n",
    "    \"classifier__max_depth\": [None, 100, 200]\n",
    "}\n",
    "\n",
    "clf = RandomForestClassifier()"
   ]
  },
  {
   "cell_type": "markdown",
   "metadata": {},
   "source": [
    "### Ordinal Features"
   ]
  },
  {
   "cell_type": "code",
   "execution_count": 12,
   "metadata": {},
   "outputs": [],
   "source": [
    "numeric_transformer = Pipeline(\n",
    "    steps=[\n",
    "        ('scaler', StandardScaler())\n",
    "    ]\n",
    ")\n",
    "\n",
    "categorical_transformer = Pipeline(\n",
    "    steps=[\n",
    "        ('ordinal', OrdinalEncoder())\n",
    "    ]\n",
    ")\n",
    "\n",
    "preprocessor_odinal = ColumnTransformer(\n",
    "    transformers=[\n",
    "        ('numeric', numeric_transformer, numerical_features),\n",
    "        ('categorical', categorical_transformer, categorical_features)\n",
    "    ]\n",
    ")"
   ]
  },
  {
   "cell_type": "code",
   "execution_count": 13,
   "metadata": {},
   "outputs": [
    {
     "data": {
      "text/html": [
       "<style>div.sk-top-container {color: black;background-color: white;}div.sk-toggleable {background-color: white;}label.sk-toggleable__label {cursor: pointer;display: block;width: 100%;margin-bottom: 0;padding: 0.2em 0.3em;box-sizing: border-box;text-align: center;}div.sk-toggleable__content {max-height: 0;max-width: 0;overflow: hidden;text-align: left;background-color: #f0f8ff;}div.sk-toggleable__content pre {margin: 0.2em;color: black;border-radius: 0.25em;background-color: #f0f8ff;}input.sk-toggleable__control:checked~div.sk-toggleable__content {max-height: 200px;max-width: 100%;overflow: auto;}div.sk-estimator input.sk-toggleable__control:checked~label.sk-toggleable__label {background-color: #d4ebff;}div.sk-label input.sk-toggleable__control:checked~label.sk-toggleable__label {background-color: #d4ebff;}input.sk-hidden--visually {border: 0;clip: rect(1px 1px 1px 1px);clip: rect(1px, 1px, 1px, 1px);height: 1px;margin: -1px;overflow: hidden;padding: 0;position: absolute;width: 1px;}div.sk-estimator {font-family: monospace;background-color: #f0f8ff;margin: 0.25em 0.25em;border: 1px dotted black;border-radius: 0.25em;box-sizing: border-box;}div.sk-estimator:hover {background-color: #d4ebff;}div.sk-parallel-item::after {content: \"\";width: 100%;border-bottom: 1px solid gray;flex-grow: 1;}div.sk-label:hover label.sk-toggleable__label {background-color: #d4ebff;}div.sk-serial::before {content: \"\";position: absolute;border-left: 1px solid gray;box-sizing: border-box;top: 2em;bottom: 0;left: 50%;}div.sk-serial {display: flex;flex-direction: column;align-items: center;background-color: white;}div.sk-item {z-index: 1;}div.sk-parallel {display: flex;align-items: stretch;justify-content: center;background-color: white;}div.sk-parallel-item {display: flex;flex-direction: column;position: relative;background-color: white;}div.sk-parallel-item:first-child::after {align-self: flex-end;width: 50%;}div.sk-parallel-item:last-child::after {align-self: flex-start;width: 50%;}div.sk-parallel-item:only-child::after {width: 0;}div.sk-dashed-wrapped {border: 1px dashed gray;margin: 0.2em;box-sizing: border-box;padding-bottom: 0.1em;background-color: white;position: relative;}div.sk-label label {font-family: monospace;font-weight: bold;background-color: white;display: inline-block;line-height: 1.2em;}div.sk-label-container {position: relative;z-index: 2;text-align: center;}div.sk-container {display: inline-block;position: relative;}</style><div class=\"sk-top-container\"><div class=\"sk-container\"><div class=\"sk-item sk-dashed-wrapped\"><div class=\"sk-label-container\"><div class=\"sk-label sk-toggleable\"><input class=\"sk-toggleable__control sk-hidden--visually\" id=\"5a526fe1-2a28-43c1-8e83-f8c56aea883a\" type=\"checkbox\" ><label class=\"sk-toggleable__label\" for=\"5a526fe1-2a28-43c1-8e83-f8c56aea883a\">ColumnTransformer</label><div class=\"sk-toggleable__content\"><pre>ColumnTransformer(transformers=[('numeric',\n",
       "                                 Pipeline(steps=[('scaler', StandardScaler())]),\n",
       "                                 [0, 8]),\n",
       "                                ('categorical',\n",
       "                                 Pipeline(steps=[('ordinal',\n",
       "                                                  OrdinalEncoder())]),\n",
       "                                 [1, 2, 3, 4, 5, 6, 7, 9])])</pre></div></div></div><div class=\"sk-parallel\"><div class=\"sk-parallel-item\"><div class=\"sk-item\"><div class=\"sk-label-container\"><div class=\"sk-label sk-toggleable\"><input class=\"sk-toggleable__control sk-hidden--visually\" id=\"958cc298-8354-4caa-badb-73f7f39202d8\" type=\"checkbox\" ><label class=\"sk-toggleable__label\" for=\"958cc298-8354-4caa-badb-73f7f39202d8\">numeric</label><div class=\"sk-toggleable__content\"><pre>[0, 8]</pre></div></div></div><div class=\"sk-serial\"><div class=\"sk-item\"><div class=\"sk-serial\"><div class=\"sk-item\"><div class=\"sk-estimator sk-toggleable\"><input class=\"sk-toggleable__control sk-hidden--visually\" id=\"a04e96fc-e489-4a7f-882e-4bfc8087fdff\" type=\"checkbox\" ><label class=\"sk-toggleable__label\" for=\"a04e96fc-e489-4a7f-882e-4bfc8087fdff\">StandardScaler</label><div class=\"sk-toggleable__content\"><pre>StandardScaler()</pre></div></div></div></div></div></div></div></div><div class=\"sk-parallel-item\"><div class=\"sk-item\"><div class=\"sk-label-container\"><div class=\"sk-label sk-toggleable\"><input class=\"sk-toggleable__control sk-hidden--visually\" id=\"42053dc5-a31b-4418-96cd-03dbc9b00359\" type=\"checkbox\" ><label class=\"sk-toggleable__label\" for=\"42053dc5-a31b-4418-96cd-03dbc9b00359\">categorical</label><div class=\"sk-toggleable__content\"><pre>[1, 2, 3, 4, 5, 6, 7, 9]</pre></div></div></div><div class=\"sk-serial\"><div class=\"sk-item\"><div class=\"sk-serial\"><div class=\"sk-item\"><div class=\"sk-estimator sk-toggleable\"><input class=\"sk-toggleable__control sk-hidden--visually\" id=\"e4bb0777-f7a8-41d1-a572-bd4725e84bb5\" type=\"checkbox\" ><label class=\"sk-toggleable__label\" for=\"e4bb0777-f7a8-41d1-a572-bd4725e84bb5\">OrdinalEncoder</label><div class=\"sk-toggleable__content\"><pre>OrdinalEncoder()</pre></div></div></div></div></div></div></div></div></div></div></div></div>"
      ],
      "text/plain": [
       "ColumnTransformer(transformers=[('numeric',\n",
       "                                 Pipeline(steps=[('scaler', StandardScaler())]),\n",
       "                                 [0, 8]),\n",
       "                                ('categorical',\n",
       "                                 Pipeline(steps=[('ordinal',\n",
       "                                                  OrdinalEncoder())]),\n",
       "                                 [1, 2, 3, 4, 5, 6, 7, 9])])"
      ]
     },
     "execution_count": 13,
     "metadata": {},
     "output_type": "execute_result"
    }
   ],
   "source": [
    "preprocessor_odinal"
   ]
  },
  {
   "cell_type": "code",
   "execution_count": 14,
   "metadata": {},
   "outputs": [
    {
     "name": "stdout",
     "output_type": "stream",
     "text": [
      "Shape of odinal data: (34188, 10)\n",
      "Shape of odinal data: (14653, 10)\n"
     ]
    }
   ],
   "source": [
    "preprocessor_odinal.fit(x_train)\n",
    "\n",
    "x_train_ordinal = preprocessor_odinal.transform(x_train)\n",
    "x_test_ordinal = preprocessor_odinal.transform(x_test)\n",
    "\n",
    "print(f\"Shape of odinal data: {x_train_ordinal.shape}\")\n",
    "print(f\"Shape of odinal data: {x_test_ordinal.shape}\")"
   ]
  },
  {
   "cell_type": "code",
   "execution_count": 15,
   "metadata": {},
   "outputs": [],
   "source": [
    "pipe_ordinal = Pipeline(\n",
    "    steps=[\n",
    "        ('preprocessor_odinal', preprocessor_odinal),\n",
    "        ('classifier', clf)\n",
    "    ]\n",
    ")"
   ]
  },
  {
   "cell_type": "code",
   "execution_count": 16,
   "metadata": {},
   "outputs": [
    {
     "data": {
      "text/html": [
       "<style>div.sk-top-container {color: black;background-color: white;}div.sk-toggleable {background-color: white;}label.sk-toggleable__label {cursor: pointer;display: block;width: 100%;margin-bottom: 0;padding: 0.2em 0.3em;box-sizing: border-box;text-align: center;}div.sk-toggleable__content {max-height: 0;max-width: 0;overflow: hidden;text-align: left;background-color: #f0f8ff;}div.sk-toggleable__content pre {margin: 0.2em;color: black;border-radius: 0.25em;background-color: #f0f8ff;}input.sk-toggleable__control:checked~div.sk-toggleable__content {max-height: 200px;max-width: 100%;overflow: auto;}div.sk-estimator input.sk-toggleable__control:checked~label.sk-toggleable__label {background-color: #d4ebff;}div.sk-label input.sk-toggleable__control:checked~label.sk-toggleable__label {background-color: #d4ebff;}input.sk-hidden--visually {border: 0;clip: rect(1px 1px 1px 1px);clip: rect(1px, 1px, 1px, 1px);height: 1px;margin: -1px;overflow: hidden;padding: 0;position: absolute;width: 1px;}div.sk-estimator {font-family: monospace;background-color: #f0f8ff;margin: 0.25em 0.25em;border: 1px dotted black;border-radius: 0.25em;box-sizing: border-box;}div.sk-estimator:hover {background-color: #d4ebff;}div.sk-parallel-item::after {content: \"\";width: 100%;border-bottom: 1px solid gray;flex-grow: 1;}div.sk-label:hover label.sk-toggleable__label {background-color: #d4ebff;}div.sk-serial::before {content: \"\";position: absolute;border-left: 1px solid gray;box-sizing: border-box;top: 2em;bottom: 0;left: 50%;}div.sk-serial {display: flex;flex-direction: column;align-items: center;background-color: white;}div.sk-item {z-index: 1;}div.sk-parallel {display: flex;align-items: stretch;justify-content: center;background-color: white;}div.sk-parallel-item {display: flex;flex-direction: column;position: relative;background-color: white;}div.sk-parallel-item:first-child::after {align-self: flex-end;width: 50%;}div.sk-parallel-item:last-child::after {align-self: flex-start;width: 50%;}div.sk-parallel-item:only-child::after {width: 0;}div.sk-dashed-wrapped {border: 1px dashed gray;margin: 0.2em;box-sizing: border-box;padding-bottom: 0.1em;background-color: white;position: relative;}div.sk-label label {font-family: monospace;font-weight: bold;background-color: white;display: inline-block;line-height: 1.2em;}div.sk-label-container {position: relative;z-index: 2;text-align: center;}div.sk-container {display: inline-block;position: relative;}</style><div class=\"sk-top-container\"><div class=\"sk-container\"><div class=\"sk-item sk-dashed-wrapped\"><div class=\"sk-label-container\"><div class=\"sk-label sk-toggleable\"><input class=\"sk-toggleable__control sk-hidden--visually\" id=\"627893a5-f470-4ba9-9352-0d7c6292a8bb\" type=\"checkbox\" ><label class=\"sk-toggleable__label\" for=\"627893a5-f470-4ba9-9352-0d7c6292a8bb\">Pipeline</label><div class=\"sk-toggleable__content\"><pre>Pipeline(steps=[('preprocessor_odinal',\n",
       "                 ColumnTransformer(transformers=[('numeric',\n",
       "                                                  Pipeline(steps=[('scaler',\n",
       "                                                                   StandardScaler())]),\n",
       "                                                  [0, 8]),\n",
       "                                                 ('categorical',\n",
       "                                                  Pipeline(steps=[('ordinal',\n",
       "                                                                   OrdinalEncoder())]),\n",
       "                                                  [1, 2, 3, 4, 5, 6, 7, 9])])),\n",
       "                ('classifier', RandomForestClassifier())])</pre></div></div></div><div class=\"sk-serial\"><div class=\"sk-item sk-dashed-wrapped\"><div class=\"sk-label-container\"><div class=\"sk-label sk-toggleable\"><input class=\"sk-toggleable__control sk-hidden--visually\" id=\"ade3811e-c7fc-4a2f-b817-0fc252c5b10d\" type=\"checkbox\" ><label class=\"sk-toggleable__label\" for=\"ade3811e-c7fc-4a2f-b817-0fc252c5b10d\">preprocessor_odinal: ColumnTransformer</label><div class=\"sk-toggleable__content\"><pre>ColumnTransformer(transformers=[('numeric',\n",
       "                                 Pipeline(steps=[('scaler', StandardScaler())]),\n",
       "                                 [0, 8]),\n",
       "                                ('categorical',\n",
       "                                 Pipeline(steps=[('ordinal',\n",
       "                                                  OrdinalEncoder())]),\n",
       "                                 [1, 2, 3, 4, 5, 6, 7, 9])])</pre></div></div></div><div class=\"sk-parallel\"><div class=\"sk-parallel-item\"><div class=\"sk-item\"><div class=\"sk-label-container\"><div class=\"sk-label sk-toggleable\"><input class=\"sk-toggleable__control sk-hidden--visually\" id=\"7398aa82-1f81-4afb-bed1-e7865d5129c3\" type=\"checkbox\" ><label class=\"sk-toggleable__label\" for=\"7398aa82-1f81-4afb-bed1-e7865d5129c3\">numeric</label><div class=\"sk-toggleable__content\"><pre>[0, 8]</pre></div></div></div><div class=\"sk-serial\"><div class=\"sk-item\"><div class=\"sk-serial\"><div class=\"sk-item\"><div class=\"sk-estimator sk-toggleable\"><input class=\"sk-toggleable__control sk-hidden--visually\" id=\"998f14e0-0f3c-4339-b0fc-e08a739bef9e\" type=\"checkbox\" ><label class=\"sk-toggleable__label\" for=\"998f14e0-0f3c-4339-b0fc-e08a739bef9e\">StandardScaler</label><div class=\"sk-toggleable__content\"><pre>StandardScaler()</pre></div></div></div></div></div></div></div></div><div class=\"sk-parallel-item\"><div class=\"sk-item\"><div class=\"sk-label-container\"><div class=\"sk-label sk-toggleable\"><input class=\"sk-toggleable__control sk-hidden--visually\" id=\"1b2ae55b-e725-4a6d-a12e-a9c9575d69a2\" type=\"checkbox\" ><label class=\"sk-toggleable__label\" for=\"1b2ae55b-e725-4a6d-a12e-a9c9575d69a2\">categorical</label><div class=\"sk-toggleable__content\"><pre>[1, 2, 3, 4, 5, 6, 7, 9]</pre></div></div></div><div class=\"sk-serial\"><div class=\"sk-item\"><div class=\"sk-serial\"><div class=\"sk-item\"><div class=\"sk-estimator sk-toggleable\"><input class=\"sk-toggleable__control sk-hidden--visually\" id=\"3c8e08e7-8eec-4648-903b-99861d7f9dc4\" type=\"checkbox\" ><label class=\"sk-toggleable__label\" for=\"3c8e08e7-8eec-4648-903b-99861d7f9dc4\">OrdinalEncoder</label><div class=\"sk-toggleable__content\"><pre>OrdinalEncoder()</pre></div></div></div></div></div></div></div></div></div></div><div class=\"sk-item\"><div class=\"sk-estimator sk-toggleable\"><input class=\"sk-toggleable__control sk-hidden--visually\" id=\"b9541d10-808e-46f0-92a4-dac2f17bf062\" type=\"checkbox\" ><label class=\"sk-toggleable__label\" for=\"b9541d10-808e-46f0-92a4-dac2f17bf062\">RandomForestClassifier</label><div class=\"sk-toggleable__content\"><pre>RandomForestClassifier()</pre></div></div></div></div></div></div></div>"
      ],
      "text/plain": [
       "Pipeline(steps=[('preprocessor_odinal',\n",
       "                 ColumnTransformer(transformers=[('numeric',\n",
       "                                                  Pipeline(steps=[('scaler',\n",
       "                                                                   StandardScaler())]),\n",
       "                                                  [0, 8]),\n",
       "                                                 ('categorical',\n",
       "                                                  Pipeline(steps=[('ordinal',\n",
       "                                                                   OrdinalEncoder())]),\n",
       "                                                  [1, 2, 3, 4, 5, 6, 7, 9])])),\n",
       "                ('classifier', RandomForestClassifier())])"
      ]
     },
     "execution_count": 16,
     "metadata": {},
     "output_type": "execute_result"
    }
   ],
   "source": [
    "pipe_ordinal"
   ]
  },
  {
   "cell_type": "code",
   "execution_count": 17,
   "metadata": {},
   "outputs": [
    {
     "name": "stdout",
     "output_type": "stream",
     "text": [
      "Best model score: 0.817947817947818 Best model params: {'classifier__max_depth': 200, 'classifier__n_estimators': 200} \n",
      "0.8169 (+/- 0.0022) with: {'classifier__max_depth': None, 'classifier__n_estimators': 50}\n",
      "0.8173 (+/- 0.002) with: {'classifier__max_depth': None, 'classifier__n_estimators': 100}\n",
      "0.8178 (+/- 0.0016) with: {'classifier__max_depth': None, 'classifier__n_estimators': 200}\n",
      "0.8174 (+/- 0.0024) with: {'classifier__max_depth': 100, 'classifier__n_estimators': 50}\n",
      "0.8179 (+/- 0.002) with: {'classifier__max_depth': 100, 'classifier__n_estimators': 100}\n",
      "0.8179 (+/- 0.0036) with: {'classifier__max_depth': 100, 'classifier__n_estimators': 200}\n",
      "0.8169 (+/- 0.001) with: {'classifier__max_depth': 200, 'classifier__n_estimators': 50}\n",
      "0.8174 (+/- 0.0034) with: {'classifier__max_depth': 200, 'classifier__n_estimators': 100}\n",
      "0.8179 (+/- 0.0012) with: {'classifier__max_depth': 200, 'classifier__n_estimators': 200}\n"
     ]
    }
   ],
   "source": [
    "grid_ordinal = GridSearchCV(pipe_ordinal, params, cv=3)\n",
    "grid_results_ordinal = grid_ordinal.fit(x_train, y_train)\n",
    "print_grid_cv_results(grid_results_ordinal)"
   ]
  },
  {
   "cell_type": "markdown",
   "metadata": {},
   "source": [
    "### OneHot Features"
   ]
  },
  {
   "cell_type": "code",
   "execution_count": 18,
   "metadata": {},
   "outputs": [],
   "source": [
    "numeric_transformer = Pipeline(\n",
    "    steps=[\n",
    "        ('scaler', StandardScaler())\n",
    "    ]\n",
    ")\n",
    "\n",
    "categorical_transformer = Pipeline(\n",
    "    steps=[\n",
    "        ('onehot', OneHotEncoder(handle_unknown=\"ignore\", sparse=False))\n",
    "    ]\n",
    ")\n",
    "\n",
    "preprocessor_onehot = ColumnTransformer(\n",
    "    transformers=[\n",
    "        ('numeric', numeric_transformer, numerical_features),\n",
    "        ('categorical', categorical_transformer, categorical_features)\n",
    "    ]\n",
    ")"
   ]
  },
  {
   "cell_type": "code",
   "execution_count": 19,
   "metadata": {},
   "outputs": [
    {
     "data": {
      "text/html": [
       "<style>div.sk-top-container {color: black;background-color: white;}div.sk-toggleable {background-color: white;}label.sk-toggleable__label {cursor: pointer;display: block;width: 100%;margin-bottom: 0;padding: 0.2em 0.3em;box-sizing: border-box;text-align: center;}div.sk-toggleable__content {max-height: 0;max-width: 0;overflow: hidden;text-align: left;background-color: #f0f8ff;}div.sk-toggleable__content pre {margin: 0.2em;color: black;border-radius: 0.25em;background-color: #f0f8ff;}input.sk-toggleable__control:checked~div.sk-toggleable__content {max-height: 200px;max-width: 100%;overflow: auto;}div.sk-estimator input.sk-toggleable__control:checked~label.sk-toggleable__label {background-color: #d4ebff;}div.sk-label input.sk-toggleable__control:checked~label.sk-toggleable__label {background-color: #d4ebff;}input.sk-hidden--visually {border: 0;clip: rect(1px 1px 1px 1px);clip: rect(1px, 1px, 1px, 1px);height: 1px;margin: -1px;overflow: hidden;padding: 0;position: absolute;width: 1px;}div.sk-estimator {font-family: monospace;background-color: #f0f8ff;margin: 0.25em 0.25em;border: 1px dotted black;border-radius: 0.25em;box-sizing: border-box;}div.sk-estimator:hover {background-color: #d4ebff;}div.sk-parallel-item::after {content: \"\";width: 100%;border-bottom: 1px solid gray;flex-grow: 1;}div.sk-label:hover label.sk-toggleable__label {background-color: #d4ebff;}div.sk-serial::before {content: \"\";position: absolute;border-left: 1px solid gray;box-sizing: border-box;top: 2em;bottom: 0;left: 50%;}div.sk-serial {display: flex;flex-direction: column;align-items: center;background-color: white;}div.sk-item {z-index: 1;}div.sk-parallel {display: flex;align-items: stretch;justify-content: center;background-color: white;}div.sk-parallel-item {display: flex;flex-direction: column;position: relative;background-color: white;}div.sk-parallel-item:first-child::after {align-self: flex-end;width: 50%;}div.sk-parallel-item:last-child::after {align-self: flex-start;width: 50%;}div.sk-parallel-item:only-child::after {width: 0;}div.sk-dashed-wrapped {border: 1px dashed gray;margin: 0.2em;box-sizing: border-box;padding-bottom: 0.1em;background-color: white;position: relative;}div.sk-label label {font-family: monospace;font-weight: bold;background-color: white;display: inline-block;line-height: 1.2em;}div.sk-label-container {position: relative;z-index: 2;text-align: center;}div.sk-container {display: inline-block;position: relative;}</style><div class=\"sk-top-container\"><div class=\"sk-container\"><div class=\"sk-item sk-dashed-wrapped\"><div class=\"sk-label-container\"><div class=\"sk-label sk-toggleable\"><input class=\"sk-toggleable__control sk-hidden--visually\" id=\"6cf1c479-529f-4544-bf65-42287d5d6f2b\" type=\"checkbox\" ><label class=\"sk-toggleable__label\" for=\"6cf1c479-529f-4544-bf65-42287d5d6f2b\">ColumnTransformer</label><div class=\"sk-toggleable__content\"><pre>ColumnTransformer(transformers=[('numeric',\n",
       "                                 Pipeline(steps=[('scaler', StandardScaler())]),\n",
       "                                 [0, 8]),\n",
       "                                ('categorical',\n",
       "                                 Pipeline(steps=[('onehot',\n",
       "                                                  OneHotEncoder(handle_unknown='ignore',\n",
       "                                                                sparse=False))]),\n",
       "                                 [1, 2, 3, 4, 5, 6, 7, 9])])</pre></div></div></div><div class=\"sk-parallel\"><div class=\"sk-parallel-item\"><div class=\"sk-item\"><div class=\"sk-label-container\"><div class=\"sk-label sk-toggleable\"><input class=\"sk-toggleable__control sk-hidden--visually\" id=\"71938333-3e01-448d-9c70-12613216bd82\" type=\"checkbox\" ><label class=\"sk-toggleable__label\" for=\"71938333-3e01-448d-9c70-12613216bd82\">numeric</label><div class=\"sk-toggleable__content\"><pre>[0, 8]</pre></div></div></div><div class=\"sk-serial\"><div class=\"sk-item\"><div class=\"sk-serial\"><div class=\"sk-item\"><div class=\"sk-estimator sk-toggleable\"><input class=\"sk-toggleable__control sk-hidden--visually\" id=\"593fbccf-2292-466c-9e06-5f82b7742e69\" type=\"checkbox\" ><label class=\"sk-toggleable__label\" for=\"593fbccf-2292-466c-9e06-5f82b7742e69\">StandardScaler</label><div class=\"sk-toggleable__content\"><pre>StandardScaler()</pre></div></div></div></div></div></div></div></div><div class=\"sk-parallel-item\"><div class=\"sk-item\"><div class=\"sk-label-container\"><div class=\"sk-label sk-toggleable\"><input class=\"sk-toggleable__control sk-hidden--visually\" id=\"94eeb8cf-15da-4c12-a38b-423b96742146\" type=\"checkbox\" ><label class=\"sk-toggleable__label\" for=\"94eeb8cf-15da-4c12-a38b-423b96742146\">categorical</label><div class=\"sk-toggleable__content\"><pre>[1, 2, 3, 4, 5, 6, 7, 9]</pre></div></div></div><div class=\"sk-serial\"><div class=\"sk-item\"><div class=\"sk-serial\"><div class=\"sk-item\"><div class=\"sk-estimator sk-toggleable\"><input class=\"sk-toggleable__control sk-hidden--visually\" id=\"15b0215d-24ac-4b4b-a9f5-496aad3201a7\" type=\"checkbox\" ><label class=\"sk-toggleable__label\" for=\"15b0215d-24ac-4b4b-a9f5-496aad3201a7\">OneHotEncoder</label><div class=\"sk-toggleable__content\"><pre>OneHotEncoder(handle_unknown='ignore', sparse=False)</pre></div></div></div></div></div></div></div></div></div></div></div></div>"
      ],
      "text/plain": [
       "ColumnTransformer(transformers=[('numeric',\n",
       "                                 Pipeline(steps=[('scaler', StandardScaler())]),\n",
       "                                 [0, 8]),\n",
       "                                ('categorical',\n",
       "                                 Pipeline(steps=[('onehot',\n",
       "                                                  OneHotEncoder(handle_unknown='ignore',\n",
       "                                                                sparse=False))]),\n",
       "                                 [1, 2, 3, 4, 5, 6, 7, 9])])"
      ]
     },
     "execution_count": 19,
     "metadata": {},
     "output_type": "execute_result"
    }
   ],
   "source": [
    "preprocessor_onehot"
   ]
  },
  {
   "cell_type": "code",
   "execution_count": 20,
   "metadata": {},
   "outputs": [
    {
     "name": "stdout",
     "output_type": "stream",
     "text": [
      "Shape of onehot data: (34188, 103)\n",
      "Shape of onehot data: (14653, 103)\n"
     ]
    }
   ],
   "source": [
    "preprocessor_onehot.fit(x_train)\n",
    "\n",
    "x_train_onehot = preprocessor_onehot.transform(x_train)\n",
    "x_test_onehot = preprocessor_onehot.transform(x_test)\n",
    "\n",
    "print(f\"Shape of onehot data: {x_train_onehot.shape}\")\n",
    "print(f\"Shape of onehot data: {x_test_onehot.shape}\")"
   ]
  },
  {
   "cell_type": "code",
   "execution_count": 21,
   "metadata": {},
   "outputs": [],
   "source": [
    "pipe_onehot = Pipeline(\n",
    "    steps=[\n",
    "        ('preprocessor_onehot', preprocessor_odinal),\n",
    "        ('classifier', clf)\n",
    "    ]\n",
    ")"
   ]
  },
  {
   "cell_type": "code",
   "execution_count": 22,
   "metadata": {},
   "outputs": [
    {
     "data": {
      "text/html": [
       "<style>div.sk-top-container {color: black;background-color: white;}div.sk-toggleable {background-color: white;}label.sk-toggleable__label {cursor: pointer;display: block;width: 100%;margin-bottom: 0;padding: 0.2em 0.3em;box-sizing: border-box;text-align: center;}div.sk-toggleable__content {max-height: 0;max-width: 0;overflow: hidden;text-align: left;background-color: #f0f8ff;}div.sk-toggleable__content pre {margin: 0.2em;color: black;border-radius: 0.25em;background-color: #f0f8ff;}input.sk-toggleable__control:checked~div.sk-toggleable__content {max-height: 200px;max-width: 100%;overflow: auto;}div.sk-estimator input.sk-toggleable__control:checked~label.sk-toggleable__label {background-color: #d4ebff;}div.sk-label input.sk-toggleable__control:checked~label.sk-toggleable__label {background-color: #d4ebff;}input.sk-hidden--visually {border: 0;clip: rect(1px 1px 1px 1px);clip: rect(1px, 1px, 1px, 1px);height: 1px;margin: -1px;overflow: hidden;padding: 0;position: absolute;width: 1px;}div.sk-estimator {font-family: monospace;background-color: #f0f8ff;margin: 0.25em 0.25em;border: 1px dotted black;border-radius: 0.25em;box-sizing: border-box;}div.sk-estimator:hover {background-color: #d4ebff;}div.sk-parallel-item::after {content: \"\";width: 100%;border-bottom: 1px solid gray;flex-grow: 1;}div.sk-label:hover label.sk-toggleable__label {background-color: #d4ebff;}div.sk-serial::before {content: \"\";position: absolute;border-left: 1px solid gray;box-sizing: border-box;top: 2em;bottom: 0;left: 50%;}div.sk-serial {display: flex;flex-direction: column;align-items: center;background-color: white;}div.sk-item {z-index: 1;}div.sk-parallel {display: flex;align-items: stretch;justify-content: center;background-color: white;}div.sk-parallel-item {display: flex;flex-direction: column;position: relative;background-color: white;}div.sk-parallel-item:first-child::after {align-self: flex-end;width: 50%;}div.sk-parallel-item:last-child::after {align-self: flex-start;width: 50%;}div.sk-parallel-item:only-child::after {width: 0;}div.sk-dashed-wrapped {border: 1px dashed gray;margin: 0.2em;box-sizing: border-box;padding-bottom: 0.1em;background-color: white;position: relative;}div.sk-label label {font-family: monospace;font-weight: bold;background-color: white;display: inline-block;line-height: 1.2em;}div.sk-label-container {position: relative;z-index: 2;text-align: center;}div.sk-container {display: inline-block;position: relative;}</style><div class=\"sk-top-container\"><div class=\"sk-container\"><div class=\"sk-item sk-dashed-wrapped\"><div class=\"sk-label-container\"><div class=\"sk-label sk-toggleable\"><input class=\"sk-toggleable__control sk-hidden--visually\" id=\"3e10348f-8834-49bb-a1d4-05ead91abfc1\" type=\"checkbox\" ><label class=\"sk-toggleable__label\" for=\"3e10348f-8834-49bb-a1d4-05ead91abfc1\">Pipeline</label><div class=\"sk-toggleable__content\"><pre>Pipeline(steps=[('preprocessor_onehot',\n",
       "                 ColumnTransformer(transformers=[('numeric',\n",
       "                                                  Pipeline(steps=[('scaler',\n",
       "                                                                   StandardScaler())]),\n",
       "                                                  [0, 8]),\n",
       "                                                 ('categorical',\n",
       "                                                  Pipeline(steps=[('ordinal',\n",
       "                                                                   OrdinalEncoder())]),\n",
       "                                                  [1, 2, 3, 4, 5, 6, 7, 9])])),\n",
       "                ('classifier', RandomForestClassifier())])</pre></div></div></div><div class=\"sk-serial\"><div class=\"sk-item sk-dashed-wrapped\"><div class=\"sk-label-container\"><div class=\"sk-label sk-toggleable\"><input class=\"sk-toggleable__control sk-hidden--visually\" id=\"e7a119cc-ae8e-4e38-8c61-3d0f4b2c9b8b\" type=\"checkbox\" ><label class=\"sk-toggleable__label\" for=\"e7a119cc-ae8e-4e38-8c61-3d0f4b2c9b8b\">preprocessor_onehot: ColumnTransformer</label><div class=\"sk-toggleable__content\"><pre>ColumnTransformer(transformers=[('numeric',\n",
       "                                 Pipeline(steps=[('scaler', StandardScaler())]),\n",
       "                                 [0, 8]),\n",
       "                                ('categorical',\n",
       "                                 Pipeline(steps=[('ordinal',\n",
       "                                                  OrdinalEncoder())]),\n",
       "                                 [1, 2, 3, 4, 5, 6, 7, 9])])</pre></div></div></div><div class=\"sk-parallel\"><div class=\"sk-parallel-item\"><div class=\"sk-item\"><div class=\"sk-label-container\"><div class=\"sk-label sk-toggleable\"><input class=\"sk-toggleable__control sk-hidden--visually\" id=\"c717b2a2-a57b-49ad-8357-a62803b9fab0\" type=\"checkbox\" ><label class=\"sk-toggleable__label\" for=\"c717b2a2-a57b-49ad-8357-a62803b9fab0\">numeric</label><div class=\"sk-toggleable__content\"><pre>[0, 8]</pre></div></div></div><div class=\"sk-serial\"><div class=\"sk-item\"><div class=\"sk-serial\"><div class=\"sk-item\"><div class=\"sk-estimator sk-toggleable\"><input class=\"sk-toggleable__control sk-hidden--visually\" id=\"5d161326-9da3-44c9-aafa-abd4195e527d\" type=\"checkbox\" ><label class=\"sk-toggleable__label\" for=\"5d161326-9da3-44c9-aafa-abd4195e527d\">StandardScaler</label><div class=\"sk-toggleable__content\"><pre>StandardScaler()</pre></div></div></div></div></div></div></div></div><div class=\"sk-parallel-item\"><div class=\"sk-item\"><div class=\"sk-label-container\"><div class=\"sk-label sk-toggleable\"><input class=\"sk-toggleable__control sk-hidden--visually\" id=\"72d537bc-eade-4239-8855-a45bf4141eec\" type=\"checkbox\" ><label class=\"sk-toggleable__label\" for=\"72d537bc-eade-4239-8855-a45bf4141eec\">categorical</label><div class=\"sk-toggleable__content\"><pre>[1, 2, 3, 4, 5, 6, 7, 9]</pre></div></div></div><div class=\"sk-serial\"><div class=\"sk-item\"><div class=\"sk-serial\"><div class=\"sk-item\"><div class=\"sk-estimator sk-toggleable\"><input class=\"sk-toggleable__control sk-hidden--visually\" id=\"1c234116-58f3-4071-b059-a5c8efa16c80\" type=\"checkbox\" ><label class=\"sk-toggleable__label\" for=\"1c234116-58f3-4071-b059-a5c8efa16c80\">OrdinalEncoder</label><div class=\"sk-toggleable__content\"><pre>OrdinalEncoder()</pre></div></div></div></div></div></div></div></div></div></div><div class=\"sk-item\"><div class=\"sk-estimator sk-toggleable\"><input class=\"sk-toggleable__control sk-hidden--visually\" id=\"58be6fcb-9f1c-4817-9c18-4cec818f069f\" type=\"checkbox\" ><label class=\"sk-toggleable__label\" for=\"58be6fcb-9f1c-4817-9c18-4cec818f069f\">RandomForestClassifier</label><div class=\"sk-toggleable__content\"><pre>RandomForestClassifier()</pre></div></div></div></div></div></div></div>"
      ],
      "text/plain": [
       "Pipeline(steps=[('preprocessor_onehot',\n",
       "                 ColumnTransformer(transformers=[('numeric',\n",
       "                                                  Pipeline(steps=[('scaler',\n",
       "                                                                   StandardScaler())]),\n",
       "                                                  [0, 8]),\n",
       "                                                 ('categorical',\n",
       "                                                  Pipeline(steps=[('ordinal',\n",
       "                                                                   OrdinalEncoder())]),\n",
       "                                                  [1, 2, 3, 4, 5, 6, 7, 9])])),\n",
       "                ('classifier', RandomForestClassifier())])"
      ]
     },
     "execution_count": 22,
     "metadata": {},
     "output_type": "execute_result"
    }
   ],
   "source": [
    "pipe_onehot"
   ]
  },
  {
   "cell_type": "code",
   "execution_count": 23,
   "metadata": {},
   "outputs": [
    {
     "name": "stdout",
     "output_type": "stream",
     "text": [
      "Best model score: 0.818094068094068 Best model params: {'classifier__max_depth': 100, 'classifier__n_estimators': 200} \n",
      "0.8173 (+/- 0.0016) with: {'classifier__max_depth': None, 'classifier__n_estimators': 50}\n",
      "0.8167 (+/- 0.0016) with: {'classifier__max_depth': None, 'classifier__n_estimators': 100}\n",
      "0.8173 (+/- 0.0038) with: {'classifier__max_depth': None, 'classifier__n_estimators': 200}\n",
      "0.818 (+/- 0.0024) with: {'classifier__max_depth': 100, 'classifier__n_estimators': 50}\n",
      "0.8177 (+/- 0.005) with: {'classifier__max_depth': 100, 'classifier__n_estimators': 100}\n",
      "0.8181 (+/- 0.0016) with: {'classifier__max_depth': 100, 'classifier__n_estimators': 200}\n",
      "0.8163 (+/- 0.002) with: {'classifier__max_depth': 200, 'classifier__n_estimators': 50}\n",
      "0.8179 (+/- 0.003) with: {'classifier__max_depth': 200, 'classifier__n_estimators': 100}\n",
      "0.8175 (+/- 0.002) with: {'classifier__max_depth': 200, 'classifier__n_estimators': 200}\n"
     ]
    }
   ],
   "source": [
    "grid_onehot = GridSearchCV(pipe_onehot, params, cv=3)\n",
    "grid_results_onehot = grid_onehot.fit(x_train, y_train)\n",
    "print_grid_cv_results(grid_results_onehot)"
   ]
  },
  {
   "cell_type": "markdown",
   "metadata": {},
   "source": [
    "### TensorFlow Model"
   ]
  },
  {
   "cell_type": "code",
   "execution_count": 37,
   "metadata": {},
   "outputs": [],
   "source": [
    "from tensorflow.keras.layers import Activation\n",
    "from tensorflow.keras.layers import Dense\n",
    "from tensorflow.keras.models import Sequential\n",
    "from tensorflow.keras.optimizers import SGD"
   ]
  },
  {
   "cell_type": "code",
   "execution_count": 25,
   "metadata": {},
   "outputs": [],
   "source": [
    "y_train = y_train.reshape(-1, 1)\n",
    "y_test = y_test.reshape(-1, 1)"
   ]
  },
  {
   "cell_type": "code",
   "execution_count": 26,
   "metadata": {},
   "outputs": [],
   "source": [
    "def build_model(input_dim, output_dim):\n",
    "    model = Sequential()\n",
    "    model.add(Dense(units=128, input_dim=input_dim))\n",
    "    model.add(Activation(\"relu\"))\n",
    "    model.add(Dense(units=64))\n",
    "    model.add(Activation(\"relu\"))\n",
    "    model.add(Dense(units=output_dim))\n",
    "    model.add(Activation(\"sigmoid\"))\n",
    "    return model"
   ]
  },
  {
   "cell_type": "markdown",
   "metadata": {},
   "source": [
    "### Neural Network with Ordinal Features"
   ]
  },
  {
   "cell_type": "code",
   "execution_count": 27,
   "metadata": {},
   "outputs": [
    {
     "name": "stdout",
     "output_type": "stream",
     "text": [
      "Epoch 1/20\n",
      "1069/1069 [==============================] - 6s 4ms/step - loss: 0.5620 - binary_accuracy: 0.7354 - val_loss: 0.4939 - val_binary_accuracy: 0.7594\n",
      "Epoch 2/20\n",
      "1069/1069 [==============================] - 4s 4ms/step - loss: 0.4853 - binary_accuracy: 0.7590 - val_loss: 0.5097 - val_binary_accuracy: 0.7466\n",
      "Epoch 3/20\n",
      "1069/1069 [==============================] - 4s 4ms/step - loss: 0.4741 - binary_accuracy: 0.7617 - val_loss: 0.4750 - val_binary_accuracy: 0.7592\n",
      "Epoch 4/20\n",
      "1069/1069 [==============================] - 4s 3ms/step - loss: 0.4719 - binary_accuracy: 0.7642 - val_loss: 0.4730 - val_binary_accuracy: 0.7704\n",
      "Epoch 5/20\n",
      "1069/1069 [==============================] - 4s 4ms/step - loss: 0.4686 - binary_accuracy: 0.7686 - val_loss: 0.4585 - val_binary_accuracy: 0.7657\n",
      "Epoch 6/20\n",
      "1069/1069 [==============================] - 4s 4ms/step - loss: 0.4615 - binary_accuracy: 0.7674 - val_loss: 0.4632 - val_binary_accuracy: 0.7617\n",
      "Epoch 7/20\n",
      "1069/1069 [==============================] - 4s 4ms/step - loss: 0.4575 - binary_accuracy: 0.7678 - val_loss: 0.4530 - val_binary_accuracy: 0.7684\n",
      "Epoch 8/20\n",
      "1069/1069 [==============================] - 4s 4ms/step - loss: 0.4555 - binary_accuracy: 0.7720 - val_loss: 0.4507 - val_binary_accuracy: 0.7691\n",
      "Epoch 9/20\n",
      "1069/1069 [==============================] - 4s 4ms/step - loss: 0.4552 - binary_accuracy: 0.7683 - val_loss: 0.4493 - val_binary_accuracy: 0.7764\n",
      "Epoch 10/20\n",
      "1069/1069 [==============================] - 4s 4ms/step - loss: 0.4520 - binary_accuracy: 0.7719 - val_loss: 0.4457 - val_binary_accuracy: 0.7725\n",
      "Epoch 11/20\n",
      "1069/1069 [==============================] - 4s 4ms/step - loss: 0.4490 - binary_accuracy: 0.7719 - val_loss: 0.4518 - val_binary_accuracy: 0.7798\n",
      "Epoch 12/20\n",
      "1069/1069 [==============================] - 4s 4ms/step - loss: 0.4463 - binary_accuracy: 0.7746 - val_loss: 0.4645 - val_binary_accuracy: 0.7612\n",
      "Epoch 13/20\n",
      "1069/1069 [==============================] - 4s 4ms/step - loss: 0.4425 - binary_accuracy: 0.7738 - val_loss: 0.4425 - val_binary_accuracy: 0.7843\n",
      "Epoch 14/20\n",
      "1069/1069 [==============================] - 4s 4ms/step - loss: 0.4442 - binary_accuracy: 0.7758 - val_loss: 0.4359 - val_binary_accuracy: 0.7802\n",
      "Epoch 15/20\n",
      "1069/1069 [==============================] - 4s 4ms/step - loss: 0.4389 - binary_accuracy: 0.7776 - val_loss: 0.4348 - val_binary_accuracy: 0.7750\n",
      "Epoch 16/20\n",
      "1069/1069 [==============================] - 4s 4ms/step - loss: 0.4373 - binary_accuracy: 0.7791 - val_loss: 0.4350 - val_binary_accuracy: 0.7706\n",
      "Epoch 17/20\n",
      "1069/1069 [==============================] - 4s 4ms/step - loss: 0.4343 - binary_accuracy: 0.7816 - val_loss: 0.4574 - val_binary_accuracy: 0.7632\n",
      "Epoch 18/20\n",
      "1069/1069 [==============================] - 4s 4ms/step - loss: 0.4299 - binary_accuracy: 0.7851 - val_loss: 0.4412 - val_binary_accuracy: 0.7691\n",
      "Epoch 19/20\n",
      "1069/1069 [==============================] - 4s 3ms/step - loss: 0.4344 - binary_accuracy: 0.7804 - val_loss: 0.4274 - val_binary_accuracy: 0.7915\n",
      "Epoch 20/20\n",
      "1069/1069 [==============================] - 4s 3ms/step - loss: 0.4273 - binary_accuracy: 0.7843 - val_loss: 0.4261 - val_binary_accuracy: 0.7754\n"
     ]
    }
   ],
   "source": [
    "model = build_model(\n",
    "    input_dim=x_test_ordinal.shape[1],\n",
    "    output_dim=y_train.shape[1]\n",
    ")\n",
    "\n",
    "model.compile(\n",
    "    loss=\"binary_crossentropy\",\n",
    "    optimizer=SGD(learning_rate=0.001),\n",
    "    metrics=[\"binary_accuracy\"]\n",
    ")\n",
    "\n",
    "history_ordinal = model.fit(\n",
    "    x=x_train_ordinal,\n",
    "    y=y_train,\n",
    "    epochs=20,\n",
    "    validation_data=(x_test_ordinal, y_test)\n",
    ")"
   ]
  },
  {
   "cell_type": "code",
   "execution_count": 28,
   "metadata": {},
   "outputs": [
    {
     "data": {
      "image/png": "[encoded data removed]",
      "text/plain": [
       "<Figure size 432x288 with 1 Axes>"
      ]
     },
     "metadata": {
      "needs_background": "light"
     },
     "output_type": "display_data"
    }
   ],
   "source": [
    "val_binary_accuracy = history_ordinal.history[\"val_binary_accuracy\"]\n",
    "\n",
    "plt.plot(range(len(val_binary_accuracy)), val_binary_accuracy)\n",
    "plt.show()"
   ]
  },
  {
   "cell_type": "markdown",
   "metadata": {},
   "source": [
    "### Neural Network with OneHot Features"
   ]
  },
  {
   "cell_type": "code",
   "execution_count": 29,
   "metadata": {},
   "outputs": [
    {
     "name": "stdout",
     "output_type": "stream",
     "text": [
      "Epoch 1/20\n",
      "1069/1069 [==============================] - 5s 4ms/step - loss: 0.6268 - binary_accuracy: 0.6721 - val_loss: 0.5141 - val_binary_accuracy: 0.7603\n",
      "Epoch 2/20\n",
      "1069/1069 [==============================] - 4s 4ms/step - loss: 0.5006 - binary_accuracy: 0.7592 - val_loss: 0.4658 - val_binary_accuracy: 0.7605\n",
      "Epoch 3/20\n",
      "1069/1069 [==============================] - 4s 4ms/step - loss: 0.4540 - binary_accuracy: 0.7658 - val_loss: 0.4362 - val_binary_accuracy: 0.7755\n",
      "Epoch 4/20\n",
      "1069/1069 [==============================] - 4s 4ms/step - loss: 0.4312 - binary_accuracy: 0.7814 - val_loss: 0.4185 - val_binary_accuracy: 0.7929\n",
      "Epoch 5/20\n",
      "1069/1069 [==============================] - 4s 4ms/step - loss: 0.4118 - binary_accuracy: 0.7991 - val_loss: 0.4072 - val_binary_accuracy: 0.8015\n",
      "Epoch 6/20\n",
      "1069/1069 [==============================] - 4s 4ms/step - loss: 0.4042 - binary_accuracy: 0.8080 - val_loss: 0.3992 - val_binary_accuracy: 0.8074\n",
      "Epoch 7/20\n",
      "1069/1069 [==============================] - 4s 4ms/step - loss: 0.3951 - binary_accuracy: 0.8122 - val_loss: 0.3930 - val_binary_accuracy: 0.8128\n",
      "Epoch 8/20\n",
      "1069/1069 [==============================] - 4s 4ms/step - loss: 0.3910 - binary_accuracy: 0.8127 - val_loss: 0.3879 - val_binary_accuracy: 0.8159\n",
      "Epoch 9/20\n",
      "1069/1069 [==============================] - 4s 4ms/step - loss: 0.3843 - binary_accuracy: 0.8181 - val_loss: 0.3834 - val_binary_accuracy: 0.8187\n",
      "Epoch 10/20\n",
      "1069/1069 [==============================] - 4s 4ms/step - loss: 0.3827 - binary_accuracy: 0.8170 - val_loss: 0.3796 - val_binary_accuracy: 0.8209\n",
      "Epoch 11/20\n",
      "1069/1069 [==============================] - 4s 4ms/step - loss: 0.3815 - binary_accuracy: 0.8212 - val_loss: 0.3763 - val_binary_accuracy: 0.8237\n",
      "Epoch 12/20\n",
      "1069/1069 [==============================] - 4s 4ms/step - loss: 0.3753 - binary_accuracy: 0.8241 - val_loss: 0.3733 - val_binary_accuracy: 0.8260\n",
      "Epoch 13/20\n",
      "1069/1069 [==============================] - 4s 4ms/step - loss: 0.3695 - binary_accuracy: 0.8297 - val_loss: 0.3706 - val_binary_accuracy: 0.8287\n",
      "Epoch 14/20\n",
      "1069/1069 [==============================] - 4s 4ms/step - loss: 0.3714 - binary_accuracy: 0.8259 - val_loss: 0.3683 - val_binary_accuracy: 0.8305\n",
      "Epoch 15/20\n",
      "1069/1069 [==============================] - 4s 4ms/step - loss: 0.3671 - binary_accuracy: 0.8274 - val_loss: 0.3661 - val_binary_accuracy: 0.8316\n",
      "Epoch 16/20\n",
      "1069/1069 [==============================] - 4s 4ms/step - loss: 0.3691 - binary_accuracy: 0.8272 - val_loss: 0.3642 - val_binary_accuracy: 0.8327\n",
      "Epoch 17/20\n",
      "1069/1069 [==============================] - 4s 4ms/step - loss: 0.3651 - binary_accuracy: 0.8283 - val_loss: 0.3625 - val_binary_accuracy: 0.8334\n",
      "Epoch 18/20\n",
      "1069/1069 [==============================] - 4s 4ms/step - loss: 0.3619 - binary_accuracy: 0.8323 - val_loss: 0.3608 - val_binary_accuracy: 0.8345\n",
      "Epoch 19/20\n",
      "1069/1069 [==============================] - 4s 4ms/step - loss: 0.3621 - binary_accuracy: 0.8301 - val_loss: 0.3594 - val_binary_accuracy: 0.8350\n",
      "Epoch 20/20\n",
      "1069/1069 [==============================] - 4s 4ms/step - loss: 0.3615 - binary_accuracy: 0.8310 - val_loss: 0.3581 - val_binary_accuracy: 0.8358\n"
     ]
    }
   ],
   "source": [
    "model = build_model(\n",
    "    input_dim=x_train_onehot.shape[1],\n",
    "    output_dim=y_train.shape[1]\n",
    ")\n",
    "\n",
    "model.compile(\n",
    "    loss=\"binary_crossentropy\",\n",
    "    optimizer=SGD(learning_rate=0.001),\n",
    "    metrics=[\"binary_accuracy\"]\n",
    ")\n",
    "\n",
    "history_onehot = model.fit(\n",
    "    x=x_train_onehot,\n",
    "    y=y_train,\n",
    "    epochs=20,\n",
    "    validation_data=(x_test_onehot, y_test)\n",
    ")"
   ]
  },
  {
   "cell_type": "code",
   "execution_count": 30,
   "metadata": {},
   "outputs": [
    {
     "data": {
      "image/png": "[encoded data removed]",
      "text/plain": [
       "<Figure size 432x288 with 1 Axes>"
      ]
     },
     "metadata": {
      "needs_background": "light"
     },
     "output_type": "display_data"
    }
   ],
   "source": [
    "val_binary_accuracy = history_onehot.history[\"val_binary_accuracy\"]\n",
    "\n",
    "plt.plot(range(len(val_binary_accuracy)), val_binary_accuracy)\n",
    "plt.show()"
   ]
  },
  {
   "cell_type": "markdown",
   "metadata": {},
   "source": [
    "### Pass in user-data"
   ]
  },
  {
   "cell_type": "code",
   "execution_count": 31,
   "metadata": {},
   "outputs": [
    {
     "name": "stderr",
     "output_type": "stream",
     "text": [
      "C:\\Users\\Jan\\Anaconda3\\lib\\site-packages\\sklearn\\pipeline.py:335: DataConversionWarning: A column-vector y was passed when a 1d array was expected. Please change the shape of y to (n_samples,), for example using ravel().\n",
      "  self._final_estimator.fit(Xt, y, **fit_params_last_step)\n"
     ]
    },
    {
     "name": "stdout",
     "output_type": "stream",
     "text": [
      "Score: 0.8188084351327374\n"
     ]
    }
   ],
   "source": [
    "pipe_ordinal.fit(x_train, y_train)\n",
    "score = pipe_ordinal.score(x_test, y_test)\n",
    "\n",
    "print(f\"Score: {score}\")"
   ]
  },
  {
   "cell_type": "code",
   "execution_count": 32,
   "metadata": {},
   "outputs": [
    {
     "name": "stdout",
     "output_type": "stream",
     "text": [
      "Pred: [0]\n"
     ]
    }
   ],
   "source": [
    "x_sample = [\n",
    "    25,\n",
    "    \"Private\",\n",
    "    \"11th\",\n",
    "    \"Never-married\",\n",
    "    \"Machine-op-inspct\",\n",
    "    \"Own-child\",\n",
    "    \"Black\",\n",
    "    \"Male\",\n",
    "    40,\n",
    "    \"United-States\"\n",
    "]\n",
    "y_sample = 0\n",
    "\n",
    "y_pred_sample = pipe_ordinal.predict([x_sample])\n",
    "\n",
    "print(f\"Pred: {y_pred_sample}\")"
   ]
  }
 ],
 "metadata": {
  "interpreter": {
   "hash": "a70ade87c18bf9df7701d35ff9479870395d7462b82e94d46211d02695a62577"
  },
  "kernelspec": {
   "display_name": "Python 3.8.3 64-bit (conda)",
   "name": "python3"
  },
  "language_info": {
   "codemirror_mode": {
    "name": "ipython",
    "version": 3
   },
   "file_extension": ".py",
   "mimetype": "text/x-python",
   "name": "python",
   "nbconvert_exporter": "python",
   "pygments_lexer": "ipython3",
   "version": "3.8.3"
  }
 },
 "nbformat": 4,
 "nbformat_minor": 2
}