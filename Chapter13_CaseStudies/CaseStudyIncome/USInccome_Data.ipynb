{
 "cells": [
  {
   "cell_type": "code",
   "execution_count": 3,
   "metadata": {},
   "outputs": [],
   "source": [
    "import os\n",
    "import numpy as np\n",
    "np.random.seed(0)\n",
    "import pandas as pd"
   ]
  },
  {
   "cell_type": "code",
   "execution_count": 4,
   "metadata": {},
   "outputs": [],
   "source": [
    "DATA_PATH = os.path.abspath(\n",
    "    r\"C:\\Users\\Jan\\OneDrive\\_Coding\\UdemyML\\Chapter13_CaseStudies\\CaseStudyIncome\\adult.xlsx\"\n",
    ")"
   ]
  },
  {
   "cell_type": "code",
   "execution_count": 5,
   "metadata": {},
   "outputs": [],
   "source": [
    "df = pd.read_excel(DATA_PATH)"
   ]
  },
  {
   "cell_type": "code",
   "execution_count": 9,
   "metadata": {},
   "outputs": [
    {
     "output_type": "stream",
     "name": "stdout",
     "text": [
      "Column names:\nIndex(['age', 'workclass', 'education', 'marital-status', 'occupation',\n       'relationship', 'race', 'gender', 'hours-per-week', 'native-country',\n       'income'],\n      dtype='object')\n"
     ]
    }
   ],
   "source": [
    "print(f\"Column names:\\n{df.columns}\")"
   ]
  },
  {
   "cell_type": "code",
   "execution_count": 8,
   "metadata": {},
   "outputs": [
    {
     "output_type": "stream",
     "name": "stdout",
     "text": [
      "Data types:\nage                int64\nworkclass         object\neducation         object\nmarital-status    object\noccupation        object\nrelationship      object\nrace              object\ngender            object\nhours-per-week     int64\nnative-country    object\nincome            object\ndtype: object\n"
     ]
    }
   ],
   "source": [
    "print(f\"Data types:\\n{df.dtypes}\")"
   ]
  },
  {
   "cell_type": "code",
   "execution_count": 10,
   "metadata": {},
   "outputs": [
    {
     "output_type": "stream",
     "name": "stdout",
     "text": [
      "Shape:\n(48842, 11)\n"
     ]
    }
   ],
   "source": [
    "print(f\"Shape:\\n{df.shape}\")"
   ]
  },
  {
   "cell_type": "code",
   "execution_count": 11,
   "metadata": {},
   "outputs": [
    {
     "output_type": "stream",
     "name": "stdout",
     "text": [
      "age - Number of categories: 74\nworkclass - Number of categories: 9\neducation - Number of categories: 16\nmarital-status - Number of categories: 7\noccupation - Number of categories: 15\nrelationship - Number of categories: 6\nrace - Number of categories: 5\ngender - Number of categories: 2\nhours-per-week - Number of categories: 96\nnative-country - Number of categories: 42\nincome - Number of categories: 2\n"
     ]
    }
   ],
   "source": [
    "for col_name in df.columns:\n",
    "    print(f\"{col_name} - Number of categories: {len(df[col_name].value_counts())}\")"
   ]
  }
 ],
 "metadata": {
  "kernelspec": {
   "display_name": "Python 3",
   "language": "python",
   "name": "python3"
  },
  "language_info": {
   "codemirror_mode": {
    "name": "ipython",
    "version": 3
   },
   "file_extension": ".py",
   "mimetype": "text/x-python",
   "name": "python",
   "nbconvert_exporter": "python",
   "pygments_lexer": "ipython3",
   "version": "3.8.3-final"
  }
 },
 "nbformat": 4,
 "nbformat_minor": 2
}
