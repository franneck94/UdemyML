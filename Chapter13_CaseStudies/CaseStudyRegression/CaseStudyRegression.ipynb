{
 "cells": [
  {
   "cell_type": "code",
   "execution_count": 1,
   "metadata": {},
   "outputs": [],
   "source": [
    "import numpy as np\n",
    "np.random.seed(42)\n",
    "import matplotlib.pyplot as plt\n",
    "from sklearn.datasets import fetch_california_housing\n",
    "from sklearn.metrics import mean_squared_error\n",
    "from sklearn.metrics import mean_absolute_error\n",
    "from sklearn.metrics import r2_score\n",
    "from sklearn.metrics import make_scorer\n",
    "from sklearn.model_selection import train_test_split\n",
    "from sklearn.model_selection import GridSearchCV\n",
    "from sklearn.model_selection import cross_validate\n",
    "from sklearn.preprocessing import StandardScaler"
   ]
  },
  {
   "cell_type": "markdown",
   "metadata": {},
   "source": [
    "#### Helper"
   ]
  },
  {
   "cell_type": "code",
   "execution_count": 2,
   "metadata": {},
   "outputs": [],
   "source": [
    "def print_grid_cv_results(grid_result):\n",
    "    print(\n",
    "        f\"Best model score: {grid_result.best_score_} \"\n",
    "        f\"Best model params: {grid_result.best_params_} \"\n",
    "    )\n",
    "    means = grid_result.cv_results_[\"mean_test_score\"]\n",
    "    stds = grid_result.cv_results_[\"std_test_score\"]\n",
    "    params = grid_result.cv_results_[\"params\"]\n",
    "\n",
    "    for mean, std, param in zip(means, stds, params):\n",
    "        mean = round(mean, 4)\n",
    "        std = round(std, 4)\n",
    "        print(f\"{mean} (+/- {2 * std}) with: {param}\")"
   ]
  },
  {
   "cell_type": "markdown",
   "metadata": {},
   "source": [
    "#### LOAD DATASET"
   ]
  },
  {
   "cell_type": "code",
   "execution_count": 3,
   "metadata": {},
   "outputs": [],
   "source": [
    "cal_housing = fetch_california_housing()\n",
    "\n",
    "x = cal_housing.data\n",
    "y = cal_housing.target\n",
    "\n",
    "x_train, x_test, y_train, y_test = train_test_split(x, y, test_size=0.3)"
   ]
  },
  {
   "cell_type": "markdown",
   "metadata": {},
   "source": [
    "#### NORMALIZE DATASET"
   ]
  },
  {
   "cell_type": "code",
   "execution_count": 4,
   "metadata": {},
   "outputs": [],
   "source": [
    "scaler = StandardScaler()\n",
    "scaler.fit(x_train)\n",
    "\n",
    "x_train = scaler.transform(x_train)\n",
    "x_test = scaler.transform(x_test)"
   ]
  },
  {
   "cell_type": "markdown",
   "metadata": {},
   "source": [
    "#### Metrics"
   ]
  },
  {
   "cell_type": "code",
   "execution_count": 5,
   "metadata": {},
   "outputs": [],
   "source": [
    "scoring_metrics = {\n",
    "    'r2_score': make_scorer(r2_score)\n",
    "}"
   ]
  },
  {
   "cell_type": "markdown",
   "metadata": {},
   "source": [
    "#### LINEAR REGRESSION:"
   ]
  },
  {
   "cell_type": "code",
   "execution_count": 6,
   "metadata": {},
   "outputs": [
    {
     "name": "stdout",
     "output_type": "stream",
     "text": [
      "Mean R2: 0.6075224720706819\n"
     ]
    }
   ],
   "source": [
    "from sklearn.linear_model import LinearRegression\n",
    "\n",
    "regr = LinearRegression()\n",
    "cv_results = cross_validate(\n",
    "    regr, x_train, y_train, cv=3, scoring=scoring_metrics\n",
    ")\n",
    "test_r2_score = cv_results['test_r2_score']\n",
    "\n",
    "print(f\"Mean R2: {np.mean(test_r2_score)}\")"
   ]
  },
  {
   "cell_type": "markdown",
   "metadata": {},
   "source": [
    "#### KNN REGRSSOR"
   ]
  },
  {
   "cell_type": "code",
   "execution_count": 7,
   "metadata": {},
   "outputs": [
    {
     "name": "stdout",
     "output_type": "stream",
     "text": [
      "Best model score: 0.6836115816373965 Best model params: {'n_neighbors': 14, 'weights': 'distance'} \n",
      "0.613 (+/- 0.0122) with: {'n_neighbors': 2, 'weights': 'uniform'}\n",
      "0.6147 (+/- 0.0124) with: {'n_neighbors': 2, 'weights': 'distance'}\n",
      "0.6609 (+/- 0.0078) with: {'n_neighbors': 4, 'weights': 'uniform'}\n",
      "0.664 (+/- 0.0082) with: {'n_neighbors': 4, 'weights': 'distance'}\n",
      "0.6717 (+/- 0.0024) with: {'n_neighbors': 6, 'weights': 'uniform'}\n",
      "0.6759 (+/- 0.0028) with: {'n_neighbors': 6, 'weights': 'distance'}\n",
      "0.6742 (+/- 0.0058) with: {'n_neighbors': 8, 'weights': 'uniform'}\n",
      "0.6791 (+/- 0.0052) with: {'n_neighbors': 8, 'weights': 'distance'}\n",
      "0.6774 (+/- 0.0062) with: {'n_neighbors': 10, 'weights': 'uniform'}\n",
      "0.6824 (+/- 0.0054) with: {'n_neighbors': 10, 'weights': 'distance'}\n",
      "0.6784 (+/- 0.0068) with: {'n_neighbors': 12, 'weights': 'uniform'}\n",
      "0.6836 (+/- 0.0056) with: {'n_neighbors': 12, 'weights': 'distance'}\n",
      "0.6782 (+/- 0.0064) with: {'n_neighbors': 14, 'weights': 'uniform'}\n",
      "0.6836 (+/- 0.0054) with: {'n_neighbors': 14, 'weights': 'distance'}\n",
      "0.6778 (+/- 0.0078) with: {'n_neighbors': 16, 'weights': 'uniform'}\n",
      "0.6833 (+/- 0.0066) with: {'n_neighbors': 16, 'weights': 'distance'}\n",
      "0.6764 (+/- 0.0078) with: {'n_neighbors': 18, 'weights': 'uniform'}\n",
      "0.6823 (+/- 0.0068) with: {'n_neighbors': 18, 'weights': 'distance'}\n",
      "0.6748 (+/- 0.0078) with: {'n_neighbors': 20, 'weights': 'uniform'}\n",
      "0.6809 (+/- 0.0068) with: {'n_neighbors': 20, 'weights': 'distance'}\n",
      "0.6736 (+/- 0.0062) with: {'n_neighbors': 22, 'weights': 'uniform'}\n",
      "0.6799 (+/- 0.0058) with: {'n_neighbors': 22, 'weights': 'distance'}\n"
     ]
    }
   ],
   "source": [
    "from sklearn.neighbors import KNeighborsRegressor\n",
    "\n",
    "params = {\n",
    "    \"n_neighbors\": [i for i in range(2, 24, 2)],\n",
    "    \"weights\": [\"uniform\", \"distance\"]\n",
    "}\n",
    "\n",
    "regr = KNeighborsRegressor()\n",
    "\n",
    "grid = GridSearchCV(regr, params, cv=3, n_jobs=-1)\n",
    "grid_result = grid.fit(x_train, y_train)\n",
    "\n",
    "print_grid_cv_results(grid_result)"
   ]
  },
  {
   "cell_type": "markdown",
   "metadata": {},
   "source": [
    "#### RANDOM FOREST REGRESSOR"
   ]
  },
  {
   "cell_type": "code",
   "execution_count": 8,
   "metadata": {
    "scrolled": true
   },
   "outputs": [],
   "source": [
    "from sklearn.ensemble import RandomForestRegressor\n",
    "\n",
    "params = {\n",
    "    \"n_estimators\": [50*i for i in range(4, 10)],\n",
    "    \"max_depth\": [i for i in range(20, 51, 10)] + [None]\n",
    "}\n",
    "\n",
    "regr = RandomForestRegressor()\n",
    "\n",
    "grid = GridSearchCV(regr, params, cv=3, n_jobs=-1)\n",
    "grid_result = grid.fit(x_train, y_train)\n",
    "\n",
    "print_grid_cv_results(grid_result)"
   ]
  },
  {
   "cell_type": "markdown",
   "metadata": {},
   "source": [
    "#### GRADIENT BOOSTING REGRESSOR"
   ]
  },
  {
   "cell_type": "code",
   "execution_count": null,
   "metadata": {
    "scrolled": true
   },
   "outputs": [
    {
     "name": "stdout",
     "output_type": "stream",
     "text": [
      "Best model score: 0.6490966673085837 Best model params: {'max_depth': 20, 'n_estimators': 300} \n",
      "0.6478 (+/- 0.0224) with: {'max_depth': 20, 'n_estimators': 200}\n",
      "0.6488 (+/- 0.0254) with: {'max_depth': 20, 'n_estimators': 250}\n",
      "0.6491 (+/- 0.0244) with: {'max_depth': 20, 'n_estimators': 300}\n",
      "0.6489 (+/- 0.0234) with: {'max_depth': 20, 'n_estimators': 350}\n",
      "0.6483 (+/- 0.022) with: {'max_depth': 20, 'n_estimators': 400}\n",
      "0.6465 (+/- 0.0242) with: {'max_depth': 20, 'n_estimators': 450}\n",
      "0.6084 (+/- 0.0368) with: {'max_depth': 30, 'n_estimators': 200}\n",
      "0.6083 (+/- 0.0374) with: {'max_depth': 30, 'n_estimators': 250}\n",
      "0.6084 (+/- 0.037) with: {'max_depth': 30, 'n_estimators': 300}\n",
      "0.6088 (+/- 0.0356) with: {'max_depth': 30, 'n_estimators': 350}\n",
      "0.6089 (+/- 0.0364) with: {'max_depth': 30, 'n_estimators': 400}\n",
      "0.6099 (+/- 0.036) with: {'max_depth': 30, 'n_estimators': 450}\n",
      "0.6083 (+/- 0.0388) with: {'max_depth': 40, 'n_estimators': 200}\n",
      "0.6087 (+/- 0.0358) with: {'max_depth': 40, 'n_estimators': 250}\n",
      "0.6092 (+/- 0.0386) with: {'max_depth': 40, 'n_estimators': 300}\n",
      "0.6089 (+/- 0.0376) with: {'max_depth': 40, 'n_estimators': 350}\n",
      "0.6084 (+/- 0.0354) with: {'max_depth': 40, 'n_estimators': 400}\n",
      "0.6091 (+/- 0.0406) with: {'max_depth': 40, 'n_estimators': 450}\n",
      "0.6078 (+/- 0.0414) with: {'max_depth': 50, 'n_estimators': 200}\n",
      "0.6084 (+/- 0.0388) with: {'max_depth': 50, 'n_estimators': 250}\n",
      "0.6102 (+/- 0.0372) with: {'max_depth': 50, 'n_estimators': 300}\n",
      "0.6084 (+/- 0.0388) with: {'max_depth': 50, 'n_estimators': 350}\n",
      "0.6084 (+/- 0.0402) with: {'max_depth': 50, 'n_estimators': 400}\n",
      "0.6097 (+/- 0.0398) with: {'max_depth': 50, 'n_estimators': 450}\n",
      "0.6081 (+/- 0.0364) with: {'max_depth': None, 'n_estimators': 200}\n",
      "0.6089 (+/- 0.0358) with: {'max_depth': None, 'n_estimators': 250}\n",
      "0.609 (+/- 0.0354) with: {'max_depth': None, 'n_estimators': 300}\n",
      "0.6074 (+/- 0.0362) with: {'max_depth': None, 'n_estimators': 350}\n",
      "0.6086 (+/- 0.0364) with: {'max_depth': None, 'n_estimators': 400}\n",
      "0.6084 (+/- 0.0398) with: {'max_depth': None, 'n_estimators': 450}\n"
     ]
    }
   ],
   "source": [
    "from sklearn.ensemble import GradientBoostingRegressor\n",
    "\n",
    "params = {\n",
    "    \"n_estimators\": [50*i for i in range(4, 10)],\n",
    "    \"max_depth\": [i for i in range(20, 51, 10)] + [None]\n",
    "}\n",
    "\n",
    "regr = GradientBoostingRegressor()\n",
    "\n",
    "grid = GridSearchCV(regr, params, cv=3, n_jobs=-1)\n",
    "grid_result = grid.fit(x_train, y_train)\n",
    "\n",
    "print_grid_cv_results(grid_result)"
   ]
  },
  {
   "cell_type": "markdown",
   "metadata": {},
   "source": [
    "#### SVM REGRESSOR:"
   ]
  },
  {
   "cell_type": "code",
   "execution_count": null,
   "metadata": {},
   "outputs": [
    {
     "name": "stdout",
     "output_type": "stream",
     "text": [
      "Best model score: 0.7275190171474754 Best model params: {'kernel': 'rbf'} \n",
      "-1.5376 (+/- 6.0066) with: {'kernel': 'linear'}\n",
      "-4294.631 (+/- 1709.0764) with: {'kernel': 'sigmoid'}\n",
      "0.7275 (+/- 0.0108) with: {'kernel': 'rbf'}\n",
      "-2945.7243 (+/- 8261.0024) with: {'kernel': 'poly'}\n"
     ]
    }
   ],
   "source": [
    "from sklearn.svm import SVR\n",
    "\n",
    "params = {\n",
    "    \"kernel\": [\"linear\", \"sigmoid\", \"rbf\", \"poly\"]\n",
    "}\n",
    "\n",
    "regr = SVR()\n",
    "\n",
    "grid = GridSearchCV(regr, params, cv=3, n_jobs=-1)\n",
    "grid_result = grid.fit(x_train, y_train)\n",
    "\n",
    "print_grid_cv_results(grid_result)"
   ]
  },
  {
   "cell_type": "markdown",
   "metadata": {},
   "source": [
    "#### BEST MODEL:"
   ]
  },
  {
   "cell_type": "code",
   "execution_count": null,
   "metadata": {},
   "outputs": [
    {
     "name": "stdout",
     "output_type": "stream",
     "text": [
      "MSE: 0.2539344596366583\n",
      "MAE: 0.33027872972787503\n",
      "R2: 0.806532038049789\n"
     ]
    }
   ],
   "source": [
    "best_params = {'max_depth': 50, 'n_estimators': 400} \n",
    "best_regressor = RandomForestRegressor\n",
    "\n",
    "regr = best_regressor(**best_params)\n",
    "regr.fit(x_train, y_train)\n",
    "y_pred = regr.predict(x_test)\n",
    "\n",
    "mse = mean_squared_error(y_test, y_pred)\n",
    "mae = mean_absolute_error(y_test, y_pred)\n",
    "r2 = r2_score(y_test, y_pred)\n",
    "\n",
    "print(f\"MSE: {mse}\")\n",
    "print(f\"MAE: {mae}\")\n",
    "print(f\"R2: {r2}\")"
   ]
  },
  {
   "cell_type": "markdown",
   "metadata": {},
   "source": [
    "#### Residual Plot of Best Model"
   ]
  },
  {
   "cell_type": "code",
   "execution_count": null,
   "metadata": {},
   "outputs": [],
   "source": [
    "def plot_residuals(regr, x_train, y_train, x_test, y_test):\n",
    "    y_pred_train = regr.predict(x_train)\n",
    "    y_pred_test = regr.predict(x_test)\n",
    "    \n",
    "    min_val = min(np.min(y_pred_train), np.min(y_pred_test))\n",
    "    max_val = max(np.max(y_pred_train), np.max(y_pred_test))\n",
    "    \n",
    "    plt.scatter(y_pred_train, y_pred_train - y_train, color=\"blue\", s=10)\n",
    "    plt.scatter(y_pred_test, y_pred_test - y_test, color=\"red\", s=10)\n",
    "    plt.hlines(y=0, xmin=min_val, xmax=max_val)\n",
    "    plt.legend([\"Train\", \"Test\"])\n",
    "    plt.show()"
   ]
  },
  {
   "cell_type": "code",
   "execution_count": null,
   "metadata": {},
   "outputs": [
    {
     "data": {
      "image/png": "[encoded data removed]",
      "text/plain": [
       "<Figure size 432x288 with 1 Axes>"
      ]
     },
     "metadata": {
      "needs_background": "light"
     },
     "output_type": "display_data"
    }
   ],
   "source": [
    "plot_residuals(regr, x_train, y_train, x_test, y_test)"
   ]
  }
 ],
 "metadata": {
  "kernelspec": {
   "display_name": "Python 3",
   "language": "python",
   "name": "python3"
  },
  "language_info": {
   "codemirror_mode": {
    "name": "ipython",
    "version": 3
   },
   "file_extension": ".py",
   "mimetype": "text/x-python",
   "name": "python",
   "nbconvert_exporter": "python",
   "pygments_lexer": "ipython3",
   "version": "3.8.8"
  }
 },
 "nbformat": 4,
 "nbformat_minor": 2
}
