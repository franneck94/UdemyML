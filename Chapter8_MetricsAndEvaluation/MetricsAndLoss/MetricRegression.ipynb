{
 "cells": [
  {
   "cell_type": "code",
   "execution_count": 8,
   "metadata": {},
   "outputs": [],
   "source": [
    "import numpy as np\n",
    "np.random.seed(42)"
   ]
  },
  {
   "cell_type": "code",
   "execution_count": 9,
   "metadata": {},
   "outputs": [],
   "source": [
    "from sklearn.linear_model import LinearRegression\n",
    "from sklearn.model_selection import train_test_split\n",
    "from sklearn.datasets import load_boston"
   ]
  },
  {
   "cell_type": "code",
   "execution_count": 10,
   "metadata": {},
   "outputs": [],
   "source": [
    "dataset = load_boston()\n",
    "x = dataset.data\n",
    "y = dataset.target\n",
    "\n",
    "x_train, x_test, y_train, y_test = train_test_split(x, y, test_size=0.30)"
   ]
  },
  {
   "cell_type": "code",
   "execution_count": 11,
   "metadata": {},
   "outputs": [],
   "source": [
    "regr = LinearRegression()\n",
    "regr.fit(x_train, y_train)\n",
    "\n",
    "y_pred = regr.predict(x_test)\n",
    "y_true = y_test"
   ]
  },
  {
   "cell_type": "markdown",
   "metadata": {},
   "source": [
    "#### Formeln: \n",
    "\n",
    "<font size=5>\n",
    "\n",
    "  - $R^2 = 1 - \\frac{\\sum_{i=1}^n(y_i-\\hat{y})^2}{\\sum_{i=1}^n(y_i-\\bar{y})^2}$  \n",
    "  \n",
    "  - $MAPE = 100 * \\frac{1}{n} \\sum_{i=1}^n  \\big|\\frac{y_i - \\hat{y}_i}{y_i}\\big|$\n",
    "\n",
    "</font>"
   ]
  },
  {
   "cell_type": "code",
   "execution_count": 12,
   "metadata": {},
   "outputs": [],
   "source": [
    "def r_squared(y_true: np.ndarray, y_pred: np.ndarray) -> float:\n",
    "    n = len(y_true)\n",
    "    y_true_mean = np.mean(y_true)\n",
    "    numerator = np.sum([(y_true[i] - y_pred[i])**2 for i in range(n)])\n",
    "    denominator = np.sum([(y_true[i] - y_true_mean)**2 for i in range(n)])\n",
    "    return 1.0 - (numerator / denominator)"
   ]
  },
  {
   "cell_type": "code",
   "execution_count": 13,
   "metadata": {},
   "outputs": [],
   "source": [
    "def mape(y_true: np.ndarray, y_pred: np.ndarray) -> float:\n",
    "    n = len(y_true)\n",
    "    return (100 / n) * np.sum([np.abs((y_true[i] - y_pred[i]) / y_true[i]) for i in range(n)])"
   ]
  },
  {
   "cell_type": "code",
   "execution_count": 14,
   "metadata": {},
   "outputs": [
    {
     "name": "stdout",
     "output_type": "stream",
     "text": [
      "R2: 0.7112260057484929\n",
      "R2: 0.7112260057484929\n",
      "MAPE: 16.52122168046827\n"
     ]
    }
   ],
   "source": [
    "print(f\"R2: {r_squared(y_true, y_pred)}\")\n",
    "print(f\"R2: {regr.score(x_test, y_test)}\")\n",
    "print(f\"MAPE: {mape(y_true, y_pred)}\")"
   ]
  }
 ],
 "metadata": {
  "kernelspec": {
   "display_name": "Python 3",
   "language": "python",
   "name": "python3"
  },
  "language_info": {
   "codemirror_mode": {
    "name": "ipython",
    "version": 3
   },
   "file_extension": ".py",
   "mimetype": "text/x-python",
   "name": "python",
   "nbconvert_exporter": "python",
   "pygments_lexer": "ipython3",
   "version": "3.9.7"
  }
 },
 "nbformat": 4,
 "nbformat_minor": 2
}
