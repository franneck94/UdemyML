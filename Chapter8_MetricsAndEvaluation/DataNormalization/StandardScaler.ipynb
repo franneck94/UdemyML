{
 "cells": [
  {
   "cell_type": "markdown",
   "metadata": {},
   "source": [
    "### Dataset"
   ]
  },
  {
   "cell_type": "code",
   "execution_count": 11,
   "metadata": {},
   "outputs": [],
   "source": [
    "import numpy as np\n",
    "np.random.seed(42)\n",
    "import matplotlib.pyplot as plt\n",
    "from sklearn import datasets\n",
    "from sklearn.model_selection import train_test_split"
   ]
  },
  {
   "cell_type": "code",
   "execution_count": 12,
   "metadata": {},
   "outputs": [],
   "source": [
    "boston = datasets.load_boston()\n",
    "x, y = boston.data[:, 1:3], boston.target\n",
    "\n",
    "x_train, x_test, y_train, y_test = train_test_split(x, y, test_size=0.3)"
   ]
  },
  {
   "cell_type": "code",
   "execution_count": 13,
   "metadata": {},
   "outputs": [
    {
     "data": {
      "image/png": "[encoded data removed]",
      "text/plain": [
       "<Figure size 432x288 with 1 Axes>"
      ]
     },
     "metadata": {
      "needs_background": "light"
     },
     "output_type": "display_data"
    },
    {
     "name": "stdout",
     "output_type": "stream",
     "text": [
      "Min: [0.   0.46]\n",
      "Max: [100.    27.74]\n",
      "Mean: [11.26973684 11.14546053]\n",
      "Std: [24.90150872  6.67496628]\n"
     ]
    }
   ],
   "source": [
    "plt.scatter(x_test[:, 0], x_test[:, 1])\n",
    "plt.show()\n",
    "\n",
    "print(f\"Min: {np.min(x_test, axis=0)}\")\n",
    "print(f\"Max: {np.max(x_test, axis=0)}\")\n",
    "print(f\"Mean: {np.mean(x_test, axis=0)}\")\n",
    "print(f\"Std: {np.std(x_test, axis=0)}\")"
   ]
  },
  {
   "cell_type": "markdown",
   "metadata": {},
   "source": [
    "### MinMax Scaler"
   ]
  },
  {
   "cell_type": "code",
   "execution_count": 14,
   "metadata": {},
   "outputs": [],
   "source": [
    "class MinMaxScaler:\n",
    "    def __init__(self):\n",
    "        self.data_min: np.ndarray = None\n",
    "        self.data_max: np.ndarray = None\n",
    "            \n",
    "    def fit(self, x: np.ndarray):\n",
    "        self.data_min = np.min(x, axis=0)\n",
    "        self.data_max = np.max(x, axis=0)\n",
    "        \n",
    "    def transform(self, x: np.ndarray):\n",
    "        x_transformed = (x - self.data_min) / (self.data_max - self.data_min)\n",
    "        return x_transformed"
   ]
  },
  {
   "cell_type": "code",
   "execution_count": 15,
   "metadata": {},
   "outputs": [],
   "source": [
    "scaler = MinMaxScaler()\n",
    "scaler.fit(x)\n",
    "x_train_transformed = scaler.transform(x_train)\n",
    "x_test_transformed = scaler.transform(x_test)"
   ]
  },
  {
   "cell_type": "code",
   "execution_count": 16,
   "metadata": {
    "scrolled": true
   },
   "outputs": [
    {
     "data": {
      "image/png": "[encoded data removed]",
      "text/plain": [
       "<Figure size 432x288 with 1 Axes>"
      ]
     },
     "metadata": {
      "needs_background": "light"
     },
     "output_type": "display_data"
    },
    {
     "name": "stdout",
     "output_type": "stream",
     "text": [
      "Min: [0. 0.]\n",
      "Max: [1. 1.]\n",
      "Mean: [0.11269737 0.39169577]\n",
      "Std: [0.24901509 0.24468351]\n"
     ]
    }
   ],
   "source": [
    "plt.scatter(x_test_transformed[:, 0], x_test_transformed[:, 1])\n",
    "plt.show()\n",
    "\n",
    "print(f\"Min: {np.min(x_test_transformed, axis=0)}\")\n",
    "print(f\"Max: {np.max(x_test_transformed, axis=0)}\")\n",
    "print(f\"Mean: {np.mean(x_test_transformed, axis=0)}\")\n",
    "print(f\"Std: {np.std(x_test_transformed, axis=0)}\")"
   ]
  },
  {
   "cell_type": "markdown",
   "metadata": {},
   "source": [
    "### Standard Scaler"
   ]
  },
  {
   "cell_type": "code",
   "execution_count": 17,
   "metadata": {},
   "outputs": [],
   "source": [
    "class StandardScaler:\n",
    "    def __init__(self):\n",
    "        self.mean_: np.ndarray = None\n",
    "        self.scale_: np.ndarray = None\n",
    "            \n",
    "    def fit(self, x: np.ndarray):\n",
    "        self.mean_ = np.mean(x, axis=0)\n",
    "        self.scale_ = np.std(x, axis=0)\n",
    "        \n",
    "    def transform(self, x: np.ndarray):\n",
    "        x_transformed = (x - self.mean_) / self.scale_\n",
    "        return x_transformed"
   ]
  },
  {
   "cell_type": "code",
   "execution_count": 18,
   "metadata": {},
   "outputs": [],
   "source": [
    "scaler = StandardScaler()\n",
    "scaler.fit(x_train)\n",
    "x_train_transformed = scaler.transform(x_train)\n",
    "x_test_transformed = scaler.transform(x_test)"
   ]
  },
  {
   "cell_type": "code",
   "execution_count": 19,
   "metadata": {},
   "outputs": [
    {
     "data": {
      "image/png": "[encoded data removed]",
      "text/plain": [
       "<Figure size 432x288 with 1 Axes>"
      ]
     },
     "metadata": {
      "needs_background": "light"
     },
     "output_type": "display_data"
    },
    {
     "name": "stdout",
     "output_type": "stream",
     "text": [
      "Min: [-0.50512499 -1.54037985]\n",
      "Max: [3.92425933 2.39678516]\n",
      "Mean: [-0.00594503  0.00179102]\n",
      "Std: [1.10298352 0.96335937]\n"
     ]
    }
   ],
   "source": [
    "plt.scatter(x_test_transformed[:, 0], x_test_transformed[:, 1])\n",
    "plt.show()\n",
    "\n",
    "print(f\"Min: {np.min(x_test_transformed, axis=0)}\")\n",
    "print(f\"Max: {np.max(x_test_transformed, axis=0)}\")\n",
    "print(f\"Mean: {np.mean(x_test_transformed, axis=0)}\")\n",
    "print(f\"Std: {np.std(x_test_transformed, axis=0)}\")"
   ]
  }
 ],
 "metadata": {
  "kernelspec": {
   "display_name": "Python 3",
   "language": "python",
   "name": "python3"
  },
  "language_info": {
   "codemirror_mode": {
    "name": "ipython",
    "version": 3
   },
   "file_extension": ".py",
   "mimetype": "text/x-python",
   "name": "python",
   "nbconvert_exporter": "python",
   "pygments_lexer": "ipython3",
   "version": "3.8.3"
  }
 },
 "nbformat": 4,
 "nbformat_minor": 4
}
