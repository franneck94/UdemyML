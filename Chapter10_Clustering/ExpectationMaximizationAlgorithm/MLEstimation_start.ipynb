{
 "cells": [
  {
   "cell_type": "markdown",
   "metadata": {},
   "source": [
    "# Normal Distribution\n",
    "\n",
    "$\n",
    "f(x | \\mu, \\sigma^2) = \\frac{1}{\\sqrt{2 \\pi \\sigma^2}} \\exp{\\bigg(-\\frac{(x-\\mu)^2}{2\\sigma^2}\\bigg)}\n",
    "$\n",
    "\n",
    "$\n",
    "f(x | \\mu, \\sigma^2) = \\frac{1}{\\sqrt{2 \\pi \\sigma^2}} \\exp{\\bigg(-\\frac{(x-\\mu)^2}{2\\sigma^2}\\bigg)}\n",
    "$"
   ]
  },
  {
   "cell_type": "markdown",
   "metadata": {},
   "source": [
    "## Maximum Lilihood Estimation\n",
    "\n",
    "$\n",
    "ln(\\mathcal{L}(\\mu, \\sigma^2)) = \n",
    "\\sum_{i = 1}^n ln(f(x_i \\ | \\ \\mu, \\sigma^2))\n",
    "$  \n",
    "\n",
    "$\n",
    "= ln\\bigg(\\frac{1}{\\sqrt{2 \\pi \\sigma^2}}\\bigg) + ln\\bigg(exp\\bigg(- \\frac{1}{2\\sigma^2} \\sum_{i = 1}^n (x_i-\\mu)^2\\bigg)\\bigg)\n",
    "$  \n",
    "\n",
    "$\n",
    "= -\\frac{n}{2} ln\\big(2 \\pi\\big)  -\\frac{n}{2} ln\\big(\\sigma^2\\big) - \\frac{1}{2\\sigma^2} \\sum_{i = 1}^n (x_i - \\mu)^2\n",
    "$  "
   ]
  },
  {
   "cell_type": "markdown",
   "metadata": {},
   "source": [
    "## MLE Computation\n",
    "\n",
    "$\n",
    "\\hat{\\mu} = \\frac{1}{n} \\sum_{i = 1}^n x_i\n",
    "$  \n",
    "  \n",
    "$\n",
    "\\hat{\\sigma}^2 = \\frac{1}{n} \\sum_{i = 1}^n (x_i - \\hat{\\mu})^2\n",
    "$"
   ]
  }
 ],
 "metadata": {
  "kernelspec": {
   "display_name": "Python 3",
   "language": "python",
   "name": "python3"
  },
  "language_info": {
   "codemirror_mode": {
    "name": "ipython",
    "version": 3
   },
   "file_extension": ".py",
   "mimetype": "text/x-python",
   "name": "python",
   "nbconvert_exporter": "python",
   "pygments_lexer": "ipython3",
   "version": "3.8.8"
  }
 },
 "nbformat": 4,
 "nbformat_minor": 2
}
