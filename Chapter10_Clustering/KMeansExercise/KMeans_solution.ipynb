{
 "cells": [
  {
   "cell_type": "code",
   "execution_count": 1,
   "metadata": {},
   "outputs": [],
   "source": [
    "import numpy as np\n",
    "np.random.seed(42)\n",
    "import pandas as pd\n",
    "import matplotlib.pyplot as plt\n",
    "from sklearn.datasets import load_iris\n",
    "from sklearn.cluster import KMeans\n",
    "from sklearn.metrics import silhouette_score"
   ]
  },
  {
   "source": [
    "Aufgabe 1: Lade das Dataset mit allen Features rein."
   ],
   "cell_type": "markdown",
   "metadata": {}
  },
  {
   "cell_type": "code",
   "execution_count": 2,
   "metadata": {},
   "outputs": [],
   "source": [
    "dataset = load_iris()\n",
    "x = dataset.data\n",
    "y = dataset.target"
   ]
  },
  {
   "source": [
    "Aufgabe 2: Wende das k-Means mit einer beliebigen Anzahl an Cluster an."
   ],
   "cell_type": "markdown",
   "metadata": {}
  },
  {
   "cell_type": "code",
   "execution_count": 3,
   "metadata": {},
   "outputs": [],
   "source": [
    "scores = []\n",
    "s_scores = []\n",
    "\n",
    "for n_clusters in [2, 3, 4, 5, 6]:\n",
    "    max_iter = 10_000\n",
    "\n",
    "    kmeans = KMeans(\n",
    "        n_clusters=n_clusters,\n",
    "        max_iter=max_iter,\n",
    "        n_jobs=-1\n",
    "    )\n",
    "    kmeans.fit(x)\n",
    "    y_pred = kmeans.predict(x)\n",
    "    s_scores.append(silhouette_score(x, y_pred))\n",
    "    scores.append(kmeans.score(x))"
   ]
  },
  {
   "source": [
    "Aufgabe 3: Berechne den Score für verschiedene Setups."
   ],
   "cell_type": "markdown",
   "metadata": {}
  },
  {
   "cell_type": "code",
   "execution_count": 4,
   "metadata": {},
   "outputs": [
    {
     "output_type": "stream",
     "name": "stdout",
     "text": [
      "Scores: [-152.347951760358, -78.85144142614602, -57.25600931571815, -46.44618205128204, -39.05497786747788]\nsilhouette_score: [0.681046169211746, 0.5528190123564091, 0.49745518901737446, 0.4887488870931048, 0.3664804028900824]\n"
     ]
    }
   ],
   "source": [
    "print(f\"Scores: {scores}\")\n",
    "print(f\"silhouette_score: {s_scores}\")"
   ]
  }
 ],
 "metadata": {
  "kernelspec": {
   "display_name": "Python 3",
   "language": "python",
   "name": "python3"
  },
  "language_info": {
   "codemirror_mode": {
    "name": "ipython",
    "version": 3
   },
   "file_extension": ".py",
   "mimetype": "text/x-python",
   "name": "python",
   "nbconvert_exporter": "python",
   "pygments_lexer": "ipython3",
   "version": "3.8.3-final"
  }
 },
 "nbformat": 4,
 "nbformat_minor": 2
}