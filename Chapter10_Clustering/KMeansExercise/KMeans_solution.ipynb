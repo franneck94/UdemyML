{
 "cells": [
  {
   "cell_type": "code",
   "execution_count": 6,
   "metadata": {},
   "outputs": [],
   "source": [
    "import numpy as np\n",
    "np.random.seed(42)"
   ]
  },
  {
   "cell_type": "code",
   "execution_count": 7,
   "metadata": {},
   "outputs": [],
   "source": [
    "from sklearn.datasets import load_iris\n",
    "from sklearn.cluster import KMeans\n",
    "from sklearn.metrics import silhouette_score"
   ]
  },
  {
   "cell_type": "markdown",
   "metadata": {},
   "source": [
    "Aufgabe 1: Lade das Dataset mit allen Features rein."
   ]
  },
  {
   "cell_type": "code",
   "execution_count": 8,
   "metadata": {},
   "outputs": [],
   "source": [
    "dataset = load_iris()\n",
    "x = dataset.data\n",
    "y = dataset.target"
   ]
  },
  {
   "cell_type": "markdown",
   "metadata": {},
   "source": [
    "Aufgabe 2: Wende das k-Means mit einer beliebigen Anzahl an Cluster an."
   ]
  },
  {
   "cell_type": "code",
   "execution_count": 9,
   "metadata": {},
   "outputs": [],
   "source": [
    "scores = []\n",
    "s_scores = []\n",
    "\n",
    "for n_clusters in [2, 3, 4, 5, 6]:\n",
    "    max_iter = 10_000\n",
    "\n",
    "    kmeans = KMeans(\n",
    "        n_clusters=n_clusters,\n",
    "        max_iter=max_iter\n",
    "    )\n",
    "    kmeans.fit(x)\n",
    "    y_pred = kmeans.predict(x)\n",
    "    s_scores.append(silhouette_score(x, y_pred))\n",
    "    scores.append(kmeans.score(x))"
   ]
  },
  {
   "cell_type": "markdown",
   "metadata": {},
   "source": [
    "Aufgabe 3: Berechne den Score für verschiedene Setups."
   ]
  },
  {
   "cell_type": "code",
   "execution_count": 10,
   "metadata": {},
   "outputs": [
    {
     "name": "stdout",
     "output_type": "stream",
     "text": [
      "Scores: [-152.347951760358, -78.85144142614602, -57.228473214285714, -46.44618205128204, -39.05497786747788]\n",
      "silhouette_score: [0.681046169211746, 0.5528190123564091, 0.4980505049972864, 0.48874888709310454, 0.36648040289008227]\n"
     ]
    }
   ],
   "source": [
    "print(f\"Scores: {scores}\")\n",
    "print(f\"silhouette_score: {s_scores}\")"
   ]
  }
 ],
 "metadata": {
  "kernelspec": {
   "display_name": "Python 3",
   "language": "python",
   "name": "python3"
  },
  "language_info": {
   "codemirror_mode": {
    "name": "ipython",
    "version": 3
   },
   "file_extension": ".py",
   "mimetype": "text/x-python",
   "name": "python",
   "nbconvert_exporter": "python",
   "pygments_lexer": "ipython3",
   "version": "3.9.7"
  }
 },
 "nbformat": 4,
 "nbformat_minor": 2
}
