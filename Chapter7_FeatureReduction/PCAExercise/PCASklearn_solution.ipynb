{
 "cells": [
  {
   "cell_type": "markdown",
   "metadata": {},
   "source": [
    "#### Imports"
   ]
  },
  {
   "cell_type": "code",
   "execution_count": 31,
   "metadata": {},
   "outputs": [],
   "source": [
    "import numpy as np\n",
    "np.random.seed(42)"
   ]
  },
  {
   "cell_type": "code",
   "execution_count": 32,
   "metadata": {},
   "outputs": [],
   "source": [
    "import pandas as pd\n",
    "import matplotlib.pyplot as plt\n",
    "from sklearn.decomposition import PCA\n",
    "from sklearn.datasets import load_breast_cancer\n",
    "from sklearn.preprocessing import StandardScaler"
   ]
  },
  {
   "cell_type": "markdown",
   "metadata": {},
   "source": [
    "#### Dataset"
   ]
  },
  {
   "cell_type": "code",
   "execution_count": 33,
   "metadata": {},
   "outputs": [],
   "source": [
    "dataset = load_breast_cancer()\n",
    "df = pd.DataFrame(dataset.data, columns=dataset.feature_names)"
   ]
  },
  {
   "cell_type": "code",
   "execution_count": 34,
   "metadata": {},
   "outputs": [],
   "source": [
    "x = dataset.data\n",
    "y = dataset.target"
   ]
  },
  {
   "cell_type": "code",
   "execution_count": 35,
   "metadata": {},
   "outputs": [],
   "source": [
    "scaler = StandardScaler()\n",
    "scaler.fit(x)\n",
    "x_standardized = scaler.transform(x)"
   ]
  },
  {
   "cell_type": "markdown",
   "metadata": {},
   "source": [
    "#### Programmieraufgabe"
   ]
  },
  {
   "cell_type": "markdown",
   "metadata": {},
   "source": [
    "Aufgabe 1:\n",
    "\n",
    "Find die Anzahl an Dimensionen, um 90% der Varianz \"zu erklären\""
   ]
  },
  {
   "cell_type": "code",
   "execution_count": 36,
   "metadata": {
    "scrolled": true
   },
   "outputs": [
    {
     "name": "stdout",
     "output_type": "stream",
     "text": [
      "Sum of ExplainedVarRatio: 0.910095300696731 previously: 30 features. and now with: 7 components.\n"
     ]
    }
   ],
   "source": [
    "pca = PCA(n_components=0.90)\n",
    "pca.fit(x_standardized)\n",
    "explained_var_ratio = sum(pca.explained_variance_ratio_)\n",
    "\n",
    "print(\n",
    "    f\"Sum of ExplainedVarRatio: {explained_var_ratio}\"\n",
    "    f\" previously: {np.prod(x.shape[1:])} features,\"\n",
    "    f\" and now with: {pca.n_components_} components.\"\n",
    ")"
   ]
  },
  {
   "cell_type": "markdown",
   "metadata": {},
   "source": [
    "Aufgabe 2:\n",
    "\n",
    "Wende das gefundene Setup auf die Daten an"
   ]
  },
  {
   "cell_type": "code",
   "execution_count": 37,
   "metadata": {},
   "outputs": [],
   "source": [
    "x_pca = pca.transform(x_standardized)"
   ]
  },
  {
   "cell_type": "markdown",
   "metadata": {},
   "source": [
    "Aufgabe 3:\n",
    "\n",
    "Split das Dataset in ein Train and Testset"
   ]
  },
  {
   "cell_type": "code",
   "execution_count": 38,
   "metadata": {
    "scrolled": true
   },
   "outputs": [],
   "source": [
    "from sklearn.model_selection import train_test_split\n",
    "\n",
    "x_train, x_test, y_train, y_test = train_test_split(x_pca, y, test_size=0.30)"
   ]
  },
  {
   "cell_type": "markdown",
   "metadata": {},
   "source": [
    "Aufgabe 4:\n",
    "\n",
    "Wende den KNN-Classifier auf den transformierten Daten an.  \n",
    "Du kannst dabei auch mit einer For-Schleife die optimale Anzahl an Nachbarn bestimmen."
   ]
  },
  {
   "cell_type": "code",
   "execution_count": 39,
   "metadata": {
    "scrolled": true
   },
   "outputs": [
    {
     "name": "stdout",
     "output_type": "stream",
     "text": [
      "Accuracy: 0.9532163742690059 with: 1 neighbors\n",
      "Accuracy: 0.9590643274853801 with: 3 neighbors\n",
      "Accuracy: 0.9649122807017544 with: 6 neighbors\n",
      "Accuracy: 0.9707602339181286 with: 8 neighbors\n"
     ]
    }
   ],
   "source": [
    "from sklearn.neighbors import KNeighborsClassifier\n",
    "\n",
    "best_score = 0.0\n",
    "for i in range(1, 11):\n",
    "    n_neighbors = i\n",
    "    neigh = KNeighborsClassifier(n_neighbors=n_neighbors)\n",
    "    neigh.fit(x_train, y_train)\n",
    "    score = neigh.score(x_test, y_test)\n",
    "\n",
    "    if score > best_score:\n",
    "        best_score = score\n",
    "        print(f\"Accuracy: {score} with: {n_neighbors} neighbors\")"
   ]
  },
  {
   "cell_type": "markdown",
   "metadata": {},
   "source": [
    "Aufgabe 5:\n",
    "\n",
    "Wende den KNN-Classifier auf den Standardisierten (aber nicht PCA transofrmierten) Daten an.  \n",
    "Teste auch hier wieder, welche Anzahl an Nachbarn optimal ist.  \n",
    "Was für Performance-Unterschiede sind zu beobachten?"
   ]
  },
  {
   "cell_type": "code",
   "execution_count": 40,
   "metadata": {
    "scrolled": true
   },
   "outputs": [
    {
     "name": "stdout",
     "output_type": "stream",
     "text": [
      "Accuracy: 0.9707602339181286 with: 1 neighbors\n",
      "Accuracy: 0.9766081871345029 with: 4 neighbors\n"
     ]
    }
   ],
   "source": [
    "x_train, x_test, y_train, y_test = train_test_split(x_standardized, y, test_size=0.30)\n",
    "\n",
    "best_score = 0.0\n",
    "for i in range(1, 11):\n",
    "    n_neighbors = i\n",
    "    neigh = KNeighborsClassifier(n_neighbors=n_neighbors)\n",
    "    neigh.fit(x_train, y_train)\n",
    "    score = neigh.score(x_test, y_test)\n",
    "\n",
    "    if score > best_score:\n",
    "        best_score = score\n",
    "        print(f\"Accuracy: {score} with: {n_neighbors} neighbors\")"
   ]
  },
  {
   "cell_type": "markdown",
   "metadata": {},
   "source": [
    "SVM: pro Training 20min auf einen Datensatz mit (N, 30), 100 Modelle trainieren => 2000min\n",
    "SVM: PCA, pro Training 5min auf einen Datensatz mit (N, 7), 100 Modelle trainieren => 700min"
   ]
  }
 ],
 "metadata": {
  "kernelspec": {
   "display_name": "Python 3",
   "language": "python",
   "name": "python3"
  },
  "language_info": {
   "codemirror_mode": {
    "name": "ipython",
    "version": 3
   },
   "file_extension": ".py",
   "mimetype": "text/x-python",
   "name": "python",
   "nbconvert_exporter": "python",
   "pygments_lexer": "ipython3",
   "version": "3.8.8"
  }
 },
 "nbformat": 4,
 "nbformat_minor": 2
}
