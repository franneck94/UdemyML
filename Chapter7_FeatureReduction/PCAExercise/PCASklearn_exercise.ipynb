{
 "cells": [
  {
   "cell_type": "markdown",
   "metadata": {},
   "source": [
    "#### Dataset"
   ]
  },
  {
   "cell_type": "code",
   "execution_count": 32,
   "metadata": {},
   "outputs": [],
   "source": [
    "import numpy as np\n",
    "np.random.seed(42)"
   ]
  },
  {
   "cell_type": "code",
   "execution_count": 33,
   "metadata": {},
   "outputs": [],
   "source": [
    "import matplotlib.pyplot as plt\n",
    "from sklearn.datasets import load_breast_cancer"
   ]
  },
  {
   "cell_type": "code",
   "execution_count": 34,
   "metadata": {},
   "outputs": [
    {
     "name": "stdout",
     "output_type": "stream",
     "text": [
      "ClassNames: ['malignant' 'benign']\n",
      "DESCR:\n",
      ".. _breast_cancer_dataset:\n",
      "\n",
      "Breast cancer wisconsin (diagnostic) dataset\n",
      "--------------------------------------------\n",
      "\n",
      "**Data Set Characteristics:**\n",
      "\n",
      "    :Number of Instances: 569\n",
      "\n",
      "    :Number of Attributes: 30 numeric, predictive attributes and the class\n",
      "\n",
      "    :Attribute Information:\n",
      "        - radius (mean of distances from center to points on the perimeter)\n",
      "        - texture (standard deviation of gray-scale values)\n",
      "        - perimeter\n",
      "        - area\n",
      "        - smoothness (local variation in radius lengths)\n",
      "        - compactness (perimeter^2 / area - 1.0)\n",
      "        - concavity (severity of concave portions of the contour)\n",
      "        - concave points (number of concave portions of the contour)\n",
      "        - symmetry\n",
      "        - fractal dimension (\"coastline approximation\" - 1)\n",
      "\n",
      "        The mean, standard error, and \"worst\" or largest (mean of the three\n",
      "        worst/largest values) of these features were computed for each image,\n",
      "        resulting in 30 features.  For instance, field 0 is Mean Radius, field\n",
      "        10 is Radius SE, field 20 is Worst Radius.\n",
      "\n",
      "        - class:\n",
      "                - WDBC-Malignant\n",
      "                - WDBC-Benign\n",
      "\n",
      "    :Summary Statistics:\n",
      "\n",
      "    ===================================== ====== ======\n",
      "                                           Min    Max\n",
      "    ===================================== ====== ======\n",
      "    radius (mean):                        6.981  28.11\n",
      "    texture (mean):                       9.71   39.28\n",
      "    perimeter (mean):                     43.79  188.5\n",
      "    area (mean):                          143.5  2501.0\n",
      "    smoothness (mean):                    0.053  0.163\n",
      "    compactness (mean):                   0.019  0.345\n",
      "    concavity (mean):                     0.0    0.427\n",
      "    concave points (mean):                0.0    0.201\n",
      "    symmetry (mean):                      0.106  0.304\n",
      "    fractal dimension (mean):             0.05   0.097\n",
      "    radius (standard error):              0.112  2.873\n",
      "    texture (standard error):             0.36   4.885\n",
      "    perimeter (standard error):           0.757  21.98\n",
      "    area (standard error):                6.802  542.2\n",
      "    smoothness (standard error):          0.002  0.031\n",
      "    compactness (standard error):         0.002  0.135\n",
      "    concavity (standard error):           0.0    0.396\n",
      "    concave points (standard error):      0.0    0.053\n",
      "    symmetry (standard error):            0.008  0.079\n",
      "    fractal dimension (standard error):   0.001  0.03\n",
      "    radius (worst):                       7.93   36.04\n",
      "    texture (worst):                      12.02  49.54\n",
      "    perimeter (worst):                    50.41  251.2\n",
      "    area (worst):                         185.2  4254.0\n",
      "    smoothness (worst):                   0.071  0.223\n",
      "    compactness (worst):                  0.027  1.058\n",
      "    concavity (worst):                    0.0    1.252\n",
      "    concave points (worst):               0.0    0.291\n",
      "    symmetry (worst):                     0.156  0.664\n",
      "    fractal dimension (worst):            0.055  0.208\n",
      "    ===================================== ====== ======\n",
      "\n",
      "    :Missing Attribute Values: None\n",
      "\n",
      "    :Class Distribution: 212 - Malignant, 357 - Benign\n",
      "\n",
      "    :Creator:  Dr. William H. Wolberg, W. Nick Street, Olvi L. Mangasarian\n",
      "\n",
      "    :Donor: Nick Street\n",
      "\n",
      "    :Date: November, 1995\n",
      "\n",
      "This is a copy of UCI ML Breast Cancer Wisconsin (Diagnostic) datasets.\n",
      "https://goo.gl/U2Uwz2\n",
      "\n",
      "Features are computed from a digitized image of a fine needle\n",
      "aspirate (FNA) of a breast mass.  They describe\n",
      "characteristics of the cell nuclei present in the image.\n",
      "\n",
      "Separating plane described above was obtained using\n",
      "Multisurface Method-Tree (MSM-T) [K. P. Bennett, \"Decision Tree\n",
      "Construction Via Linear Programming.\" Proceedings of the 4th\n",
      "Midwest Artificial Intelligence and Cognitive Science Society,\n",
      "pp. 97-101, 1992], a classification method which uses linear\n",
      "programming to construct a decision tree.  Relevant features\n",
      "were selected using an exhaustive search in the space of 1-4\n",
      "features and 1-3 separating planes.\n",
      "\n",
      "The actual linear program used to obtain the separating plane\n",
      "in the 3-dimensional space is that described in:\n",
      "[K. P. Bennett and O. L. Mangasarian: \"Robust Linear\n",
      "Programming Discrimination of Two Linearly Inseparable Sets\",\n",
      "Optimization Methods and Software 1, 1992, 23-34].\n",
      "\n",
      "This database is also available through the UW CS ftp server:\n",
      "\n",
      "ftp ftp.cs.wisc.edu\n",
      "cd math-prog/cpo-dataset/machine-learn/WDBC/\n",
      "\n",
      ".. topic:: References\n",
      "\n",
      "   - W.N. Street, W.H. Wolberg and O.L. Mangasarian. Nuclear feature extraction \n",
      "     for breast tumor diagnosis. IS&T/SPIE 1993 International Symposium on \n",
      "     Electronic Imaging: Science and Technology, volume 1905, pages 861-870,\n",
      "     San Jose, CA, 1993.\n",
      "   - O.L. Mangasarian, W.N. Street and W.H. Wolberg. Breast cancer diagnosis and \n",
      "     prognosis via linear programming. Operations Research, 43(4), pages 570-577, \n",
      "     July-August 1995.\n",
      "   - W.H. Wolberg, W.N. Street, and O.L. Mangasarian. Machine learning techniques\n",
      "     to diagnose breast cancer from fine-needle aspirates. Cancer Letters 77 (1994) \n",
      "     163-171.\n"
     ]
    }
   ],
   "source": [
    "dataset = load_breast_cancer()\n",
    "\n",
    "print(f\"ClassNames: {dataset.target_names}\")\n",
    "print(f\"DESCR:\\n{dataset.DESCR}\")"
   ]
  },
  {
   "cell_type": "code",
   "execution_count": 35,
   "metadata": {},
   "outputs": [
    {
     "name": "stdout",
     "output_type": "stream",
     "text": [
      "x-shape: (569, 30)\n"
     ]
    }
   ],
   "source": [
    "x = dataset.data\n",
    "y = dataset.target\n",
    "\n",
    "print(f\"x-shape: {x.shape}\")"
   ]
  },
  {
   "cell_type": "markdown",
   "metadata": {},
   "source": [
    "#### PCA"
   ]
  },
  {
   "cell_type": "code",
   "execution_count": 36,
   "metadata": {},
   "outputs": [],
   "source": [
    "from sklearn.preprocessing import StandardScaler\n",
    "from sklearn.decomposition import PCA"
   ]
  },
  {
   "cell_type": "code",
   "execution_count": 37,
   "metadata": {},
   "outputs": [
    {
     "name": "stdout",
     "output_type": "stream",
     "text": [
      "x mean:\n",
      "[1.41272917e+01 1.92896485e+01 9.19690334e+01 6.54889104e+02\n",
      " 9.63602812e-02 1.04340984e-01 8.87993158e-02 4.89191459e-02\n",
      " 1.81161863e-01 6.27976098e-02 4.05172056e-01 1.21685343e+00\n",
      " 2.86605923e+00 4.03370791e+01 7.04097891e-03 2.54781388e-02\n",
      " 3.18937163e-02 1.17961371e-02 2.05422988e-02 3.79490387e-03\n",
      " 1.62691898e+01 2.56772232e+01 1.07261213e+02 8.80583128e+02\n",
      " 1.32368594e-01 2.54265044e-01 2.72188483e-01 1.14606223e-01\n",
      " 2.90075571e-01 8.39458172e-02]\n",
      "x std:\n",
      "[3.52095076e+00 4.29725464e+00 2.42776193e+01 3.51604754e+02\n",
      " 1.40517641e-02 5.27663291e-02 7.96497253e-02 3.87687325e-02\n",
      " 2.73901809e-02 7.05415588e-03 2.77068942e-01 5.51163427e-01\n",
      " 2.02007710e+00 4.54510134e+01 2.99987837e-03 1.78924359e-02\n",
      " 3.01595231e-02 6.16486075e-03 8.25910439e-03 2.64374475e-03\n",
      " 4.82899258e+00 6.14085432e+00 3.35730016e+01 5.68856459e+02\n",
      " 2.28123569e-02 1.57198171e-01 2.08440875e-01 6.56745545e-02\n",
      " 6.18130785e-02 1.80453893e-02]\n",
      "[ 1.09706398 -2.07333501  1.26993369  0.9843749   1.56846633  3.28351467\n",
      "  2.65287398  2.53247522  2.21751501  2.25574689  2.48973393 -0.56526506\n",
      "  2.83303087  2.48757756 -0.21400165  1.31686157  0.72402616  0.66081994\n",
      "  1.14875667  0.90708308  1.88668963 -1.35929347  2.30360062  2.00123749\n",
      "  1.30768627  2.61666502  2.10952635  2.29607613  2.75062224  1.93701461]\n",
      "[ 1.09706398 -2.07333501  1.26993369  0.9843749   1.56846633  3.28351467\n",
      "  2.65287398  2.53247522  2.21751501  2.25574689  2.48973393 -0.56526506\n",
      "  2.83303087  2.48757756 -0.21400165  1.31686157  0.72402616  0.66081994\n",
      "  1.14875667  0.90708308  1.88668963 -1.35929347  2.30360062  2.00123749\n",
      "  1.30768627  2.61666502  2.10952635  2.29607613  2.75062224  1.93701461]\n"
     ]
    }
   ],
   "source": [
    "scaler = StandardScaler()\n",
    "scaler.fit(x)\n",
    "\n",
    "# StandardScaler.fit(x)\n",
    "x_mean = np.mean(x, axis=0)\n",
    "x_std = np.std(x, axis=0)\n",
    "print(f\"x mean:\\n{x_mean}\")\n",
    "print(f\"x std:\\n{x_std}\")\n",
    "\n",
    "x_standardized = scaler.transform(x)\n",
    "print(x_standardized[0])\n",
    "\n",
    "# StandardScaler.transform(x)\n",
    "x_ = (x - x_mean) / x_std\n",
    "print(x_[0])"
   ]
  },
  {
   "cell_type": "code",
   "execution_count": 38,
   "metadata": {},
   "outputs": [],
   "source": [
    "n_components = 15\n",
    "pca = PCA(n_components=n_components, copy=True)\n",
    "pca.fit(x_standardized)\n",
    "x_pca = pca.transform(x_standardized)"
   ]
  },
  {
   "cell_type": "code",
   "execution_count": 39,
   "metadata": {},
   "outputs": [
    {
     "name": "stdout",
     "output_type": "stream",
     "text": [
      "Components:\n",
      "[[ 2.18902444e-01  1.03724578e-01  2.27537293e-01  2.20994985e-01\n",
      "   1.42589694e-01  2.39285354e-01  2.58400481e-01  2.60853758e-01\n",
      "   1.38166959e-01  6.43633464e-02  2.05978776e-01  1.74280281e-02\n",
      "   2.11325916e-01  2.02869635e-01  1.45314521e-02  1.70393451e-01\n",
      "   1.53589790e-01  1.83417397e-01  4.24984216e-02  1.02568322e-01\n",
      "   2.27996634e-01  1.04469325e-01  2.36639681e-01  2.24870533e-01\n",
      "   1.27952561e-01  2.10095880e-01  2.28767533e-01  2.50885971e-01\n",
      "   1.22904556e-01  1.31783943e-01]\n",
      " [-2.33857132e-01 -5.97060883e-02 -2.15181361e-01 -2.31076711e-01\n",
      "   1.86113023e-01  1.51891610e-01  6.01653628e-02 -3.47675005e-02\n",
      "   1.90348770e-01  3.66575471e-01 -1.05552152e-01  8.99796818e-02\n",
      "  -8.94572342e-02 -1.52292628e-01  2.04430453e-01  2.32715896e-01\n",
      "   1.97207283e-01  1.30321560e-01  1.83848000e-01  2.80092027e-01\n",
      "  -2.19866379e-01 -4.54672983e-02 -1.99878428e-01 -2.19351858e-01\n",
      "   1.72304352e-01  1.43593173e-01  9.79641143e-02 -8.25723507e-03\n",
      "   1.41883349e-01  2.75339469e-01]\n",
      " [-8.53124284e-03  6.45499033e-02 -9.31421972e-03  2.86995259e-02\n",
      "  -1.04291904e-01 -7.40915709e-02  2.73383798e-03 -2.55635406e-02\n",
      "  -4.02399363e-02 -2.25740897e-02  2.68481387e-01  3.74633665e-01\n",
      "   2.66645367e-01  2.16006528e-01  3.08838979e-01  1.54779718e-01\n",
      "   1.76463743e-01  2.24657567e-01  2.88584292e-01  2.11503764e-01\n",
      "  -4.75069900e-02 -4.22978228e-02 -4.85465083e-02 -1.19023182e-02\n",
      "  -2.59797613e-01 -2.36075625e-01 -1.73057335e-01 -1.70344076e-01\n",
      "  -2.71312642e-01 -2.32791313e-01]\n",
      " [ 4.14089623e-02 -6.03050001e-01  4.19830991e-02  5.34337955e-02\n",
      "   1.59382765e-01  3.17945811e-02  1.91227535e-02  6.53359443e-02\n",
      "   6.71249840e-02  4.85867649e-02  9.79412418e-02 -3.59855528e-01\n",
      "   8.89924146e-02  1.08205039e-01  4.46641797e-02 -2.74693632e-02\n",
      "   1.31687997e-03  7.40673350e-02  4.40733510e-02  1.53047496e-02\n",
      "   1.54172396e-02 -6.32807885e-01  1.38027944e-02  2.58947492e-02\n",
      "   1.76522161e-02 -9.13284153e-02 -7.39511797e-02  6.00699571e-03\n",
      "  -3.62506947e-02 -7.70534703e-02]\n",
      " [ 3.77863538e-02 -4.94688505e-02  3.73746632e-02  1.03312514e-02\n",
      "  -3.65088528e-01  1.17039713e-02  8.63754118e-02 -4.38610252e-02\n",
      "  -3.05941428e-01 -4.44243602e-02 -1.54456496e-01 -1.91650506e-01\n",
      "  -1.20990220e-01 -1.27574432e-01 -2.32065676e-01  2.79968156e-01\n",
      "   3.53982091e-01  1.95548089e-01 -2.52868765e-01  2.63297438e-01\n",
      "  -4.40659209e-03 -9.28834001e-02  7.45415100e-03 -2.73909030e-02\n",
      "  -3.24435445e-01  1.21804107e-01  1.88518727e-01  4.33320687e-02\n",
      "  -2.44558663e-01  9.44233510e-02]\n",
      " [ 1.87407904e-02 -3.21788366e-02  1.73084449e-02 -1.88774795e-03\n",
      "  -2.86374497e-01 -1.41309489e-02 -9.34418089e-03 -5.20499505e-02\n",
      "   3.56458461e-01 -1.19430668e-01 -2.56032561e-02 -2.87473145e-02\n",
      "   1.81071501e-03 -4.28639079e-02 -3.42917393e-01  6.91975186e-02\n",
      "   5.63432386e-02 -3.12244482e-02  4.90245643e-01 -5.31952674e-02\n",
      "  -2.90684922e-04 -5.00080613e-02  8.50098715e-03 -2.51643821e-02\n",
      "  -3.69255370e-01  4.77057929e-02  2.83792555e-02 -3.08734498e-02\n",
      "   4.98926784e-01 -8.02235245e-02]\n",
      " [-1.24088340e-01  1.13995382e-02 -1.14477057e-01 -5.16534274e-02\n",
      "  -1.40668993e-01  3.09184960e-02 -1.07520443e-01 -1.50482214e-01\n",
      "  -9.38911345e-02  2.95760024e-01  3.12490037e-01 -9.07553556e-02\n",
      "   3.14640390e-01  3.46679003e-01 -2.44024056e-01  2.34635340e-02\n",
      "  -2.08823790e-01 -3.69645937e-01 -8.03822539e-02  1.91394973e-01\n",
      "  -9.70993606e-03  9.87074388e-03 -4.45726767e-04  6.78316595e-02\n",
      "  -1.08830886e-01  1.40472938e-01 -6.04880561e-02 -1.67966619e-01\n",
      "  -1.84906298e-02  3.74657626e-01]\n",
      " [-7.45229590e-03  1.30674825e-01 -1.86872579e-02  3.46736030e-02\n",
      "  -2.88974575e-01 -1.51396350e-01 -7.28272843e-02 -1.52322415e-01\n",
      "  -2.31530989e-01 -1.77121441e-01  2.25399673e-02 -4.75413139e-01\n",
      "  -1.18966907e-02  8.58051349e-02  5.73410232e-01  1.17460157e-01\n",
      "   6.05665007e-02 -1.08319309e-01  2.20149279e-01  1.11681884e-02\n",
      "   4.26194167e-02  3.62516360e-02  3.05585345e-02  7.93942451e-02\n",
      "   2.05852190e-01  8.40196591e-02  7.24678709e-02 -3.61707953e-02\n",
      "   2.28225053e-01  4.83606665e-02]\n",
      " [-2.23109764e-01  1.12699390e-01 -2.23739213e-01 -1.95586014e-01\n",
      "   6.42472199e-03 -1.67841425e-01  4.05910070e-02 -1.11971106e-01\n",
      "   2.56040084e-01 -1.23740788e-01  2.49985002e-01 -2.46645397e-01\n",
      "   2.27154024e-01  2.29160015e-01 -1.41924890e-01 -1.45322810e-01\n",
      "   3.58107079e-01  2.72519886e-01 -3.04077200e-01 -2.13722716e-01\n",
      "  -1.12141463e-01  1.03341204e-01 -1.09614364e-01 -8.07324610e-02\n",
      "   1.12315904e-01 -1.00677822e-01  1.61908621e-01  6.04884617e-02\n",
      "   6.46378061e-02 -1.34174175e-01]\n",
      " [ 9.54864425e-02  2.40934066e-01  8.63856144e-02  7.49564906e-02\n",
      "  -6.92926813e-02  1.29362011e-02 -1.35602299e-01  8.05452799e-03\n",
      "   5.72069479e-01  8.11032066e-02 -4.95475936e-02 -2.89142742e-01\n",
      "  -1.14508235e-01 -9.19278896e-02  1.60884609e-01  4.35048658e-02\n",
      "  -1.41276243e-01  8.62408469e-02 -3.16529830e-01  3.67541918e-01\n",
      "   7.73616418e-02  2.95509414e-02  5.05083324e-02  6.99211535e-02\n",
      "  -1.28304659e-01 -1.72133632e-01 -3.11638519e-01 -7.66482909e-02\n",
      "  -2.95630750e-02  1.26095794e-02]\n",
      " [ 4.14714874e-02 -3.02243402e-01  1.67826381e-02  1.10169640e-01\n",
      "  -1.37021843e-01 -3.08009634e-01  1.24190242e-01 -7.24460234e-02\n",
      "   1.63054081e-01 -3.80482680e-02 -2.53570207e-02  3.44944458e-01\n",
      "  -1.67318771e-01  5.16194651e-02  8.42062106e-02 -2.06885680e-01\n",
      "   3.49517944e-01 -3.42375908e-01 -1.87844043e-01  2.50624789e-01\n",
      "   1.05067334e-01  1.31572734e-02  5.10762822e-02  1.84598935e-01\n",
      "   1.43890350e-01 -1.97420469e-01  1.85016761e-01 -1.17772056e-01\n",
      "   1.57560248e-01  1.18283551e-01]\n",
      " [ 5.10674588e-02  2.54896423e-01  3.89261075e-02  6.54375027e-02\n",
      "   3.16727211e-01 -1.04017048e-01  6.56534833e-02  4.25892657e-02\n",
      "  -2.88865503e-01  2.36358990e-01 -1.66879164e-02 -3.06160423e-01\n",
      "  -1.01446829e-01 -1.76792148e-02 -2.94710053e-01 -2.63456509e-01\n",
      "   2.51146974e-01 -6.45875083e-03  3.20571348e-01  2.76165974e-01\n",
      "   3.96796679e-02  7.97974497e-02 -8.98773470e-03  4.80886533e-02\n",
      "   5.65148664e-02 -3.71662501e-01 -8.70345344e-02 -6.81253545e-02\n",
      "   4.40335022e-02 -3.47316941e-02]\n",
      " [ 1.19672210e-02  2.03461333e-01  4.41095119e-02  6.73757121e-02\n",
      "   4.55736024e-02  2.29281285e-01  3.87090829e-01  1.32138086e-01\n",
      "   1.89933674e-01  1.06239090e-01 -6.81952335e-02 -1.68222383e-01\n",
      "  -3.78439933e-02  5.60649440e-02  1.50441434e-01  1.00401706e-02\n",
      "   1.58783189e-01 -4.94026739e-01  1.03327426e-02 -2.40458324e-01\n",
      "  -1.37890514e-01 -8.01454324e-02 -9.69656922e-02 -1.01160627e-01\n",
      "  -2.05130344e-01  1.22793204e-02  2.17984317e-01 -2.54387488e-01\n",
      "  -2.56534908e-01 -1.72814241e-01]\n",
      " [ 5.95062502e-02 -2.15600936e-02  4.85139157e-02  1.08305307e-02\n",
      "   4.45064872e-01  8.10082254e-03 -1.89358363e-01 -2.44794955e-01\n",
      "   3.07388726e-02 -3.77078760e-01  1.03473819e-02 -1.08493458e-02\n",
      "  -4.55238143e-02  8.35708540e-02 -2.01152526e-01  4.91755946e-01\n",
      "   1.34586872e-01 -1.99666694e-01 -4.68643646e-02  1.45652448e-01\n",
      "   2.31014409e-02  5.34307817e-02  1.22195685e-02 -6.68566037e-03\n",
      "   1.62235443e-01  1.66470389e-01 -6.67991067e-02 -2.76418855e-01\n",
      "   5.35554401e-03 -2.12104149e-01]\n",
      " [ 5.11178900e-02  1.07922372e-01  3.99021484e-02 -1.39644956e-02\n",
      "   1.18143359e-01 -2.30898316e-01  1.28281936e-01  2.17099907e-01\n",
      "   7.39615849e-02 -5.17976506e-01  1.10051122e-01 -3.27527377e-02\n",
      "   8.26875971e-03  4.60231683e-02 -1.85595006e-02 -1.68209344e-01\n",
      "  -2.50471163e-01 -6.20795228e-02  1.13383061e-01  3.53232311e-01\n",
      "  -1.66568291e-01 -1.01115321e-01 -1.82756649e-01 -3.14992084e-01\n",
      "  -4.61259102e-02  4.99549987e-02  2.04836884e-01  1.69499623e-01\n",
      "  -1.39888177e-01  2.56173523e-01]]\n",
      "Explained Variance:\n",
      "[13.30499079  5.7013746   2.82291016  1.98412752  1.65163324  1.20948224\n",
      "  0.67640888  0.47745625  0.41762878  0.35131087  0.29443315  0.26162116\n",
      "  0.24178242  0.15728615  0.0943007 ]\n",
      "Explained Variance Ratio:\n",
      "[0.44272026 0.18971182 0.09393163 0.06602135 0.05495768 0.04024522\n",
      " 0.02250734 0.01588724 0.01389649 0.01168978 0.00979719 0.00870538\n",
      " 0.00804525 0.00523366 0.00313783]\n",
      "Sum of Exmplained Variance Ratio:\n",
      "0.986488122713671\n"
     ]
    }
   ],
   "source": [
    "print(f\"Components:\\n{pca.components_}\")\n",
    "print(f\"Explained Variance:\\n{pca.explained_variance_}\")\n",
    "print(f\"Explained Variance Ratio:\\n{pca.explained_variance_ratio_}\")\n",
    "print(f\"Sum of Exmplained Variance Ratio:\\n{sum(pca.explained_variance_ratio_)}\")"
   ]
  },
  {
   "cell_type": "code",
   "execution_count": 40,
   "metadata": {},
   "outputs": [],
   "source": [
    "colors = [\"red\", \"blue\"]\n",
    "for index, point in enumerate(x_pca):\n",
    "    plt.scatter(point[0], point[1], color=colors[y[index]])\n",
    "plt.show()"
   ]
  },
  {
   "cell_type": "markdown",
   "metadata": {},
   "source": [
    "### Coding Exercise"
   ]
  },
  {
   "cell_type": "markdown",
   "metadata": {},
   "source": [
    "# Aufgabe 1\n",
    "\n",
    "Finde die Anzahl an Dimensionen, um 90% der Varianz \"zu erklären\""
   ]
  },
  {
   "cell_type": "markdown",
   "metadata": {},
   "source": [
    "# Aufgabe 2\n",
    "\n",
    "Wende das gefundene Setup auf die Daten an"
   ]
  },
  {
   "cell_type": "markdown",
   "metadata": {},
   "source": [
    "# Aufgabe 3\n",
    "\n",
    "Split das Dataset in ein Train and Testset"
   ]
  },
  {
   "cell_type": "markdown",
   "metadata": {},
   "source": [
    "# Aufgabe 4\n",
    "\n",
    "Wende den KNN-Classifier auf den transformierten Daten an.  \n",
    "Du kannst dabei auch mit einer For-Schleife die optimale Anzahl an Nachbarn bestimmen."
   ]
  },
  {
   "cell_type": "markdown",
   "metadata": {},
   "source": [
    "# Aufgabe 5\n",
    "\n",
    "Wende den KNN-Classifier auf den Standardisierten (aber nicht PCA transofrmierten) Daten an.  \n",
    "Teste auch hier wieder, welche Anzahl an Nachbarn optimal ist.  \n",
    "Was für Performance-Unterschiede sind zu beobachten?"
   ]
  }
 ],
 "metadata": {
  "kernelspec": {
   "display_name": "Python 3",
   "name": "python3"
  },
  "language_info": {
   "codemirror_mode": {
    "name": "ipython",
    "version": 3
   },
   "file_extension": ".py",
   "mimetype": "text/x-python",
   "name": "python",
   "nbconvert_exporter": "python",
   "pygments_lexer": "ipython3",
   "version": "3.8.8"
  },
  "orig_nbformat": 2
 },
 "nbformat": 4,
 "nbformat_minor": 2
}
